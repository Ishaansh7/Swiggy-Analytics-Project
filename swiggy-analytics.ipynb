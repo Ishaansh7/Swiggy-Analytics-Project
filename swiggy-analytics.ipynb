{
 "cells": [
  {
   "cell_type": "code",
   "execution_count": 1,
   "id": "70558431",
   "metadata": {
    "execution": {
     "iopub.execute_input": "2024-06-20T19:55:14.953516Z",
     "iopub.status.busy": "2024-06-20T19:55:14.952499Z",
     "iopub.status.idle": "2024-06-20T19:55:14.958258Z",
     "shell.execute_reply": "2024-06-20T19:55:14.957335Z"
    },
    "papermill": {
     "duration": 0.030202,
     "end_time": "2024-06-20T19:55:14.960615",
     "exception": false,
     "start_time": "2024-06-20T19:55:14.930413",
     "status": "completed"
    },
    "tags": []
   },
   "outputs": [],
   "source": [
    "# Importing Libraries"
   ]
  },
  {
   "cell_type": "code",
   "execution_count": 2,
   "id": "15993524",
   "metadata": {
    "execution": {
     "iopub.execute_input": "2024-06-20T19:55:14.994495Z",
     "iopub.status.busy": "2024-06-20T19:55:14.993280Z",
     "iopub.status.idle": "2024-06-20T19:55:16.394186Z",
     "shell.execute_reply": "2024-06-20T19:55:16.393004Z"
    },
    "papermill": {
     "duration": 1.42062,
     "end_time": "2024-06-20T19:55:16.396776",
     "exception": false,
     "start_time": "2024-06-20T19:55:14.976156",
     "status": "completed"
    },
    "tags": []
   },
   "outputs": [],
   "source": [
    "import numpy as np # linear algebra\n",
    "import pandas as pd # data processing, CSV file I/O (e.g. pd.read_csv)\n",
    "import matplotlib.pyplot as plt\n",
    "import seaborn as sns\n",
    "import re\n",
    "plt.style.use('dark_background')"
   ]
  },
  {
   "cell_type": "markdown",
   "id": "5d799435",
   "metadata": {
    "papermill": {
     "duration": 0.014863,
     "end_time": "2024-06-20T19:55:16.427016",
     "exception": false,
     "start_time": "2024-06-20T19:55:16.412153",
     "status": "completed"
    },
    "tags": []
   },
   "source": [
    "#  Reading CSV"
   ]
  },
  {
   "cell_type": "code",
   "execution_count": 3,
   "id": "930241b6",
   "metadata": {
    "execution": {
     "iopub.execute_input": "2024-06-20T19:55:16.459305Z",
     "iopub.status.busy": "2024-06-20T19:55:16.458908Z",
     "iopub.status.idle": "2024-06-20T19:55:16.507580Z",
     "shell.execute_reply": "2024-06-20T19:55:16.506372Z"
    },
    "papermill": {
     "duration": 0.067487,
     "end_time": "2024-06-20T19:55:16.509940",
     "exception": false,
     "start_time": "2024-06-20T19:55:16.442453",
     "status": "completed"
    },
    "tags": []
   },
   "outputs": [
    {
     "data": {
      "text/html": [
       "<div>\n",
       "<style scoped>\n",
       "    .dataframe tbody tr th:only-of-type {\n",
       "        vertical-align: middle;\n",
       "    }\n",
       "\n",
       "    .dataframe tbody tr th {\n",
       "        vertical-align: top;\n",
       "    }\n",
       "\n",
       "    .dataframe thead th {\n",
       "        text-align: right;\n",
       "    }\n",
       "</style>\n",
       "<table border=\"1\" class=\"dataframe\">\n",
       "  <thead>\n",
       "    <tr style=\"text-align: right;\">\n",
       "      <th></th>\n",
       "      <th>name</th>\n",
       "      <th>cuisine</th>\n",
       "      <th>location</th>\n",
       "      <th>rating</th>\n",
       "      <th>num_of_rating</th>\n",
       "      <th>price_for_two</th>\n",
       "    </tr>\n",
       "  </thead>\n",
       "  <tbody>\n",
       "    <tr>\n",
       "      <th>0</th>\n",
       "      <td>Momo Maker</td>\n",
       "      <td>Snacks, Tandoor</td>\n",
       "      <td>CentraL Market, Lajpat Nagar</td>\n",
       "      <td>4.7</td>\n",
       "      <td>20+ ratings</td>\n",
       "      <td>₹ 200</td>\n",
       "    </tr>\n",
       "    <tr>\n",
       "      <th>1</th>\n",
       "      <td>Moets Kulfi</td>\n",
       "      <td>Desserts, Beverages</td>\n",
       "      <td>Defence colony market, Defence Colony</td>\n",
       "      <td>4.7</td>\n",
       "      <td>50+ ratings</td>\n",
       "      <td>₹ 200</td>\n",
       "    </tr>\n",
       "    <tr>\n",
       "      <th>2</th>\n",
       "      <td>Behrouz Biryani - Royal &amp; Safe</td>\n",
       "      <td>Biryani, Mughlai</td>\n",
       "      <td>Near Metro Station, Shakarpur Khas</td>\n",
       "      <td>4.7</td>\n",
       "      <td>1K+ ratings</td>\n",
       "      <td>₹ 500</td>\n",
       "    </tr>\n",
       "    <tr>\n",
       "      <th>3</th>\n",
       "      <td>Triveni Terrace Cafe</td>\n",
       "      <td>Indian</td>\n",
       "      <td>Opposite FICCI Auditorium, Mandi House</td>\n",
       "      <td>4.7</td>\n",
       "      <td>50+ ratings</td>\n",
       "      <td>₹ 400</td>\n",
       "    </tr>\n",
       "    <tr>\n",
       "      <th>4</th>\n",
       "      <td>Momo Guy</td>\n",
       "      <td>Chinese, Tibetan</td>\n",
       "      <td>GTB Nagar, GTB Nagar</td>\n",
       "      <td>4.6</td>\n",
       "      <td>20+ ratings</td>\n",
       "      <td>₹ 200</td>\n",
       "    </tr>\n",
       "  </tbody>\n",
       "</table>\n",
       "</div>"
      ],
      "text/plain": [
       "                             name              cuisine  \\\n",
       "0                      Momo Maker      Snacks, Tandoor   \n",
       "1                     Moets Kulfi  Desserts, Beverages   \n",
       "2  Behrouz Biryani - Royal & Safe     Biryani, Mughlai   \n",
       "3            Triveni Terrace Cafe               Indian   \n",
       "4                        Momo Guy     Chinese, Tibetan   \n",
       "\n",
       "                                 location rating num_of_rating price_for_two  \n",
       "0            CentraL Market, Lajpat Nagar    4.7   20+ ratings         ₹ 200  \n",
       "1   Defence colony market, Defence Colony    4.7   50+ ratings         ₹ 200  \n",
       "2      Near Metro Station, Shakarpur Khas    4.7   1K+ ratings         ₹ 500  \n",
       "3  Opposite FICCI Auditorium, Mandi House    4.7   50+ ratings         ₹ 400  \n",
       "4                    GTB Nagar, GTB Nagar    4.6   20+ ratings         ₹ 200  "
      ]
     },
     "execution_count": 3,
     "metadata": {},
     "output_type": "execute_result"
    }
   ],
   "source": [
    "df = pd.read_csv('../input/swiggys-top-rated-restaurants-in-delhi/rest_delhi1.csv')\n",
    "df.head()"
   ]
  },
  {
   "cell_type": "code",
   "execution_count": 4,
   "id": "4ed9d2f8",
   "metadata": {
    "execution": {
     "iopub.execute_input": "2024-06-20T19:55:16.542471Z",
     "iopub.status.busy": "2024-06-20T19:55:16.542046Z",
     "iopub.status.idle": "2024-06-20T19:55:16.549112Z",
     "shell.execute_reply": "2024-06-20T19:55:16.548078Z"
    },
    "papermill": {
     "duration": 0.025675,
     "end_time": "2024-06-20T19:55:16.551170",
     "exception": false,
     "start_time": "2024-06-20T19:55:16.525495",
     "status": "completed"
    },
    "tags": []
   },
   "outputs": [
    {
     "data": {
      "text/plain": [
       "(912, 6)"
      ]
     },
     "execution_count": 4,
     "metadata": {},
     "output_type": "execute_result"
    }
   ],
   "source": [
    "df.shape"
   ]
  },
  {
   "cell_type": "code",
   "execution_count": 5,
   "id": "606c85a4",
   "metadata": {
    "execution": {
     "iopub.execute_input": "2024-06-20T19:55:16.583726Z",
     "iopub.status.busy": "2024-06-20T19:55:16.583285Z",
     "iopub.status.idle": "2024-06-20T19:55:16.590473Z",
     "shell.execute_reply": "2024-06-20T19:55:16.589359Z"
    },
    "papermill": {
     "duration": 0.026098,
     "end_time": "2024-06-20T19:55:16.592768",
     "exception": false,
     "start_time": "2024-06-20T19:55:16.566670",
     "status": "completed"
    },
    "tags": []
   },
   "outputs": [
    {
     "data": {
      "text/plain": [
       "Index(['name', 'cuisine', 'location', 'rating', 'num_of_rating',\n",
       "       'price_for_two'],\n",
       "      dtype='object')"
      ]
     },
     "execution_count": 5,
     "metadata": {},
     "output_type": "execute_result"
    }
   ],
   "source": [
    "df.columns"
   ]
  },
  {
   "cell_type": "code",
   "execution_count": 6,
   "id": "5dc0dffb",
   "metadata": {
    "execution": {
     "iopub.execute_input": "2024-06-20T19:55:16.626713Z",
     "iopub.status.busy": "2024-06-20T19:55:16.626219Z",
     "iopub.status.idle": "2024-06-20T19:55:16.650586Z",
     "shell.execute_reply": "2024-06-20T19:55:16.649456Z"
    },
    "papermill": {
     "duration": 0.044114,
     "end_time": "2024-06-20T19:55:16.653286",
     "exception": false,
     "start_time": "2024-06-20T19:55:16.609172",
     "status": "completed"
    },
    "tags": []
   },
   "outputs": [
    {
     "name": "stdout",
     "output_type": "stream",
     "text": [
      "<class 'pandas.core.frame.DataFrame'>\n",
      "RangeIndex: 912 entries, 0 to 911\n",
      "Data columns (total 6 columns):\n",
      " #   Column         Non-Null Count  Dtype \n",
      "---  ------         --------------  ----- \n",
      " 0   name           912 non-null    object\n",
      " 1   cuisine        912 non-null    object\n",
      " 2   location       912 non-null    object\n",
      " 3   rating         912 non-null    object\n",
      " 4   num_of_rating  912 non-null    object\n",
      " 5   price_for_two  912 non-null    object\n",
      "dtypes: object(6)\n",
      "memory usage: 42.9+ KB\n"
     ]
    }
   ],
   "source": [
    "df.info()"
   ]
  },
  {
   "cell_type": "markdown",
   "id": "0166ffe0",
   "metadata": {
    "papermill": {
     "duration": 0.015251,
     "end_time": "2024-06-20T19:55:16.684334",
     "exception": false,
     "start_time": "2024-06-20T19:55:16.669083",
     "status": "completed"
    },
    "tags": []
   },
   "source": [
    "# Dropping Duplicates"
   ]
  },
  {
   "cell_type": "code",
   "execution_count": 7,
   "id": "6285b551",
   "metadata": {
    "execution": {
     "iopub.execute_input": "2024-06-20T19:55:16.717197Z",
     "iopub.status.busy": "2024-06-20T19:55:16.716816Z",
     "iopub.status.idle": "2024-06-20T19:55:16.727751Z",
     "shell.execute_reply": "2024-06-20T19:55:16.726699Z"
    },
    "papermill": {
     "duration": 0.030074,
     "end_time": "2024-06-20T19:55:16.730010",
     "exception": false,
     "start_time": "2024-06-20T19:55:16.699936",
     "status": "completed"
    },
    "tags": []
   },
   "outputs": [
    {
     "data": {
      "text/plain": [
       "(764, 6)"
      ]
     },
     "execution_count": 7,
     "metadata": {},
     "output_type": "execute_result"
    }
   ],
   "source": [
    "df.drop_duplicates(inplace = True)\n",
    "df.shape"
   ]
  },
  {
   "cell_type": "markdown",
   "id": "ae5572b8",
   "metadata": {
    "papermill": {
     "duration": 0.015558,
     "end_time": "2024-06-20T19:55:16.761454",
     "exception": false,
     "start_time": "2024-06-20T19:55:16.745896",
     "status": "completed"
    },
    "tags": []
   },
   "source": [
    "# Data Cleaning "
   ]
  },
  {
   "cell_type": "markdown",
   "id": "db054979",
   "metadata": {
    "papermill": {
     "duration": 0.015316,
     "end_time": "2024-06-20T19:55:16.792436",
     "exception": false,
     "start_time": "2024-06-20T19:55:16.777120",
     "status": "completed"
    },
    "tags": []
   },
   "source": [
    "## Cleaning rating column"
   ]
  },
  {
   "cell_type": "code",
   "execution_count": 8,
   "id": "c102fb74",
   "metadata": {
    "execution": {
     "iopub.execute_input": "2024-06-20T19:55:16.827007Z",
     "iopub.status.busy": "2024-06-20T19:55:16.825778Z",
     "iopub.status.idle": "2024-06-20T19:55:16.833814Z",
     "shell.execute_reply": "2024-06-20T19:55:16.832768Z"
    },
    "papermill": {
     "duration": 0.027866,
     "end_time": "2024-06-20T19:55:16.835923",
     "exception": false,
     "start_time": "2024-06-20T19:55:16.808057",
     "status": "completed"
    },
    "tags": []
   },
   "outputs": [
    {
     "data": {
      "text/plain": [
       "array(['4.7', '4.6', '4.5', '4.4', '4.3', '4.2', '4.1', '4.0', '3.9',\n",
       "       '3.8', '3.7', '3.6', '3.5', '3.4', '3.3', '3.2', '3.1', '3.0',\n",
       "       '2.9', '2.8', '2.7', '2.3', '2.2', '--'], dtype=object)"
      ]
     },
     "execution_count": 8,
     "metadata": {},
     "output_type": "execute_result"
    }
   ],
   "source": [
    "df['rating'].unique()"
   ]
  },
  {
   "cell_type": "markdown",
   "id": "70b57781",
   "metadata": {
    "papermill": {
     "duration": 0.016465,
     "end_time": "2024-06-20T19:55:16.868729",
     "exception": false,
     "start_time": "2024-06-20T19:55:16.852264",
     "status": "completed"
    },
    "tags": []
   },
   "source": [
    "## Removing '--' from rating column"
   ]
  },
  {
   "cell_type": "code",
   "execution_count": 9,
   "id": "4770a1b4",
   "metadata": {
    "execution": {
     "iopub.execute_input": "2024-06-20T19:55:16.902170Z",
     "iopub.status.busy": "2024-06-20T19:55:16.901804Z",
     "iopub.status.idle": "2024-06-20T19:55:16.910836Z",
     "shell.execute_reply": "2024-06-20T19:55:16.909601Z"
    },
    "papermill": {
     "duration": 0.028946,
     "end_time": "2024-06-20T19:55:16.913465",
     "exception": false,
     "start_time": "2024-06-20T19:55:16.884519",
     "status": "completed"
    },
    "tags": []
   },
   "outputs": [
    {
     "name": "stdout",
     "output_type": "stream",
     "text": [
      "[4.7 4.6 4.5 4.4 4.3 4.2 4.1 4.  3.9 3.8 3.7 3.6 3.5 3.4 3.3 3.2 3.1 3.\n",
      " 2.9 2.8 2.7 2.3 2.2 nan]\n"
     ]
    }
   ],
   "source": [
    "def handlerating(value):\n",
    "    if value == '--':\n",
    "        return np.nan\n",
    "    else:\n",
    "        return float(value)\n",
    "\n",
    "df['rating'] = df['rating'].apply(handlerating)\n",
    "\n",
    "\n",
    "unique_ratings = df['rating'].unique()\n",
    "print(unique_ratings)"
   ]
  },
  {
   "cell_type": "code",
   "execution_count": 10,
   "id": "bef1b2a1",
   "metadata": {
    "execution": {
     "iopub.execute_input": "2024-06-20T19:55:16.948942Z",
     "iopub.status.busy": "2024-06-20T19:55:16.948529Z",
     "iopub.status.idle": "2024-06-20T19:55:16.955682Z",
     "shell.execute_reply": "2024-06-20T19:55:16.954611Z"
    },
    "papermill": {
     "duration": 0.026682,
     "end_time": "2024-06-20T19:55:16.957819",
     "exception": false,
     "start_time": "2024-06-20T19:55:16.931137",
     "status": "completed"
    },
    "tags": []
   },
   "outputs": [
    {
     "data": {
      "text/plain": [
       "316"
      ]
     },
     "execution_count": 10,
     "metadata": {},
     "output_type": "execute_result"
    }
   ],
   "source": [
    "df.rating.isnull().sum()"
   ]
  },
  {
   "cell_type": "markdown",
   "id": "cc8926b2",
   "metadata": {
    "papermill": {
     "duration": 0.01565,
     "end_time": "2024-06-20T19:55:16.989531",
     "exception": false,
     "start_time": "2024-06-20T19:55:16.973881",
     "status": "completed"
    },
    "tags": []
   },
   "source": [
    "# Filling Null values in Rating column with Mean"
   ]
  },
  {
   "cell_type": "code",
   "execution_count": 11,
   "id": "e8eebb1a",
   "metadata": {
    "execution": {
     "iopub.execute_input": "2024-06-20T19:55:17.023146Z",
     "iopub.status.busy": "2024-06-20T19:55:17.022751Z",
     "iopub.status.idle": "2024-06-20T19:55:17.031490Z",
     "shell.execute_reply": "2024-06-20T19:55:17.030309Z"
    },
    "papermill": {
     "duration": 0.02843,
     "end_time": "2024-06-20T19:55:17.033897",
     "exception": false,
     "start_time": "2024-06-20T19:55:17.005467",
     "status": "completed"
    },
    "tags": []
   },
   "outputs": [
    {
     "data": {
      "text/plain": [
       "0"
      ]
     },
     "execution_count": 11,
     "metadata": {},
     "output_type": "execute_result"
    }
   ],
   "source": [
    "df['rating'].fillna(df['rating'].mean(), inplace = True)\n",
    "df['rating'].isnull().sum()"
   ]
  },
  {
   "cell_type": "code",
   "execution_count": 12,
   "id": "630cca49",
   "metadata": {
    "execution": {
     "iopub.execute_input": "2024-06-20T19:55:17.068691Z",
     "iopub.status.busy": "2024-06-20T19:55:17.068272Z",
     "iopub.status.idle": "2024-06-20T19:55:17.081535Z",
     "shell.execute_reply": "2024-06-20T19:55:17.080522Z"
    },
    "papermill": {
     "duration": 0.033607,
     "end_time": "2024-06-20T19:55:17.083838",
     "exception": false,
     "start_time": "2024-06-20T19:55:17.050231",
     "status": "completed"
    },
    "tags": []
   },
   "outputs": [
    {
     "name": "stdout",
     "output_type": "stream",
     "text": [
      "<class 'pandas.core.frame.DataFrame'>\n",
      "Int64Index: 764 entries, 0 to 911\n",
      "Data columns (total 6 columns):\n",
      " #   Column         Non-Null Count  Dtype  \n",
      "---  ------         --------------  -----  \n",
      " 0   name           764 non-null    object \n",
      " 1   cuisine        764 non-null    object \n",
      " 2   location       764 non-null    object \n",
      " 3   rating         764 non-null    float64\n",
      " 4   num_of_rating  764 non-null    object \n",
      " 5   price_for_two  764 non-null    object \n",
      "dtypes: float64(1), object(5)\n",
      "memory usage: 41.8+ KB\n"
     ]
    }
   ],
   "source": [
    "df.info()"
   ]
  },
  {
   "cell_type": "code",
   "execution_count": 13,
   "id": "3fa94f51",
   "metadata": {
    "execution": {
     "iopub.execute_input": "2024-06-20T19:55:17.118152Z",
     "iopub.status.busy": "2024-06-20T19:55:17.117779Z",
     "iopub.status.idle": "2024-06-20T19:55:17.131329Z",
     "shell.execute_reply": "2024-06-20T19:55:17.130336Z"
    },
    "papermill": {
     "duration": 0.033443,
     "end_time": "2024-06-20T19:55:17.133607",
     "exception": false,
     "start_time": "2024-06-20T19:55:17.100164",
     "status": "completed"
    },
    "tags": []
   },
   "outputs": [
    {
     "data": {
      "text/html": [
       "<div>\n",
       "<style scoped>\n",
       "    .dataframe tbody tr th:only-of-type {\n",
       "        vertical-align: middle;\n",
       "    }\n",
       "\n",
       "    .dataframe tbody tr th {\n",
       "        vertical-align: top;\n",
       "    }\n",
       "\n",
       "    .dataframe thead th {\n",
       "        text-align: right;\n",
       "    }\n",
       "</style>\n",
       "<table border=\"1\" class=\"dataframe\">\n",
       "  <thead>\n",
       "    <tr style=\"text-align: right;\">\n",
       "      <th></th>\n",
       "      <th>name</th>\n",
       "      <th>cuisine</th>\n",
       "      <th>location</th>\n",
       "      <th>rating</th>\n",
       "      <th>num_of_rating</th>\n",
       "      <th>price_for_two</th>\n",
       "    </tr>\n",
       "  </thead>\n",
       "  <tbody>\n",
       "    <tr>\n",
       "      <th>0</th>\n",
       "      <td>Momo Maker</td>\n",
       "      <td>Snacks, Tandoor</td>\n",
       "      <td>CentraL Market, Lajpat Nagar</td>\n",
       "      <td>4.7</td>\n",
       "      <td>20+ ratings</td>\n",
       "      <td>₹ 200</td>\n",
       "    </tr>\n",
       "    <tr>\n",
       "      <th>1</th>\n",
       "      <td>Moets Kulfi</td>\n",
       "      <td>Desserts, Beverages</td>\n",
       "      <td>Defence colony market, Defence Colony</td>\n",
       "      <td>4.7</td>\n",
       "      <td>50+ ratings</td>\n",
       "      <td>₹ 200</td>\n",
       "    </tr>\n",
       "    <tr>\n",
       "      <th>2</th>\n",
       "      <td>Behrouz Biryani - Royal &amp; Safe</td>\n",
       "      <td>Biryani, Mughlai</td>\n",
       "      <td>Near Metro Station, Shakarpur Khas</td>\n",
       "      <td>4.7</td>\n",
       "      <td>1K+ ratings</td>\n",
       "      <td>₹ 500</td>\n",
       "    </tr>\n",
       "    <tr>\n",
       "      <th>3</th>\n",
       "      <td>Triveni Terrace Cafe</td>\n",
       "      <td>Indian</td>\n",
       "      <td>Opposite FICCI Auditorium, Mandi House</td>\n",
       "      <td>4.7</td>\n",
       "      <td>50+ ratings</td>\n",
       "      <td>₹ 400</td>\n",
       "    </tr>\n",
       "    <tr>\n",
       "      <th>4</th>\n",
       "      <td>Momo Guy</td>\n",
       "      <td>Chinese, Tibetan</td>\n",
       "      <td>GTB Nagar, GTB Nagar</td>\n",
       "      <td>4.6</td>\n",
       "      <td>20+ ratings</td>\n",
       "      <td>₹ 200</td>\n",
       "    </tr>\n",
       "  </tbody>\n",
       "</table>\n",
       "</div>"
      ],
      "text/plain": [
       "                             name              cuisine  \\\n",
       "0                      Momo Maker      Snacks, Tandoor   \n",
       "1                     Moets Kulfi  Desserts, Beverages   \n",
       "2  Behrouz Biryani - Royal & Safe     Biryani, Mughlai   \n",
       "3            Triveni Terrace Cafe               Indian   \n",
       "4                        Momo Guy     Chinese, Tibetan   \n",
       "\n",
       "                                 location  rating num_of_rating price_for_two  \n",
       "0            CentraL Market, Lajpat Nagar     4.7   20+ ratings         ₹ 200  \n",
       "1   Defence colony market, Defence Colony     4.7   50+ ratings         ₹ 200  \n",
       "2      Near Metro Station, Shakarpur Khas     4.7   1K+ ratings         ₹ 500  \n",
       "3  Opposite FICCI Auditorium, Mandi House     4.7   50+ ratings         ₹ 400  \n",
       "4                    GTB Nagar, GTB Nagar     4.6   20+ ratings         ₹ 200  "
      ]
     },
     "execution_count": 13,
     "metadata": {},
     "output_type": "execute_result"
    }
   ],
   "source": [
    "df.head()"
   ]
  },
  {
   "cell_type": "markdown",
   "id": "7b36d215",
   "metadata": {
    "papermill": {
     "duration": 0.016323,
     "end_time": "2024-06-20T19:55:17.167230",
     "exception": false,
     "start_time": "2024-06-20T19:55:17.150907",
     "status": "completed"
    },
    "tags": []
   },
   "source": [
    "# Renaming a column"
   ]
  },
  {
   "cell_type": "code",
   "execution_count": 14,
   "id": "eeb92ebf",
   "metadata": {
    "execution": {
     "iopub.execute_input": "2024-06-20T19:55:17.202137Z",
     "iopub.status.busy": "2024-06-20T19:55:17.201739Z",
     "iopub.status.idle": "2024-06-20T19:55:17.216481Z",
     "shell.execute_reply": "2024-06-20T19:55:17.215381Z"
    },
    "papermill": {
     "duration": 0.034744,
     "end_time": "2024-06-20T19:55:17.218701",
     "exception": false,
     "start_time": "2024-06-20T19:55:17.183957",
     "status": "completed"
    },
    "tags": []
   },
   "outputs": [
    {
     "data": {
      "text/html": [
       "<div>\n",
       "<style scoped>\n",
       "    .dataframe tbody tr th:only-of-type {\n",
       "        vertical-align: middle;\n",
       "    }\n",
       "\n",
       "    .dataframe tbody tr th {\n",
       "        vertical-align: top;\n",
       "    }\n",
       "\n",
       "    .dataframe thead th {\n",
       "        text-align: right;\n",
       "    }\n",
       "</style>\n",
       "<table border=\"1\" class=\"dataframe\">\n",
       "  <thead>\n",
       "    <tr style=\"text-align: right;\">\n",
       "      <th></th>\n",
       "      <th>name</th>\n",
       "      <th>cuisine</th>\n",
       "      <th>location</th>\n",
       "      <th>rating</th>\n",
       "      <th>num_of_rating</th>\n",
       "      <th>cost2plates</th>\n",
       "    </tr>\n",
       "  </thead>\n",
       "  <tbody>\n",
       "    <tr>\n",
       "      <th>0</th>\n",
       "      <td>Momo Maker</td>\n",
       "      <td>Snacks, Tandoor</td>\n",
       "      <td>CentraL Market, Lajpat Nagar</td>\n",
       "      <td>4.7</td>\n",
       "      <td>20+ ratings</td>\n",
       "      <td>₹ 200</td>\n",
       "    </tr>\n",
       "    <tr>\n",
       "      <th>1</th>\n",
       "      <td>Moets Kulfi</td>\n",
       "      <td>Desserts, Beverages</td>\n",
       "      <td>Defence colony market, Defence Colony</td>\n",
       "      <td>4.7</td>\n",
       "      <td>50+ ratings</td>\n",
       "      <td>₹ 200</td>\n",
       "    </tr>\n",
       "    <tr>\n",
       "      <th>2</th>\n",
       "      <td>Behrouz Biryani - Royal &amp; Safe</td>\n",
       "      <td>Biryani, Mughlai</td>\n",
       "      <td>Near Metro Station, Shakarpur Khas</td>\n",
       "      <td>4.7</td>\n",
       "      <td>1K+ ratings</td>\n",
       "      <td>₹ 500</td>\n",
       "    </tr>\n",
       "    <tr>\n",
       "      <th>3</th>\n",
       "      <td>Triveni Terrace Cafe</td>\n",
       "      <td>Indian</td>\n",
       "      <td>Opposite FICCI Auditorium, Mandi House</td>\n",
       "      <td>4.7</td>\n",
       "      <td>50+ ratings</td>\n",
       "      <td>₹ 400</td>\n",
       "    </tr>\n",
       "    <tr>\n",
       "      <th>4</th>\n",
       "      <td>Momo Guy</td>\n",
       "      <td>Chinese, Tibetan</td>\n",
       "      <td>GTB Nagar, GTB Nagar</td>\n",
       "      <td>4.6</td>\n",
       "      <td>20+ ratings</td>\n",
       "      <td>₹ 200</td>\n",
       "    </tr>\n",
       "  </tbody>\n",
       "</table>\n",
       "</div>"
      ],
      "text/plain": [
       "                             name              cuisine  \\\n",
       "0                      Momo Maker      Snacks, Tandoor   \n",
       "1                     Moets Kulfi  Desserts, Beverages   \n",
       "2  Behrouz Biryani - Royal & Safe     Biryani, Mughlai   \n",
       "3            Triveni Terrace Cafe               Indian   \n",
       "4                        Momo Guy     Chinese, Tibetan   \n",
       "\n",
       "                                 location  rating num_of_rating cost2plates  \n",
       "0            CentraL Market, Lajpat Nagar     4.7   20+ ratings       ₹ 200  \n",
       "1   Defence colony market, Defence Colony     4.7   50+ ratings       ₹ 200  \n",
       "2      Near Metro Station, Shakarpur Khas     4.7   1K+ ratings       ₹ 500  \n",
       "3  Opposite FICCI Auditorium, Mandi House     4.7   50+ ratings       ₹ 400  \n",
       "4                    GTB Nagar, GTB Nagar     4.6   20+ ratings       ₹ 200  "
      ]
     },
     "execution_count": 14,
     "metadata": {},
     "output_type": "execute_result"
    }
   ],
   "source": [
    "df.rename(columns = {'price_for_two':'cost2plates'},inplace=True)\n",
    "df.head()"
   ]
  },
  {
   "cell_type": "markdown",
   "id": "c47f61f0",
   "metadata": {
    "papermill": {
     "duration": 0.016586,
     "end_time": "2024-06-20T19:55:17.251909",
     "exception": false,
     "start_time": "2024-06-20T19:55:17.235323",
     "status": "completed"
    },
    "tags": []
   },
   "source": [
    "# Cleaning cost2plates column"
   ]
  },
  {
   "cell_type": "code",
   "execution_count": 15,
   "id": "ec626521",
   "metadata": {
    "execution": {
     "iopub.execute_input": "2024-06-20T19:55:17.287253Z",
     "iopub.status.busy": "2024-06-20T19:55:17.286866Z",
     "iopub.status.idle": "2024-06-20T19:55:17.294056Z",
     "shell.execute_reply": "2024-06-20T19:55:17.293097Z"
    },
    "papermill": {
     "duration": 0.027606,
     "end_time": "2024-06-20T19:55:17.296242",
     "exception": false,
     "start_time": "2024-06-20T19:55:17.268636",
     "status": "completed"
    },
    "tags": []
   },
   "outputs": [
    {
     "data": {
      "text/plain": [
       "array(['₹ 200', '₹ 500', '₹ 400', '₹ 150', '₹ 350', '₹ 600', '₹ 300',\n",
       "       '₹ 1500', '₹ 1400', '₹ 800', '₹ 250', '₹ 120', '₹ 100', '₹ 550',\n",
       "       '₹ 450', '₹ 1200', '₹ 220', '₹ 1100', '₹ 900', '₹ 180', '₹ 1000',\n",
       "       '₹ 1800', '₹ 225', '₹ 850', '₹ 700', '₹ 229', '₹ 160', '₹ 270',\n",
       "       '₹ 1050', '₹ 149', '₹ 299', '₹ 499', '₹ 80', '₹ 75', '₹ 430',\n",
       "       '₹ 1300', '₹ 99', '₹ 280', '₹ 240', '₹ 750', '₹ 399'], dtype=object)"
      ]
     },
     "execution_count": 15,
     "metadata": {},
     "output_type": "execute_result"
    }
   ],
   "source": [
    "df['cost2plates'].unique()"
   ]
  },
  {
   "cell_type": "code",
   "execution_count": 16,
   "id": "7d00bd04",
   "metadata": {
    "execution": {
     "iopub.execute_input": "2024-06-20T19:55:17.332552Z",
     "iopub.status.busy": "2024-06-20T19:55:17.331352Z",
     "iopub.status.idle": "2024-06-20T19:55:17.342223Z",
     "shell.execute_reply": "2024-06-20T19:55:17.341216Z"
    },
    "papermill": {
     "duration": 0.031271,
     "end_time": "2024-06-20T19:55:17.344485",
     "exception": false,
     "start_time": "2024-06-20T19:55:17.313214",
     "status": "completed"
    },
    "tags": []
   },
   "outputs": [
    {
     "data": {
      "text/plain": [
       "array([ 200.,  500.,  400.,  150.,  350.,  600.,  300., 1500., 1400.,\n",
       "        800.,  250.,  120.,  100.,  550.,  450., 1200.,  220., 1100.,\n",
       "        900.,  180., 1000., 1800.,  225.,  850.,  700.,  229.,  160.,\n",
       "        270., 1050.,  149.,  299.,  499.,   80.,   75.,  430., 1300.,\n",
       "         99.,  280.,  240.,  750.,  399.])"
      ]
     },
     "execution_count": 16,
     "metadata": {},
     "output_type": "execute_result"
    }
   ],
   "source": [
    "def handle_rupeesign(value):\n",
    "    value = str(value)\n",
    "    if '₹' in value:\n",
    "        value = value.replace('₹', '')\n",
    "        return float(value)\n",
    "    else:\n",
    "        return float(value)\n",
    "    \n",
    "df['cost2plates'] = df['cost2plates'].apply(handle_rupeesign)\n",
    "df['cost2plates'].unique()\n",
    "        "
   ]
  },
  {
   "cell_type": "code",
   "execution_count": 17,
   "id": "881dc55e",
   "metadata": {
    "execution": {
     "iopub.execute_input": "2024-06-20T19:55:17.380255Z",
     "iopub.status.busy": "2024-06-20T19:55:17.379878Z",
     "iopub.status.idle": "2024-06-20T19:55:17.393533Z",
     "shell.execute_reply": "2024-06-20T19:55:17.392371Z"
    },
    "papermill": {
     "duration": 0.03429,
     "end_time": "2024-06-20T19:55:17.395778",
     "exception": false,
     "start_time": "2024-06-20T19:55:17.361488",
     "status": "completed"
    },
    "tags": []
   },
   "outputs": [
    {
     "data": {
      "text/html": [
       "<div>\n",
       "<style scoped>\n",
       "    .dataframe tbody tr th:only-of-type {\n",
       "        vertical-align: middle;\n",
       "    }\n",
       "\n",
       "    .dataframe tbody tr th {\n",
       "        vertical-align: top;\n",
       "    }\n",
       "\n",
       "    .dataframe thead th {\n",
       "        text-align: right;\n",
       "    }\n",
       "</style>\n",
       "<table border=\"1\" class=\"dataframe\">\n",
       "  <thead>\n",
       "    <tr style=\"text-align: right;\">\n",
       "      <th></th>\n",
       "      <th>name</th>\n",
       "      <th>cuisine</th>\n",
       "      <th>location</th>\n",
       "      <th>rating</th>\n",
       "      <th>num_of_rating</th>\n",
       "      <th>cost2plates</th>\n",
       "    </tr>\n",
       "  </thead>\n",
       "  <tbody>\n",
       "    <tr>\n",
       "      <th>0</th>\n",
       "      <td>Momo Maker</td>\n",
       "      <td>Snacks, Tandoor</td>\n",
       "      <td>CentraL Market, Lajpat Nagar</td>\n",
       "      <td>4.7</td>\n",
       "      <td>20+ ratings</td>\n",
       "      <td>200.0</td>\n",
       "    </tr>\n",
       "    <tr>\n",
       "      <th>1</th>\n",
       "      <td>Moets Kulfi</td>\n",
       "      <td>Desserts, Beverages</td>\n",
       "      <td>Defence colony market, Defence Colony</td>\n",
       "      <td>4.7</td>\n",
       "      <td>50+ ratings</td>\n",
       "      <td>200.0</td>\n",
       "    </tr>\n",
       "    <tr>\n",
       "      <th>2</th>\n",
       "      <td>Behrouz Biryani - Royal &amp; Safe</td>\n",
       "      <td>Biryani, Mughlai</td>\n",
       "      <td>Near Metro Station, Shakarpur Khas</td>\n",
       "      <td>4.7</td>\n",
       "      <td>1K+ ratings</td>\n",
       "      <td>500.0</td>\n",
       "    </tr>\n",
       "    <tr>\n",
       "      <th>3</th>\n",
       "      <td>Triveni Terrace Cafe</td>\n",
       "      <td>Indian</td>\n",
       "      <td>Opposite FICCI Auditorium, Mandi House</td>\n",
       "      <td>4.7</td>\n",
       "      <td>50+ ratings</td>\n",
       "      <td>400.0</td>\n",
       "    </tr>\n",
       "    <tr>\n",
       "      <th>4</th>\n",
       "      <td>Momo Guy</td>\n",
       "      <td>Chinese, Tibetan</td>\n",
       "      <td>GTB Nagar, GTB Nagar</td>\n",
       "      <td>4.6</td>\n",
       "      <td>20+ ratings</td>\n",
       "      <td>200.0</td>\n",
       "    </tr>\n",
       "  </tbody>\n",
       "</table>\n",
       "</div>"
      ],
      "text/plain": [
       "                             name              cuisine  \\\n",
       "0                      Momo Maker      Snacks, Tandoor   \n",
       "1                     Moets Kulfi  Desserts, Beverages   \n",
       "2  Behrouz Biryani - Royal & Safe     Biryani, Mughlai   \n",
       "3            Triveni Terrace Cafe               Indian   \n",
       "4                        Momo Guy     Chinese, Tibetan   \n",
       "\n",
       "                                 location  rating num_of_rating  cost2plates  \n",
       "0            CentraL Market, Lajpat Nagar     4.7   20+ ratings        200.0  \n",
       "1   Defence colony market, Defence Colony     4.7   50+ ratings        200.0  \n",
       "2      Near Metro Station, Shakarpur Khas     4.7   1K+ ratings        500.0  \n",
       "3  Opposite FICCI Auditorium, Mandi House     4.7   50+ ratings        400.0  \n",
       "4                    GTB Nagar, GTB Nagar     4.6   20+ ratings        200.0  "
      ]
     },
     "execution_count": 17,
     "metadata": {},
     "output_type": "execute_result"
    }
   ],
   "source": [
    "df.head()"
   ]
  },
  {
   "cell_type": "markdown",
   "id": "25f047a9",
   "metadata": {
    "papermill": {
     "duration": 0.01718,
     "end_time": "2024-06-20T19:55:17.430156",
     "exception": false,
     "start_time": "2024-06-20T19:55:17.412976",
     "status": "completed"
    },
    "tags": []
   },
   "source": [
    "# cleaning num_of_rating column\n"
   ]
  },
  {
   "cell_type": "code",
   "execution_count": 18,
   "id": "d3952a82",
   "metadata": {
    "execution": {
     "iopub.execute_input": "2024-06-20T19:55:17.466119Z",
     "iopub.status.busy": "2024-06-20T19:55:17.465713Z",
     "iopub.status.idle": "2024-06-20T19:55:17.472848Z",
     "shell.execute_reply": "2024-06-20T19:55:17.471838Z"
    },
    "papermill": {
     "duration": 0.027649,
     "end_time": "2024-06-20T19:55:17.474946",
     "exception": false,
     "start_time": "2024-06-20T19:55:17.447297",
     "status": "completed"
    },
    "tags": []
   },
   "outputs": [
    {
     "data": {
      "text/plain": [
       "array(['20+ ratings', '50+ ratings', '1K+ ratings', '100+ ratings',\n",
       "       '500+ ratings', 'Too Few Ratings'], dtype=object)"
      ]
     },
     "execution_count": 18,
     "metadata": {},
     "output_type": "execute_result"
    }
   ],
   "source": [
    "df['num_of_rating'].unique()"
   ]
  },
  {
   "cell_type": "code",
   "execution_count": 19,
   "id": "6fa10ad6",
   "metadata": {
    "execution": {
     "iopub.execute_input": "2024-06-20T19:55:17.511702Z",
     "iopub.status.busy": "2024-06-20T19:55:17.511248Z",
     "iopub.status.idle": "2024-06-20T19:55:17.520002Z",
     "shell.execute_reply": "2024-06-20T19:55:17.518945Z"
    },
    "papermill": {
     "duration": 0.02924,
     "end_time": "2024-06-20T19:55:17.521978",
     "exception": false,
     "start_time": "2024-06-20T19:55:17.492738",
     "status": "completed"
    },
    "tags": []
   },
   "outputs": [
    {
     "data": {
      "text/plain": [
       "0          20+ ratings\n",
       "1          50+ ratings\n",
       "2          1K+ ratings\n",
       "3          50+ ratings\n",
       "4          20+ ratings\n",
       "            ...       \n",
       "907    Too Few Ratings\n",
       "908    Too Few Ratings\n",
       "909    Too Few Ratings\n",
       "910    Too Few Ratings\n",
       "911    Too Few Ratings\n",
       "Name: num_of_rating, Length: 764, dtype: object"
      ]
     },
     "execution_count": 19,
     "metadata": {},
     "output_type": "execute_result"
    }
   ],
   "source": [
    "df[\"num_of_rating\"]"
   ]
  },
  {
   "cell_type": "code",
   "execution_count": 20,
   "id": "891757e0",
   "metadata": {
    "execution": {
     "iopub.execute_input": "2024-06-20T19:55:17.558907Z",
     "iopub.status.busy": "2024-06-20T19:55:17.558235Z",
     "iopub.status.idle": "2024-06-20T19:55:17.568487Z",
     "shell.execute_reply": "2024-06-20T19:55:17.567520Z"
    },
    "papermill": {
     "duration": 0.031188,
     "end_time": "2024-06-20T19:55:17.570537",
     "exception": false,
     "start_time": "2024-06-20T19:55:17.539349",
     "status": "completed"
    },
    "tags": []
   },
   "outputs": [
    {
     "data": {
      "text/plain": [
       "array(['20', '50', '1K', '100', '500', 'Too Few Ratings'], dtype=object)"
      ]
     },
     "execution_count": 20,
     "metadata": {},
     "output_type": "execute_result"
    }
   ],
   "source": [
    "def handle_num_of_rate(value):\n",
    "    value = str(value)\n",
    "    if '+ ratings' in value:\n",
    "        value = value.replace('+ ratings', '')\n",
    "        return value\n",
    "    elif 'K' in value:\n",
    "        value = value.replace('K', '')\n",
    "        return value\n",
    "    else:\n",
    "       # value = str(value).split('+')\n",
    "       # value = value[0]\n",
    "        return value\n",
    "df['num_of_rating'] = df['num_of_rating'].apply(handle_num_of_rate)\n",
    "df['num_of_rating'].unique()"
   ]
  },
  {
   "cell_type": "code",
   "execution_count": 21,
   "id": "3687372e",
   "metadata": {
    "execution": {
     "iopub.execute_input": "2024-06-20T19:55:17.607044Z",
     "iopub.status.busy": "2024-06-20T19:55:17.606654Z",
     "iopub.status.idle": "2024-06-20T19:55:17.617043Z",
     "shell.execute_reply": "2024-06-20T19:55:17.615986Z"
    },
    "papermill": {
     "duration": 0.031094,
     "end_time": "2024-06-20T19:55:17.619230",
     "exception": false,
     "start_time": "2024-06-20T19:55:17.588136",
     "status": "completed"
    },
    "tags": []
   },
   "outputs": [
    {
     "data": {
      "text/plain": [
       "array(['20', '50', '1000', '100', '500', '0'], dtype=object)"
      ]
     },
     "execution_count": 21,
     "metadata": {},
     "output_type": "execute_result"
    }
   ],
   "source": [
    "#Replacing too few ratings with 0\n",
    "#Replacing K with 1000\n",
    "def handle_rate(value):\n",
    "    value = str(value)\n",
    "    if 'Too Few Ratings' in value:\n",
    "        value = value.replace('Too Few Ratings',\"0\")\n",
    "        return value\n",
    "    elif 'K' in value:\n",
    "        value = value.replace('1K',\"1000\")\n",
    "        return value\n",
    "    else:\n",
    "        return value\n",
    "df['num_of_rating'] = df['num_of_rating'].apply(handle_rate)\n",
    "df['num_of_rating'].unique()"
   ]
  },
  {
   "cell_type": "code",
   "execution_count": 22,
   "id": "20942e59",
   "metadata": {
    "execution": {
     "iopub.execute_input": "2024-06-20T19:55:17.656678Z",
     "iopub.status.busy": "2024-06-20T19:55:17.655747Z",
     "iopub.status.idle": "2024-06-20T19:55:17.664308Z",
     "shell.execute_reply": "2024-06-20T19:55:17.663303Z"
    },
    "papermill": {
     "duration": 0.029662,
     "end_time": "2024-06-20T19:55:17.666536",
     "exception": false,
     "start_time": "2024-06-20T19:55:17.636874",
     "status": "completed"
    },
    "tags": []
   },
   "outputs": [
    {
     "data": {
      "text/plain": [
       "array(['20', '50', '1000', '100', '500', '0'], dtype=object)"
      ]
     },
     "execution_count": 22,
     "metadata": {},
     "output_type": "execute_result"
    }
   ],
   "source": [
    "df['num_of_rating']=df['num_of_rating'].replace(to_replace = np.nan, value =10)\n",
    "df['num_of_rating'].unique()"
   ]
  },
  {
   "cell_type": "code",
   "execution_count": 23,
   "id": "08322c0e",
   "metadata": {
    "execution": {
     "iopub.execute_input": "2024-06-20T19:55:17.704102Z",
     "iopub.status.busy": "2024-06-20T19:55:17.703704Z",
     "iopub.status.idle": "2024-06-20T19:55:17.712442Z",
     "shell.execute_reply": "2024-06-20T19:55:17.711399Z"
    },
    "papermill": {
     "duration": 0.030192,
     "end_time": "2024-06-20T19:55:17.714851",
     "exception": false,
     "start_time": "2024-06-20T19:55:17.684659",
     "status": "completed"
    },
    "tags": []
   },
   "outputs": [
    {
     "data": {
      "text/plain": [
       "0"
      ]
     },
     "execution_count": 23,
     "metadata": {},
     "output_type": "execute_result"
    }
   ],
   "source": [
    "df['num_of_rating'].fillna(df['num_of_rating'].mean(), inplace = True)\n",
    "df['num_of_rating'].isnull().sum()"
   ]
  },
  {
   "cell_type": "code",
   "execution_count": 24,
   "id": "156d1d31",
   "metadata": {
    "execution": {
     "iopub.execute_input": "2024-06-20T19:55:17.752396Z",
     "iopub.status.busy": "2024-06-20T19:55:17.752020Z",
     "iopub.status.idle": "2024-06-20T19:55:17.760324Z",
     "shell.execute_reply": "2024-06-20T19:55:17.759339Z"
    },
    "papermill": {
     "duration": 0.029585,
     "end_time": "2024-06-20T19:55:17.762426",
     "exception": false,
     "start_time": "2024-06-20T19:55:17.732841",
     "status": "completed"
    },
    "tags": []
   },
   "outputs": [
    {
     "data": {
      "text/plain": [
       "0        20\n",
       "1        50\n",
       "2      1000\n",
       "3        50\n",
       "4        20\n",
       "       ... \n",
       "907       0\n",
       "908       0\n",
       "909       0\n",
       "910       0\n",
       "911       0\n",
       "Name: num_of_rating, Length: 764, dtype: object"
      ]
     },
     "execution_count": 24,
     "metadata": {},
     "output_type": "execute_result"
    }
   ],
   "source": [
    "df['num_of_rating']"
   ]
  },
  {
   "cell_type": "code",
   "execution_count": 25,
   "id": "cef3295f",
   "metadata": {
    "execution": {
     "iopub.execute_input": "2024-06-20T19:55:17.799996Z",
     "iopub.status.busy": "2024-06-20T19:55:17.799586Z",
     "iopub.status.idle": "2024-06-20T19:55:17.810490Z",
     "shell.execute_reply": "2024-06-20T19:55:17.809394Z"
    },
    "papermill": {
     "duration": 0.032445,
     "end_time": "2024-06-20T19:55:17.812790",
     "exception": false,
     "start_time": "2024-06-20T19:55:17.780345",
     "status": "completed"
    },
    "tags": []
   },
   "outputs": [
    {
     "name": "stdout",
     "output_type": "stream",
     "text": [
      "<class 'pandas.core.series.Series'>\n",
      "Int64Index: 764 entries, 0 to 911\n",
      "Series name: num_of_rating\n",
      "Non-Null Count  Dtype\n",
      "--------------  -----\n",
      "764 non-null    int64\n",
      "dtypes: int64(1)\n",
      "memory usage: 11.9 KB\n"
     ]
    }
   ],
   "source": [
    "#converting num_of_rating string datatype to int\n",
    "df['num_of_rating']= df[\"num_of_rating\"].astype(int)\n",
    "df['num_of_rating'].info()"
   ]
  },
  {
   "cell_type": "markdown",
   "id": "56732d6c",
   "metadata": {
    "papermill": {
     "duration": 0.018534,
     "end_time": "2024-06-20T19:55:17.850600",
     "exception": false,
     "start_time": "2024-06-20T19:55:17.832066",
     "status": "completed"
    },
    "tags": []
   },
   "source": [
    "# Cleaning location column"
   ]
  },
  {
   "cell_type": "code",
   "execution_count": 26,
   "id": "9bc5f93f",
   "metadata": {
    "execution": {
     "iopub.execute_input": "2024-06-20T19:55:17.888452Z",
     "iopub.status.busy": "2024-06-20T19:55:17.888037Z",
     "iopub.status.idle": "2024-06-20T19:55:17.897232Z",
     "shell.execute_reply": "2024-06-20T19:55:17.896209Z"
    },
    "papermill": {
     "duration": 0.030786,
     "end_time": "2024-06-20T19:55:17.899471",
     "exception": false,
     "start_time": "2024-06-20T19:55:17.868685",
     "status": "completed"
    },
    "tags": []
   },
   "outputs": [
    {
     "data": {
      "text/plain": [
       "Laxmi Nagar, Laxmi Nagar                          114\n",
       "Lajpat Nagar, Lajpat Nagar                         59\n",
       "Connaught Place, Connaught Place                   33\n",
       "GTB Nagar, GTB Nagar                               32\n",
       "South Extension, South Extension                   31\n",
       "                                                 ... \n",
       "Opp Rajiv Chowk Metro Station, Connaught Place      1\n",
       "Connaught Circle, Connaught Place                   1\n",
       "Hanuman Road Area, Connaught Place                  1\n",
       "Chuna Mandi, Paharganj, Paharganj                   1\n",
       "South Extension, Hauz Khas                          1\n",
       "Name: location, Length: 301, dtype: int64"
      ]
     },
     "execution_count": 26,
     "metadata": {},
     "output_type": "execute_result"
    }
   ],
   "source": [
    "df['location'].value_counts()"
   ]
  },
  {
   "cell_type": "code",
   "execution_count": 27,
   "id": "71c9142d",
   "metadata": {
    "execution": {
     "iopub.execute_input": "2024-06-20T19:55:17.940271Z",
     "iopub.status.busy": "2024-06-20T19:55:17.939300Z",
     "iopub.status.idle": "2024-06-20T19:55:17.954924Z",
     "shell.execute_reply": "2024-06-20T19:55:17.953635Z"
    },
    "papermill": {
     "duration": 0.038847,
     "end_time": "2024-06-20T19:55:17.957366",
     "exception": false,
     "start_time": "2024-06-20T19:55:17.918519",
     "status": "completed"
    },
    "tags": []
   },
   "outputs": [
    {
     "data": {
      "text/plain": [
       "others                                   228\n",
       "Laxmi Nagar, Laxmi Nagar                 114\n",
       "Lajpat Nagar, Lajpat Nagar                59\n",
       "Connaught Place, Connaught Place          33\n",
       "GTB Nagar, GTB Nagar                      32\n",
       "                                        ... \n",
       "Scindia House, Connaught Place             2\n",
       "Preet Vihar, Preet Vihar                   2\n",
       "South Extension 2, South Extension Ii      2\n",
       "Kotla Mubarak Pur, South Extension I       2\n",
       "South Extension, South Extension Ii        2\n",
       "Name: location, Length: 74, dtype: int64"
      ]
     },
     "execution_count": 27,
     "metadata": {},
     "output_type": "execute_result"
    }
   ],
   "source": [
    "location = df['location'].value_counts(ascending  = False)\n",
    "\n",
    "location_lessthan2 = location[location<2]\n",
    "\n",
    "def handle_location(value):\n",
    "    if(value in location_lessthan2):\n",
    "        return 'others'\n",
    "    else:\n",
    "        return value\n",
    "        \n",
    "df['location'] = df['location'].apply(handle_location)\n",
    "df['location'].value_counts()"
   ]
  },
  {
   "cell_type": "code",
   "execution_count": 28,
   "id": "d5278d88",
   "metadata": {
    "execution": {
     "iopub.execute_input": "2024-06-20T19:55:17.996986Z",
     "iopub.status.busy": "2024-06-20T19:55:17.996525Z",
     "iopub.status.idle": "2024-06-20T19:55:18.009834Z",
     "shell.execute_reply": "2024-06-20T19:55:18.008788Z"
    },
    "papermill": {
     "duration": 0.036404,
     "end_time": "2024-06-20T19:55:18.012097",
     "exception": false,
     "start_time": "2024-06-20T19:55:17.975693",
     "status": "completed"
    },
    "tags": []
   },
   "outputs": [
    {
     "data": {
      "text/html": [
       "<div>\n",
       "<style scoped>\n",
       "    .dataframe tbody tr th:only-of-type {\n",
       "        vertical-align: middle;\n",
       "    }\n",
       "\n",
       "    .dataframe tbody tr th {\n",
       "        vertical-align: top;\n",
       "    }\n",
       "\n",
       "    .dataframe thead th {\n",
       "        text-align: right;\n",
       "    }\n",
       "</style>\n",
       "<table border=\"1\" class=\"dataframe\">\n",
       "  <thead>\n",
       "    <tr style=\"text-align: right;\">\n",
       "      <th></th>\n",
       "      <th>name</th>\n",
       "      <th>cuisine</th>\n",
       "      <th>location</th>\n",
       "      <th>rating</th>\n",
       "      <th>num_of_rating</th>\n",
       "      <th>cost2plates</th>\n",
       "    </tr>\n",
       "  </thead>\n",
       "  <tbody>\n",
       "    <tr>\n",
       "      <th>0</th>\n",
       "      <td>Momo Maker</td>\n",
       "      <td>Snacks, Tandoor</td>\n",
       "      <td>others</td>\n",
       "      <td>4.7</td>\n",
       "      <td>20</td>\n",
       "      <td>200.0</td>\n",
       "    </tr>\n",
       "    <tr>\n",
       "      <th>1</th>\n",
       "      <td>Moets Kulfi</td>\n",
       "      <td>Desserts, Beverages</td>\n",
       "      <td>others</td>\n",
       "      <td>4.7</td>\n",
       "      <td>50</td>\n",
       "      <td>200.0</td>\n",
       "    </tr>\n",
       "    <tr>\n",
       "      <th>2</th>\n",
       "      <td>Behrouz Biryani - Royal &amp; Safe</td>\n",
       "      <td>Biryani, Mughlai</td>\n",
       "      <td>Near Metro Station, Shakarpur Khas</td>\n",
       "      <td>4.7</td>\n",
       "      <td>1000</td>\n",
       "      <td>500.0</td>\n",
       "    </tr>\n",
       "    <tr>\n",
       "      <th>3</th>\n",
       "      <td>Triveni Terrace Cafe</td>\n",
       "      <td>Indian</td>\n",
       "      <td>others</td>\n",
       "      <td>4.7</td>\n",
       "      <td>50</td>\n",
       "      <td>400.0</td>\n",
       "    </tr>\n",
       "    <tr>\n",
       "      <th>4</th>\n",
       "      <td>Momo Guy</td>\n",
       "      <td>Chinese, Tibetan</td>\n",
       "      <td>GTB Nagar, GTB Nagar</td>\n",
       "      <td>4.6</td>\n",
       "      <td>20</td>\n",
       "      <td>200.0</td>\n",
       "    </tr>\n",
       "  </tbody>\n",
       "</table>\n",
       "</div>"
      ],
      "text/plain": [
       "                             name              cuisine  \\\n",
       "0                      Momo Maker      Snacks, Tandoor   \n",
       "1                     Moets Kulfi  Desserts, Beverages   \n",
       "2  Behrouz Biryani - Royal & Safe     Biryani, Mughlai   \n",
       "3            Triveni Terrace Cafe               Indian   \n",
       "4                        Momo Guy     Chinese, Tibetan   \n",
       "\n",
       "                             location  rating  num_of_rating  cost2plates  \n",
       "0                              others     4.7             20        200.0  \n",
       "1                              others     4.7             50        200.0  \n",
       "2  Near Metro Station, Shakarpur Khas     4.7           1000        500.0  \n",
       "3                              others     4.7             50        400.0  \n",
       "4                GTB Nagar, GTB Nagar     4.6             20        200.0  "
      ]
     },
     "execution_count": 28,
     "metadata": {},
     "output_type": "execute_result"
    }
   ],
   "source": [
    "df.head()"
   ]
  },
  {
   "cell_type": "code",
   "execution_count": 29,
   "id": "1de6a960",
   "metadata": {
    "execution": {
     "iopub.execute_input": "2024-06-20T19:55:18.051631Z",
     "iopub.status.busy": "2024-06-20T19:55:18.051207Z",
     "iopub.status.idle": "2024-06-20T19:55:18.061494Z",
     "shell.execute_reply": "2024-06-20T19:55:18.060481Z"
    },
    "papermill": {
     "duration": 0.032666,
     "end_time": "2024-06-20T19:55:18.063836",
     "exception": false,
     "start_time": "2024-06-20T19:55:18.031170",
     "status": "completed"
    },
    "tags": []
   },
   "outputs": [
    {
     "data": {
      "text/plain": [
       "0                others\n",
       "1                others\n",
       "2    Near Metro Station\n",
       "3                others\n",
       "4             GTB Nagar\n",
       "5                others\n",
       "6             GTB Nagar\n",
       "7           Laxmi Nagar\n",
       "8           Ashok Vihar\n",
       "9          PANDAV NAGAR\n",
       "Name: location, dtype: object"
      ]
     },
     "execution_count": 29,
     "metadata": {},
     "output_type": "execute_result"
    }
   ],
   "source": [
    "def handle_location(value):\n",
    "    words = value.split(',') or value.split('-')\n",
    "    return words[0].strip()\n",
    "df['location'] = df['location'].apply(handle_location)\n",
    "df['location'].head(10)"
   ]
  },
  {
   "cell_type": "code",
   "execution_count": 30,
   "id": "e4c40514",
   "metadata": {
    "execution": {
     "iopub.execute_input": "2024-06-20T19:55:18.102669Z",
     "iopub.status.busy": "2024-06-20T19:55:18.102238Z",
     "iopub.status.idle": "2024-06-20T19:55:18.110105Z",
     "shell.execute_reply": "2024-06-20T19:55:18.108889Z"
    },
    "papermill": {
     "duration": 0.029824,
     "end_time": "2024-06-20T19:55:18.112228",
     "exception": false,
     "start_time": "2024-06-20T19:55:18.082404",
     "status": "completed"
    },
    "tags": []
   },
   "outputs": [
    {
     "data": {
      "text/plain": [
       "array(['others', 'Near Metro Station', 'GTB Nagar', 'Laxmi Nagar',\n",
       "       'Ashok Vihar', 'PANDAV NAGAR', 'Lajpat Nagar', 'South Extension',\n",
       "       'Daryaganj', 'Gole Market', 'Connaught Place', 'Kirti Nagar',\n",
       "       'South Campus', 'Old Delhi', 'Hauz Khas', 'Safdarjung Enclave',\n",
       "       'Mayur Vihar', 'Defence Colony', 'Khan Market', 'Rajinder Nagar',\n",
       "       'Middle Circle', 'Greater Kailash 2', 'Moolchand Meetro Station',\n",
       "       'Pandara Road Market', 'Karol Bagh', 'Gautam Nagar',\n",
       "       'Bhikaji Cama Place', 'vijay nagar', 'Vijay nagar', 'Geeta Colony',\n",
       "       'Chuna Mandi Paharganj', 'Outer Circle', 'Scindia House',\n",
       "       'Preet Vihar', 'South Extension 2', 'Kotla Mubarak Pur',\n",
       "       'Jangpura', 'Rajdner Place', 'Chander Nagar', 'Pandav Nagar',\n",
       "       'Malviya Nagar', 'Paharganj', 'Hudson Lane', 'Nagar',\n",
       "       'NDMC Market', 'Shahdara', 'Krishna Nagar', 'R.K Puram',\n",
       "       'Janakpuri'], dtype=object)"
      ]
     },
     "execution_count": 30,
     "metadata": {},
     "output_type": "execute_result"
    }
   ],
   "source": [
    "df['location'].unique()"
   ]
  },
  {
   "cell_type": "markdown",
   "id": "00e1a532",
   "metadata": {
    "papermill": {
     "duration": 0.018275,
     "end_time": "2024-06-20T19:55:18.149254",
     "exception": false,
     "start_time": "2024-06-20T19:55:18.130979",
     "status": "completed"
    },
    "tags": []
   },
   "source": [
    "## Adding a new column named 'zone'"
   ]
  },
  {
   "cell_type": "code",
   "execution_count": 31,
   "id": "6eaad3f0",
   "metadata": {
    "execution": {
     "iopub.execute_input": "2024-06-20T19:55:18.189354Z",
     "iopub.status.busy": "2024-06-20T19:55:18.188429Z",
     "iopub.status.idle": "2024-06-20T19:55:18.209605Z",
     "shell.execute_reply": "2024-06-20T19:55:18.208434Z"
    },
    "papermill": {
     "duration": 0.043823,
     "end_time": "2024-06-20T19:55:18.211861",
     "exception": false,
     "start_time": "2024-06-20T19:55:18.168038",
     "status": "completed"
    },
    "tags": []
   },
   "outputs": [
    {
     "data": {
      "text/html": [
       "<div>\n",
       "<style scoped>\n",
       "    .dataframe tbody tr th:only-of-type {\n",
       "        vertical-align: middle;\n",
       "    }\n",
       "\n",
       "    .dataframe tbody tr th {\n",
       "        vertical-align: top;\n",
       "    }\n",
       "\n",
       "    .dataframe thead th {\n",
       "        text-align: right;\n",
       "    }\n",
       "</style>\n",
       "<table border=\"1\" class=\"dataframe\">\n",
       "  <thead>\n",
       "    <tr style=\"text-align: right;\">\n",
       "      <th></th>\n",
       "      <th>name</th>\n",
       "      <th>cuisine</th>\n",
       "      <th>location</th>\n",
       "      <th>rating</th>\n",
       "      <th>num_of_rating</th>\n",
       "      <th>cost2plates</th>\n",
       "      <th>zone</th>\n",
       "    </tr>\n",
       "  </thead>\n",
       "  <tbody>\n",
       "    <tr>\n",
       "      <th>0</th>\n",
       "      <td>Momo Maker</td>\n",
       "      <td>Snacks, Tandoor</td>\n",
       "      <td>others</td>\n",
       "      <td>4.7</td>\n",
       "      <td>20</td>\n",
       "      <td>200.0</td>\n",
       "      <td>others</td>\n",
       "    </tr>\n",
       "    <tr>\n",
       "      <th>1</th>\n",
       "      <td>Moets Kulfi</td>\n",
       "      <td>Desserts, Beverages</td>\n",
       "      <td>others</td>\n",
       "      <td>4.7</td>\n",
       "      <td>50</td>\n",
       "      <td>200.0</td>\n",
       "      <td>others</td>\n",
       "    </tr>\n",
       "    <tr>\n",
       "      <th>2</th>\n",
       "      <td>Behrouz Biryani - Royal &amp; Safe</td>\n",
       "      <td>Biryani, Mughlai</td>\n",
       "      <td>Near Metro Station</td>\n",
       "      <td>4.7</td>\n",
       "      <td>1000</td>\n",
       "      <td>500.0</td>\n",
       "      <td>Central</td>\n",
       "    </tr>\n",
       "    <tr>\n",
       "      <th>3</th>\n",
       "      <td>Triveni Terrace Cafe</td>\n",
       "      <td>Indian</td>\n",
       "      <td>others</td>\n",
       "      <td>4.7</td>\n",
       "      <td>50</td>\n",
       "      <td>400.0</td>\n",
       "      <td>others</td>\n",
       "    </tr>\n",
       "    <tr>\n",
       "      <th>4</th>\n",
       "      <td>Momo Guy</td>\n",
       "      <td>Chinese, Tibetan</td>\n",
       "      <td>GTB Nagar</td>\n",
       "      <td>4.6</td>\n",
       "      <td>20</td>\n",
       "      <td>200.0</td>\n",
       "      <td>North</td>\n",
       "    </tr>\n",
       "    <tr>\n",
       "      <th>5</th>\n",
       "      <td>Saini Juice</td>\n",
       "      <td>Beverages</td>\n",
       "      <td>others</td>\n",
       "      <td>4.6</td>\n",
       "      <td>100</td>\n",
       "      <td>150.0</td>\n",
       "      <td>others</td>\n",
       "    </tr>\n",
       "    <tr>\n",
       "      <th>6</th>\n",
       "      <td>Teavaro</td>\n",
       "      <td>Beverages, Snacks</td>\n",
       "      <td>GTB Nagar</td>\n",
       "      <td>4.6</td>\n",
       "      <td>50</td>\n",
       "      <td>400.0</td>\n",
       "      <td>North</td>\n",
       "    </tr>\n",
       "    <tr>\n",
       "      <th>7</th>\n",
       "      <td>GANNU'S SHAKES AND SNACKS</td>\n",
       "      <td>Snacks, Beverages</td>\n",
       "      <td>Laxmi Nagar</td>\n",
       "      <td>4.6</td>\n",
       "      <td>20</td>\n",
       "      <td>200.0</td>\n",
       "      <td>East</td>\n",
       "    </tr>\n",
       "    <tr>\n",
       "      <th>8</th>\n",
       "      <td>SABHARWAL AUNTY'S KITCHEN</td>\n",
       "      <td>Indian</td>\n",
       "      <td>Ashok Vihar</td>\n",
       "      <td>4.6</td>\n",
       "      <td>20</td>\n",
       "      <td>350.0</td>\n",
       "      <td>West</td>\n",
       "    </tr>\n",
       "    <tr>\n",
       "      <th>9</th>\n",
       "      <td>PUNIKAR'S Mumbai Street Food</td>\n",
       "      <td>Closes soonSouth Indian</td>\n",
       "      <td>PANDAV NAGAR</td>\n",
       "      <td>4.6</td>\n",
       "      <td>20</td>\n",
       "      <td>150.0</td>\n",
       "      <td>NaN</td>\n",
       "    </tr>\n",
       "  </tbody>\n",
       "</table>\n",
       "</div>"
      ],
      "text/plain": [
       "                             name                  cuisine  \\\n",
       "0                      Momo Maker          Snacks, Tandoor   \n",
       "1                     Moets Kulfi      Desserts, Beverages   \n",
       "2  Behrouz Biryani - Royal & Safe         Biryani, Mughlai   \n",
       "3            Triveni Terrace Cafe                   Indian   \n",
       "4                        Momo Guy         Chinese, Tibetan   \n",
       "5                     Saini Juice                Beverages   \n",
       "6                         Teavaro        Beverages, Snacks   \n",
       "7       GANNU'S SHAKES AND SNACKS        Snacks, Beverages   \n",
       "8       SABHARWAL AUNTY'S KITCHEN                   Indian   \n",
       "9    PUNIKAR'S Mumbai Street Food  Closes soonSouth Indian   \n",
       "\n",
       "             location  rating  num_of_rating  cost2plates     zone  \n",
       "0              others     4.7             20        200.0   others  \n",
       "1              others     4.7             50        200.0   others  \n",
       "2  Near Metro Station     4.7           1000        500.0  Central  \n",
       "3              others     4.7             50        400.0   others  \n",
       "4           GTB Nagar     4.6             20        200.0    North  \n",
       "5              others     4.6            100        150.0   others  \n",
       "6           GTB Nagar     4.6             50        400.0    North  \n",
       "7         Laxmi Nagar     4.6             20        200.0     East  \n",
       "8         Ashok Vihar     4.6             20        350.0     West  \n",
       "9        PANDAV NAGAR     4.6             20        150.0      NaN  "
      ]
     },
     "execution_count": 31,
     "metadata": {},
     "output_type": "execute_result"
    }
   ],
   "source": [
    "zoneDict = {'others':'others', 'GTB Nagar':'North', 'South Extension':'South', 'Connaught Place':'Central',\n",
    "       'Laxmi Nagar':'East','Near Metro Station':'Central', 'Lajpat Nagar':'East','Ashok Vihar':'West','Daryaganj':'Central',\n",
    "       'Gole Market':'Central', 'Kirti Nagar':'West', 'South Campus':'South',\n",
    "       'Old Delhi':'Central', 'Safdarjung Enclave':'South', 'Mayur Vihar':'East', 'Defence Colony':'East',\n",
    "       'Greater Kailash 2':'South', 'Karol Bagh':'Central', 'Nagar':'Central', 'Shahdara':'North',\n",
    "       'Krishna Nagar':'East', 'R.K Puram':'South', 'Janakpuri':'West' }\n",
    "df[\"zone\"] = df[\"location\"].map(zoneDict)\n",
    "df.head(10)"
   ]
  },
  {
   "cell_type": "code",
   "execution_count": 32,
   "id": "2207e36d",
   "metadata": {
    "execution": {
     "iopub.execute_input": "2024-06-20T19:55:18.253255Z",
     "iopub.status.busy": "2024-06-20T19:55:18.252477Z",
     "iopub.status.idle": "2024-06-20T19:55:18.260732Z",
     "shell.execute_reply": "2024-06-20T19:55:18.259602Z"
    },
    "papermill": {
     "duration": 0.032048,
     "end_time": "2024-06-20T19:55:18.263065",
     "exception": false,
     "start_time": "2024-06-20T19:55:18.231017",
     "status": "completed"
    },
    "tags": []
   },
   "outputs": [
    {
     "data": {
      "text/plain": [
       "array([ 200.,  500.,  400.,  150.,  350.,  600.,  300., 1500., 1400.,\n",
       "        800.,  250.,  120.,  100.,  550.,  450., 1200.,  220., 1100.,\n",
       "        900.,  180., 1000., 1800.,  225.,  850.,  700.,  229.,  160.,\n",
       "        270., 1050.,  149.,  299.,  499.,   80.,   75.,  430., 1300.,\n",
       "         99.,  280.,  240.,  750.,  399.])"
      ]
     },
     "execution_count": 32,
     "metadata": {},
     "output_type": "execute_result"
    }
   ],
   "source": [
    "df['cost2plates'].unique()"
   ]
  },
  {
   "cell_type": "code",
   "execution_count": 33,
   "id": "e1bb2713",
   "metadata": {
    "execution": {
     "iopub.execute_input": "2024-06-20T19:55:18.303992Z",
     "iopub.status.busy": "2024-06-20T19:55:18.303624Z",
     "iopub.status.idle": "2024-06-20T19:55:18.310932Z",
     "shell.execute_reply": "2024-06-20T19:55:18.309762Z"
    },
    "papermill": {
     "duration": 0.030268,
     "end_time": "2024-06-20T19:55:18.313226",
     "exception": false,
     "start_time": "2024-06-20T19:55:18.282958",
     "status": "completed"
    },
    "tags": []
   },
   "outputs": [
    {
     "data": {
      "text/plain": [
       "1800.0"
      ]
     },
     "execution_count": 33,
     "metadata": {},
     "output_type": "execute_result"
    }
   ],
   "source": [
    "max_price = df['cost2plates'].max()\n",
    "max_price"
   ]
  },
  {
   "cell_type": "code",
   "execution_count": 34,
   "id": "e1b5f589",
   "metadata": {
    "execution": {
     "iopub.execute_input": "2024-06-20T19:55:18.354015Z",
     "iopub.status.busy": "2024-06-20T19:55:18.353639Z",
     "iopub.status.idle": "2024-06-20T19:55:18.361370Z",
     "shell.execute_reply": "2024-06-20T19:55:18.360243Z"
    },
    "papermill": {
     "duration": 0.03103,
     "end_time": "2024-06-20T19:55:18.363913",
     "exception": false,
     "start_time": "2024-06-20T19:55:18.332883",
     "status": "completed"
    },
    "tags": []
   },
   "outputs": [
    {
     "data": {
      "text/plain": [
       "75.0"
      ]
     },
     "execution_count": 34,
     "metadata": {},
     "output_type": "execute_result"
    }
   ],
   "source": [
    "min_price = df['cost2plates'].min()\n",
    "min_price"
   ]
  },
  {
   "cell_type": "code",
   "execution_count": 35,
   "id": "86c43751",
   "metadata": {
    "execution": {
     "iopub.execute_input": "2024-06-20T19:55:18.404531Z",
     "iopub.status.busy": "2024-06-20T19:55:18.404122Z",
     "iopub.status.idle": "2024-06-20T19:55:18.411101Z",
     "shell.execute_reply": "2024-06-20T19:55:18.409978Z"
    },
    "papermill": {
     "duration": 0.029804,
     "end_time": "2024-06-20T19:55:18.413219",
     "exception": false,
     "start_time": "2024-06-20T19:55:18.383415",
     "status": "completed"
    },
    "tags": []
   },
   "outputs": [
    {
     "name": "stdout",
     "output_type": "stream",
     "text": [
      "75.0 650.0 1225.0\n"
     ]
    }
   ],
   "source": [
    "price_range= max_price - min_price\n",
    "interval_size = price_range / 3\n",
    "part1 = min_price\n",
    "part2 = min_price + interval_size\n",
    "part3 = min_price + (2 * interval_size)\n",
    "print(part1, part2, part3)"
   ]
  },
  {
   "cell_type": "markdown",
   "id": "7a00a943",
   "metadata": {
    "papermill": {
     "duration": 0.019751,
     "end_time": "2024-06-20T19:55:18.453255",
     "exception": false,
     "start_time": "2024-06-20T19:55:18.433504",
     "status": "completed"
    },
    "tags": []
   },
   "source": [
    "## Adding a new column 'price_range' "
   ]
  },
  {
   "cell_type": "code",
   "execution_count": 36,
   "id": "793d652e",
   "metadata": {
    "execution": {
     "iopub.execute_input": "2024-06-20T19:55:18.493509Z",
     "iopub.status.busy": "2024-06-20T19:55:18.493099Z",
     "iopub.status.idle": "2024-06-20T19:55:18.514686Z",
     "shell.execute_reply": "2024-06-20T19:55:18.513612Z"
    },
    "papermill": {
     "duration": 0.044196,
     "end_time": "2024-06-20T19:55:18.516769",
     "exception": false,
     "start_time": "2024-06-20T19:55:18.472573",
     "status": "completed"
    },
    "tags": []
   },
   "outputs": [
    {
     "data": {
      "text/html": [
       "<div>\n",
       "<style scoped>\n",
       "    .dataframe tbody tr th:only-of-type {\n",
       "        vertical-align: middle;\n",
       "    }\n",
       "\n",
       "    .dataframe tbody tr th {\n",
       "        vertical-align: top;\n",
       "    }\n",
       "\n",
       "    .dataframe thead th {\n",
       "        text-align: right;\n",
       "    }\n",
       "</style>\n",
       "<table border=\"1\" class=\"dataframe\">\n",
       "  <thead>\n",
       "    <tr style=\"text-align: right;\">\n",
       "      <th></th>\n",
       "      <th>name</th>\n",
       "      <th>cuisine</th>\n",
       "      <th>location</th>\n",
       "      <th>rating</th>\n",
       "      <th>num_of_rating</th>\n",
       "      <th>cost2plates</th>\n",
       "      <th>zone</th>\n",
       "      <th>price_range</th>\n",
       "    </tr>\n",
       "  </thead>\n",
       "  <tbody>\n",
       "    <tr>\n",
       "      <th>0</th>\n",
       "      <td>Momo Maker</td>\n",
       "      <td>Snacks, Tandoor</td>\n",
       "      <td>others</td>\n",
       "      <td>4.7</td>\n",
       "      <td>20</td>\n",
       "      <td>200.0</td>\n",
       "      <td>others</td>\n",
       "      <td>₹₹</td>\n",
       "    </tr>\n",
       "    <tr>\n",
       "      <th>1</th>\n",
       "      <td>Moets Kulfi</td>\n",
       "      <td>Desserts, Beverages</td>\n",
       "      <td>others</td>\n",
       "      <td>4.7</td>\n",
       "      <td>50</td>\n",
       "      <td>200.0</td>\n",
       "      <td>others</td>\n",
       "      <td>₹₹</td>\n",
       "    </tr>\n",
       "    <tr>\n",
       "      <th>2</th>\n",
       "      <td>Behrouz Biryani - Royal &amp; Safe</td>\n",
       "      <td>Biryani, Mughlai</td>\n",
       "      <td>Near Metro Station</td>\n",
       "      <td>4.7</td>\n",
       "      <td>1000</td>\n",
       "      <td>500.0</td>\n",
       "      <td>Central</td>\n",
       "      <td>₹₹</td>\n",
       "    </tr>\n",
       "    <tr>\n",
       "      <th>3</th>\n",
       "      <td>Triveni Terrace Cafe</td>\n",
       "      <td>Indian</td>\n",
       "      <td>others</td>\n",
       "      <td>4.7</td>\n",
       "      <td>50</td>\n",
       "      <td>400.0</td>\n",
       "      <td>others</td>\n",
       "      <td>₹₹</td>\n",
       "    </tr>\n",
       "    <tr>\n",
       "      <th>4</th>\n",
       "      <td>Momo Guy</td>\n",
       "      <td>Chinese, Tibetan</td>\n",
       "      <td>GTB Nagar</td>\n",
       "      <td>4.6</td>\n",
       "      <td>20</td>\n",
       "      <td>200.0</td>\n",
       "      <td>North</td>\n",
       "      <td>₹₹</td>\n",
       "    </tr>\n",
       "    <tr>\n",
       "      <th>5</th>\n",
       "      <td>Saini Juice</td>\n",
       "      <td>Beverages</td>\n",
       "      <td>others</td>\n",
       "      <td>4.6</td>\n",
       "      <td>100</td>\n",
       "      <td>150.0</td>\n",
       "      <td>others</td>\n",
       "      <td>₹₹</td>\n",
       "    </tr>\n",
       "    <tr>\n",
       "      <th>6</th>\n",
       "      <td>Teavaro</td>\n",
       "      <td>Beverages, Snacks</td>\n",
       "      <td>GTB Nagar</td>\n",
       "      <td>4.6</td>\n",
       "      <td>50</td>\n",
       "      <td>400.0</td>\n",
       "      <td>North</td>\n",
       "      <td>₹₹</td>\n",
       "    </tr>\n",
       "    <tr>\n",
       "      <th>7</th>\n",
       "      <td>GANNU'S SHAKES AND SNACKS</td>\n",
       "      <td>Snacks, Beverages</td>\n",
       "      <td>Laxmi Nagar</td>\n",
       "      <td>4.6</td>\n",
       "      <td>20</td>\n",
       "      <td>200.0</td>\n",
       "      <td>East</td>\n",
       "      <td>₹₹</td>\n",
       "    </tr>\n",
       "    <tr>\n",
       "      <th>8</th>\n",
       "      <td>SABHARWAL AUNTY'S KITCHEN</td>\n",
       "      <td>Indian</td>\n",
       "      <td>Ashok Vihar</td>\n",
       "      <td>4.6</td>\n",
       "      <td>20</td>\n",
       "      <td>350.0</td>\n",
       "      <td>West</td>\n",
       "      <td>₹₹</td>\n",
       "    </tr>\n",
       "    <tr>\n",
       "      <th>9</th>\n",
       "      <td>PUNIKAR'S Mumbai Street Food</td>\n",
       "      <td>Closes soonSouth Indian</td>\n",
       "      <td>PANDAV NAGAR</td>\n",
       "      <td>4.6</td>\n",
       "      <td>20</td>\n",
       "      <td>150.0</td>\n",
       "      <td>NaN</td>\n",
       "      <td>₹₹</td>\n",
       "    </tr>\n",
       "  </tbody>\n",
       "</table>\n",
       "</div>"
      ],
      "text/plain": [
       "                             name                  cuisine  \\\n",
       "0                      Momo Maker          Snacks, Tandoor   \n",
       "1                     Moets Kulfi      Desserts, Beverages   \n",
       "2  Behrouz Biryani - Royal & Safe         Biryani, Mughlai   \n",
       "3            Triveni Terrace Cafe                   Indian   \n",
       "4                        Momo Guy         Chinese, Tibetan   \n",
       "5                     Saini Juice                Beverages   \n",
       "6                         Teavaro        Beverages, Snacks   \n",
       "7       GANNU'S SHAKES AND SNACKS        Snacks, Beverages   \n",
       "8       SABHARWAL AUNTY'S KITCHEN                   Indian   \n",
       "9    PUNIKAR'S Mumbai Street Food  Closes soonSouth Indian   \n",
       "\n",
       "             location  rating  num_of_rating  cost2plates     zone price_range  \n",
       "0              others     4.7             20        200.0   others          ₹₹  \n",
       "1              others     4.7             50        200.0   others          ₹₹  \n",
       "2  Near Metro Station     4.7           1000        500.0  Central          ₹₹  \n",
       "3              others     4.7             50        400.0   others          ₹₹  \n",
       "4           GTB Nagar     4.6             20        200.0    North          ₹₹  \n",
       "5              others     4.6            100        150.0   others          ₹₹  \n",
       "6           GTB Nagar     4.6             50        400.0    North          ₹₹  \n",
       "7         Laxmi Nagar     4.6             20        200.0     East          ₹₹  \n",
       "8         Ashok Vihar     4.6             20        350.0     West          ₹₹  \n",
       "9        PANDAV NAGAR     4.6             20        150.0      NaN          ₹₹  "
      ]
     },
     "execution_count": 36,
     "metadata": {},
     "output_type": "execute_result"
    }
   ],
   "source": [
    "# Define price ranges\n",
    "df.loc[df[\"cost2plates\"] <= 75, \"price_range\"] = \"₹\"\n",
    "df.loc[(df[\"cost2plates\"] > 75) & (df[\"cost2plates\"] <= 650), \"price_range\"] = \"₹₹\"\n",
    "df.loc[(df[\"cost2plates\"] > 650) & (df[\"cost2plates\"] < 1225), \"price_range\"] = \"₹₹₹\"\n",
    "df.loc[df[\"cost2plates\"] >= 1225, \"price_range\"] = \"₹₹₹₹\"\n",
    "\n",
    "df.head(10)"
   ]
  },
  {
   "cell_type": "code",
   "execution_count": 37,
   "id": "07bc47c9",
   "metadata": {
    "execution": {
     "iopub.execute_input": "2024-06-20T19:55:18.558219Z",
     "iopub.status.busy": "2024-06-20T19:55:18.557254Z",
     "iopub.status.idle": "2024-06-20T19:55:18.571121Z",
     "shell.execute_reply": "2024-06-20T19:55:18.570114Z"
    },
    "papermill": {
     "duration": 0.03703,
     "end_time": "2024-06-20T19:55:18.573450",
     "exception": false,
     "start_time": "2024-06-20T19:55:18.536420",
     "status": "completed"
    },
    "tags": []
   },
   "outputs": [
    {
     "name": "stdout",
     "output_type": "stream",
     "text": [
      "<class 'pandas.core.frame.DataFrame'>\n",
      "Int64Index: 764 entries, 0 to 911\n",
      "Data columns (total 8 columns):\n",
      " #   Column         Non-Null Count  Dtype  \n",
      "---  ------         --------------  -----  \n",
      " 0   name           764 non-null    object \n",
      " 1   cuisine        764 non-null    object \n",
      " 2   location       764 non-null    object \n",
      " 3   rating         764 non-null    float64\n",
      " 4   num_of_rating  764 non-null    int64  \n",
      " 5   cost2plates    764 non-null    float64\n",
      " 6   zone           708 non-null    object \n",
      " 7   price_range    764 non-null    object \n",
      "dtypes: float64(2), int64(1), object(5)\n",
      "memory usage: 53.7+ KB\n"
     ]
    }
   ],
   "source": [
    "df.info()"
   ]
  },
  {
   "cell_type": "markdown",
   "id": "81e515dd",
   "metadata": {
    "papermill": {
     "duration": 0.019685,
     "end_time": "2024-06-20T19:55:18.612890",
     "exception": false,
     "start_time": "2024-06-20T19:55:18.593205",
     "status": "completed"
    },
    "tags": []
   },
   "source": [
    "## Cleaning Cuisine column"
   ]
  },
  {
   "cell_type": "code",
   "execution_count": 38,
   "id": "d4d3ad85",
   "metadata": {
    "execution": {
     "iopub.execute_input": "2024-06-20T19:55:18.654800Z",
     "iopub.status.busy": "2024-06-20T19:55:18.654388Z",
     "iopub.status.idle": "2024-06-20T19:55:18.663181Z",
     "shell.execute_reply": "2024-06-20T19:55:18.661751Z"
    },
    "papermill": {
     "duration": 0.032118,
     "end_time": "2024-06-20T19:55:18.665441",
     "exception": false,
     "start_time": "2024-06-20T19:55:18.633323",
     "status": "completed"
    },
    "tags": []
   },
   "outputs": [
    {
     "data": {
      "text/plain": [
       "array(['Snacks, Tandoor', 'Desserts, Beverages', 'Biryani, Mughlai',\n",
       "       'Indian', 'Chinese, Tibetan', 'Beverages', 'Beverages, Snacks',\n",
       "       'Snacks, Beverages', 'Closes soonSouth Indian', 'Bakery, Desserts',\n",
       "       'Mughlai, North Indian', 'American, Beverages', 'Desserts, Bakery',\n",
       "       'Indian, Coastal', 'Salads', 'Italian',\n",
       "       'Ice Cream, Ice Cream Cakes', 'Ice Cream', 'Desserts, Ice Cream',\n",
       "       'North Indian, Chinese', 'North Indian, Indian',\n",
       "       'North Indian, Healthy Food', 'Indian, Thalis', 'Desserts',\n",
       "       'Chinese, Fast Food', 'North Indian, Snacks',\n",
       "       'Ice Cream, Desserts', 'Opens next at 4:10 pm, todayNorth Indian',\n",
       "       'Snacks', 'Beverages, Pizzas', 'Bakery', 'South Indian',\n",
       "       'Indian, North Indian', 'Naga, Chinese', 'Fast Food, Salads',\n",
       "       'North Indian, Grill', 'Bihari, Desserts', 'North Indian',\n",
       "       'Chinese, Thai', 'Asian, Japanese', 'Desserts, Fast Food',\n",
       "       'Beverages, Desserts', 'Chinese, Asian', 'Fast Food',\n",
       "       'South Indian, North Indian', 'Chinese', 'Andhra, South Indian',\n",
       "       'American', 'Rajasthani, Thalis', 'American, Mexican',\n",
       "       'Beverages, Fast Food', 'American, Fast Food', 'Chinese, Japanese',\n",
       "       'Waffle, Desserts', 'Indian, Beverages', 'Desserts, Sweets',\n",
       "       'Biryani', 'Closes soonChinese', 'Biryani, Fast Food',\n",
       "       'Pastas, Italian', 'Asian, Chinese', 'Italian, Indian',\n",
       "       'North Indian, Mughlai', 'Healthy Food, Salads',\n",
       "       'North Indian, Fast Food', 'Snacks, American', 'Japanese',\n",
       "       'Indian, Seafood', 'North Indian, Punjabi', 'Pizzas, Pastas',\n",
       "       'Beverages, Ice Cream', 'Street Food, Desserts',\n",
       "       'Sweets, North Indian', 'North Indian, Tandoor',\n",
       "       'North Indian, Kebabs', 'Juices, Beverages', 'Indian, European',\n",
       "       'Beverages, Juices', 'Afghani', 'Fast Food, Italian',\n",
       "       'Sweets, Snacks', 'Biryani, Chinese', 'Street Food',\n",
       "       'American, Snacks', 'Chinese, North Indian', 'Chaat, Snacks',\n",
       "       'Asian', 'Biryani, North Indian', 'Fast Food, Continental',\n",
       "       'North Indian, Beverages', 'North Indian, South Indian',\n",
       "       'Mughlai, Indian', 'South Indian, Indian', 'Snacks, Fast Food',\n",
       "       'South Indian, Chinese', 'Bakery, Sweets', 'Sweets, South Indian',\n",
       "       'Home Food, Indian', 'Bakery, Beverages', 'South Indian, Biryani',\n",
       "       'Indian, Chinese', 'Mexican', 'Biryani, Hyderabadi',\n",
       "       'Pan-Asian, Chinese', 'Lebanese, Middle Eastern',\n",
       "       'Chinese, Snacks', 'Opens next at 8:30 am, tomorrowNorth Indian',\n",
       "       'North Indian, Continental', 'Tandoor, Indian',\n",
       "       'Arabian, Lebanese', 'Indian, Mughlai', 'Pizzas, Italian',\n",
       "       'Indian, Snacks', 'Beverages, Salads', 'Italian, Mexican',\n",
       "       'Ice Cream, Bakery', 'Sweets', 'Street Food, Sweets',\n",
       "       'Snacks, Indian', 'Mughlai, Kebabs', 'Portuguese, African',\n",
       "       'Pizzas', 'Street Food, North Indian', 'Chinese, Pan-Asian',\n",
       "       'Burgers, Healthy Food', 'American, Pizzas', 'Italian, American',\n",
       "       'South Indian, Fast Food', 'North Indian, Biryani',\n",
       "       'Closes soonStreet Food, Maharashtrian', 'Street Food, Snacks',\n",
       "       'North Indian, Street Food', 'Kebabs, Mughlai',\n",
       "       'Fast Food, Snacks', 'Ice Cream, Healthy Food',\n",
       "       'Pizzas, North Indian', 'North Indian, Home Food',\n",
       "       'Healthy Food, Pizzas', 'North Indian, Barbecue',\n",
       "       'Fast Food, Chaat', 'Snacks, Street Food',\n",
       "       'Fast Food, North Indian', 'South Indian, Beverages',\n",
       "       'Mughlai, Biryani', 'Tibetan, Healthy Food',\n",
       "       'Home Food, North Indian', 'Italian, Continental',\n",
       "       'Opens next at 9:30 am, tomorrowIndian', 'Bengali',\n",
       "       'Sweets, Bakery', 'Sweets, Desserts', 'Italian, Pizzas', 'Mughlai',\n",
       "       'Kerala, South Indian', 'North Indian, Thalis', 'American, Indian',\n",
       "       'American, Italian-American', 'Lebanese, Chinese',\n",
       "       'Closes soonIndian, Chinese', 'Thalis, Indian',\n",
       "       'Pizzas, Continental', 'Salads, Snacks', 'Fast Food, Street Food',\n",
       "       'Continental, American', 'Pizzas, Italian-American',\n",
       "       'Fast Food, Chinese', 'Indian, Biryani',\n",
       "       'Opens next at 12 noon, tomorrowNorth Indian, Chinese',\n",
       "       'Tandoor, Snacks', 'Chinese, Indian', 'Fast Food, South Indian',\n",
       "       'Tandoor, Chinese', 'Continental, Italian', 'Chinese, Continental',\n",
       "       'Desserts, Salads', 'Snacks, Sweets', 'Chinese, Oriental',\n",
       "       'Fast Food, Bakery', 'Biryani, Beverages', 'Biryani, Indian',\n",
       "       'Street Food, Fast Food',\n",
       "       'Opens next at 4:30 pm, todayNorth Indian, Fast Food',\n",
       "       'Opens next at 5 pm, todayIndian', 'Italian-American, Fast Food',\n",
       "       'Italian-American, Chinese', 'Indian, American',\n",
       "       'Opens next at 8:30 am, tomorrowNorth Indian, Punjabi',\n",
       "       'Opens next at 8:30 am, tomorrowPunjabi', 'Continental, Chinese',\n",
       "       'Pizzas, Desserts', 'Bakery, Snacks', 'Fast Food, Beverages',\n",
       "       'Chinese, American', 'Chaat', 'Italian-American', 'Waffle, Bakery',\n",
       "       'Healthy Food, Home Food', 'Korean', 'Continental, Beverages',\n",
       "       'Healthy Food', 'Italian, Fast Food', 'Chinese, Pastas',\n",
       "       'South Indian, Snacks',\n",
       "       'Opens next at 1:30 pm, tomorrowFast Food, American',\n",
       "       'Pizzas, Fast Food', 'Chinese, Biryani',\n",
       "       'Opens next at 11 am, tomorrowChinese', 'Indian, Tandoor',\n",
       "       'Salads, Beverages', 'Tibetan', 'Italian, Asian',\n",
       "       'Indian, Italian', 'Beverages, Chaat', 'Pan-Asian, Tibetan',\n",
       "       'Bakery, Ice Cream', 'Indian, Pizzas', 'Closes soonBakery',\n",
       "       'North Indian, Burgers', 'Bakery, Fast Food', 'Ice Cream, Biryani',\n",
       "       'Fast Food, Pizzas', 'Beverages, Continental',\n",
       "       'Opens next at 2 pm, tomorrowItalian, Pizzas',\n",
       "       'Opens next at 12 noon, tomorrowBiryani', 'Chinese, Burgers',\n",
       "       'Pizzas, Burgers', 'Indian, Punjabi', 'American, Continental',\n",
       "       'North Indian, Combo', 'Burgers, Chinese',\n",
       "       'Opens next at 11 am, tomorrowItalian', 'Continental, Desserts',\n",
       "       'Continental', 'Cafe, Snacks', 'Indian, Kebabs',\n",
       "       'Asian, Pan-Asian', 'Bakery, Italian',\n",
       "       'Opens next at 11 am, tomorrowNorth Indian, Pizzas',\n",
       "       'Indian, Fast Food', 'Pizzas, American', 'Chinese, Punjabi',\n",
       "       'Beverages, Sweets', 'Sushi, Japanese', 'North Indian, Desserts',\n",
       "       'Pizzas, Snacks', 'Pastas', 'Burgers, Beverages',\n",
       "       'Pizzas, Beverages', 'Turkish'], dtype=object)"
      ]
     },
     "execution_count": 38,
     "metadata": {},
     "output_type": "execute_result"
    }
   ],
   "source": [
    "df['cuisine'].unique()"
   ]
  },
  {
   "cell_type": "code",
   "execution_count": 39,
   "id": "f7078194",
   "metadata": {
    "execution": {
     "iopub.execute_input": "2024-06-20T19:55:18.707700Z",
     "iopub.status.busy": "2024-06-20T19:55:18.706695Z",
     "iopub.status.idle": "2024-06-20T19:55:18.716869Z",
     "shell.execute_reply": "2024-06-20T19:55:18.715791Z"
    },
    "papermill": {
     "duration": 0.034034,
     "end_time": "2024-06-20T19:55:18.719625",
     "exception": false,
     "start_time": "2024-06-20T19:55:18.685591",
     "status": "completed"
    },
    "tags": []
   },
   "outputs": [
    {
     "name": "stdout",
     "output_type": "stream",
     "text": [
      "['Snacks, Tandoor' 'Desserts, Beverages' 'Biryani, Mughlai' 'Indian'\n",
      " 'Chinese, Tibetan' 'Beverages' 'Beverages, Snacks' 'Snacks, Beverages'\n",
      " 'South Indian' 'Bakery, Desserts' 'Mughlai, North Indian'\n",
      " 'American, Beverages' 'Desserts, Bakery' 'Indian, Coastal' 'Salads'\n",
      " 'Italian' 'Cakes' '' 'North Indian, Chinese' 'North Indian, Indian'\n",
      " 'North Indian, Healthy Food' 'Indian, Thalis' 'Desserts'\n",
      " 'Chinese, Fast Food' 'North Indian, Snacks' ', Desserts' 'North Indian'\n",
      " 'Snacks' 'Beverages, Pizzas' 'Bakery' 'Indian, North Indian'\n",
      " 'Naga, Chinese' 'Fast Food, Salads' 'North Indian, Grill'\n",
      " 'Bihari, Desserts' 'Chinese, Thai' 'Asian, Japanese'\n",
      " 'Desserts, Fast Food' 'Beverages, Desserts' 'Chinese, Asian' 'Fast Food'\n",
      " 'South Indian, North Indian' 'Chinese' 'Andhra, South Indian' 'American'\n",
      " 'Rajasthani, Thalis' 'American, Mexican' 'Beverages, Fast Food'\n",
      " 'American, Fast Food' 'Chinese, Japanese' 'Waffle, Desserts'\n",
      " 'Indian, Beverages' 'Desserts, Sweets' 'Biryani' 'Biryani, Fast Food'\n",
      " 'Pastas, Italian' 'Asian, Chinese' 'Italian, Indian'\n",
      " 'North Indian, Mughlai' 'Healthy Food, Salads' 'North Indian, Fast Food'\n",
      " 'Snacks, American' 'Japanese' 'Indian, Seafood' 'North Indian, Punjabi'\n",
      " 'Pizzas, Pastas' 'Street Food, Desserts' 'Sweets, North Indian'\n",
      " 'North Indian, Tandoor' 'North Indian, Kebabs' 'Juices, Beverages'\n",
      " 'Indian, European' 'Beverages, Juices' 'Afghani' 'Fast Food, Italian'\n",
      " 'Sweets, Snacks' 'Biryani, Chinese' 'Street Food' 'American, Snacks'\n",
      " 'Chinese, North Indian' 'Chaat, Snacks' 'Asian' 'Biryani, North Indian'\n",
      " 'Fast Food, Continental' 'North Indian, Beverages'\n",
      " 'North Indian, South Indian' 'Mughlai, Indian' 'South Indian, Indian'\n",
      " 'Snacks, Fast Food' 'South Indian, Chinese' 'Bakery, Sweets'\n",
      " 'Sweets, South Indian' 'Home Food, Indian' 'Bakery, Beverages'\n",
      " 'South Indian, Biryani' 'Indian, Chinese' 'Mexican' 'Biryani, Hyderabadi'\n",
      " 'Pan-Asian, Chinese' 'Lebanese, Middle Eastern' 'Chinese, Snacks'\n",
      " 'North Indian, Continental' 'Tandoor, Indian' 'Arabian, Lebanese'\n",
      " 'Indian, Mughlai' 'Pizzas, Italian' 'Indian, Snacks' 'Beverages, Salads'\n",
      " 'Italian, Mexican' ', Bakery' 'Sweets' 'Street Food, Sweets'\n",
      " 'Snacks, Indian' 'Mughlai, Kebabs' 'Portuguese, African' 'Pizzas'\n",
      " 'Street Food, North Indian' 'Chinese, Pan-Asian' 'Burgers, Healthy Food'\n",
      " 'American, Pizzas' 'Italian, American' 'South Indian, Fast Food'\n",
      " 'North Indian, Biryani' 'Street Food, Maharashtrian'\n",
      " 'Street Food, Snacks' 'North Indian, Street Food' 'Kebabs, Mughlai'\n",
      " 'Fast Food, Snacks' ', Healthy Food' 'Pizzas, North Indian'\n",
      " 'North Indian, Home Food' 'Healthy Food, Pizzas' 'North Indian, Barbecue'\n",
      " 'Fast Food, Chaat' 'Snacks, Street Food' 'Fast Food, North Indian'\n",
      " 'South Indian, Beverages' 'Mughlai, Biryani' 'Tibetan, Healthy Food'\n",
      " 'Home Food, North Indian' 'Italian, Continental' 'Bengali'\n",
      " 'Sweets, Bakery' 'Sweets, Desserts' 'Italian, Pizzas' 'Mughlai'\n",
      " 'Kerala, South Indian' 'North Indian, Thalis' 'American, Indian'\n",
      " 'American, Italian-American' 'Lebanese, Chinese' 'Thalis, Indian'\n",
      " 'Pizzas, Continental' 'Salads, Snacks' 'Fast Food, Street Food'\n",
      " 'Continental, American' 'Pizzas, Italian-American' 'Fast Food, Chinese'\n",
      " 'Indian, Biryani' 'Tandoor, Snacks' 'Chinese, Indian'\n",
      " 'Fast Food, South Indian' 'Tandoor, Chinese' 'Continental, Italian'\n",
      " 'Chinese, Continental' 'Desserts, Salads' 'Snacks, Sweets'\n",
      " 'Chinese, Oriental' 'Fast Food, Bakery' 'Biryani, Beverages'\n",
      " 'Biryani, Indian' 'Street Food, Fast Food' 'Italian-American, Fast Food'\n",
      " 'Italian-American, Chinese' 'Indian, American' 'Punjabi'\n",
      " 'Continental, Chinese' 'Pizzas, Desserts' 'Bakery, Snacks'\n",
      " 'Fast Food, Beverages' 'Chinese, American' 'Chaat' 'Italian-American'\n",
      " 'Waffle, Bakery' 'Healthy Food, Home Food' 'Korean'\n",
      " 'Continental, Beverages' 'Healthy Food' 'Italian, Fast Food'\n",
      " 'Chinese, Pastas' 'South Indian, Snacks' 'Fast Food, American'\n",
      " 'Pizzas, Fast Food' 'Chinese, Biryani' 'Indian, Tandoor'\n",
      " 'Salads, Beverages' 'Tibetan' 'Italian, Asian' 'Indian, Italian'\n",
      " 'Beverages, Chaat' 'Pan-Asian, Tibetan' 'Indian, Pizzas'\n",
      " 'North Indian, Burgers' 'Bakery, Fast Food' ', Biryani'\n",
      " 'Fast Food, Pizzas' 'Beverages, Continental' 'Chinese, Burgers'\n",
      " 'Pizzas, Burgers' 'Indian, Punjabi' 'American, Continental'\n",
      " 'North Indian, Combo' 'Burgers, Chinese' 'Continental, Desserts'\n",
      " 'Continental' 'Cafe, Snacks' 'Indian, Kebabs' 'Asian, Pan-Asian'\n",
      " 'Bakery, Italian' 'North Indian, Pizzas' 'Indian, Fast Food'\n",
      " 'Pizzas, American' 'Chinese, Punjabi' 'Beverages, Sweets'\n",
      " 'Sushi, Japanese' 'North Indian, Desserts' 'Pizzas, Snacks' 'Pastas'\n",
      " 'Burgers, Beverages' 'Pizzas, Beverages' 'Turkish']\n"
     ]
    }
   ],
   "source": [
    "# Define a function to clean cuisine values\n",
    "def clean_cuisine(cuisine):\n",
    "    # Identify and remove redundant time-related phrases\n",
    "    time_phrases = [\"Closes soon\", \"Opens next at\", \"today\", \"tomorrow\", \"am\", \"pm\"]\n",
    "    for phrase in time_phrases:\n",
    "        if phrase in cuisine:\n",
    "            # Split by time-related information and keep the part before it\n",
    "            parts = cuisine.split(phrase)\n",
    "            cuisine = parts[-1].strip() if len(parts) > 1 else parts[0].strip()\n",
    "    return cuisine\n",
    "\n",
    "# Apply the function to the 'cuisine' column\n",
    "df['cuisine'] = df['cuisine'].apply(clean_cuisine)\n",
    "\n",
    "# Check the cleaned unique values\n",
    "unique_cuisines = df['cuisine'].unique()\n",
    "print(unique_cuisines)"
   ]
  },
  {
   "cell_type": "code",
   "execution_count": 40,
   "id": "d6c6c61e",
   "metadata": {
    "execution": {
     "iopub.execute_input": "2024-06-20T19:55:18.762267Z",
     "iopub.status.busy": "2024-06-20T19:55:18.761131Z",
     "iopub.status.idle": "2024-06-20T19:55:18.771026Z",
     "shell.execute_reply": "2024-06-20T19:55:18.770018Z"
    },
    "papermill": {
     "duration": 0.033169,
     "end_time": "2024-06-20T19:55:18.773170",
     "exception": false,
     "start_time": "2024-06-20T19:55:18.740001",
     "status": "completed"
    },
    "tags": []
   },
   "outputs": [
    {
     "data": {
      "text/plain": [
       "North Indian, Chinese     53\n",
       "Indian                    48\n",
       "North Indian              46\n",
       "Chinese                   20\n",
       "Bakery, Desserts          20\n",
       "                          ..\n",
       "Italian, Indian            1\n",
       "Snacks, Street Food        1\n",
       "Fast Food, Chaat           1\n",
       "North Indian, Barbecue     1\n",
       "Turkish                    1\n",
       "Name: cuisine, Length: 231, dtype: int64"
      ]
     },
     "execution_count": 40,
     "metadata": {},
     "output_type": "execute_result"
    }
   ],
   "source": [
    "df['cuisine'].value_counts()"
   ]
  },
  {
   "cell_type": "code",
   "execution_count": 41,
   "id": "b558c687",
   "metadata": {
    "execution": {
     "iopub.execute_input": "2024-06-20T19:55:18.815861Z",
     "iopub.status.busy": "2024-06-20T19:55:18.814571Z",
     "iopub.status.idle": "2024-06-20T19:55:18.829019Z",
     "shell.execute_reply": "2024-06-20T19:55:18.827859Z"
    },
    "papermill": {
     "duration": 0.037854,
     "end_time": "2024-06-20T19:55:18.831261",
     "exception": false,
     "start_time": "2024-06-20T19:55:18.793407",
     "status": "completed"
    },
    "tags": []
   },
   "outputs": [
    {
     "data": {
      "text/plain": [
       "others                        307\n",
       "North Indian, Chinese          53\n",
       "Indian                         48\n",
       "North Indian                   46\n",
       "Chinese                        20\n",
       "Bakery, Desserts               20\n",
       "Bakery                         16\n",
       "Beverages                      12\n",
       "Chinese, Fast Food             12\n",
       "Indian, Chinese                12\n",
       "North Indian, Snacks           11\n",
       "North Indian, Indian           11\n",
       "                               11\n",
       "Italian, Pizzas                11\n",
       "Fast Food                      11\n",
       "Chinese, Snacks                10\n",
       ", Desserts                     10\n",
       "North Indian, Fast Food        10\n",
       "Mughlai, North Indian           9\n",
       "North Indian, Mughlai           9\n",
       "Pizzas, Italian                 8\n",
       "Biryani                         8\n",
       "Chinese, Thai                   8\n",
       "Italian                         8\n",
       "North Indian, Punjabi           7\n",
       "Chinese, North Indian           7\n",
       "South Indian                    7\n",
       "Biryani, Mughlai                7\n",
       "South Indian, North Indian      6\n",
       "Chinese, Asian                  6\n",
       "Snacks                          6\n",
       "North Indian, South Indian      6\n",
       "Pizzas                          6\n",
       "Desserts, Beverages             5\n",
       "Biryani, North Indian           5\n",
       "Snacks, Fast Food               5\n",
       "Desserts                        5\n",
       "Pizzas, Fast Food               5\n",
       "Name: cuisine, dtype: int64"
      ]
     },
     "execution_count": 41,
     "metadata": {},
     "output_type": "execute_result"
    }
   ],
   "source": [
    "cuisine = df['cuisine'].value_counts(ascending  = False)\n",
    "\n",
    "\n",
    "cuisine_lessthan5 = cuisine[cuisine<5]\n",
    "\n",
    "\n",
    "\n",
    "def handle_cuisine(value):\n",
    "    if(value in cuisine_lessthan5):\n",
    "        return 'others'\n",
    "    else:\n",
    "        return value\n",
    "        \n",
    "df['cuisine'] = df['cuisine'].apply(handle_cuisine)\n",
    "df['cuisine'].value_counts()"
   ]
  },
  {
   "cell_type": "markdown",
   "id": "8c95461f",
   "metadata": {
    "papermill": {
     "duration": 0.020034,
     "end_time": "2024-06-20T19:55:18.872795",
     "exception": false,
     "start_time": "2024-06-20T19:55:18.852761",
     "status": "completed"
    },
    "tags": []
   },
   "source": [
    "# Data Visualization"
   ]
  },
  {
   "cell_type": "markdown",
   "id": "bbf93010",
   "metadata": {
    "papermill": {
     "duration": 0.019958,
     "end_time": "2024-06-20T19:55:18.913104",
     "exception": false,
     "start_time": "2024-06-20T19:55:18.893146",
     "status": "completed"
    },
    "tags": []
   },
   "source": [
    " # Number of Restaurants per location and Zone"
   ]
  },
  {
   "cell_type": "code",
   "execution_count": 42,
   "id": "31920f88",
   "metadata": {
    "execution": {
     "iopub.execute_input": "2024-06-20T19:55:18.957364Z",
     "iopub.status.busy": "2024-06-20T19:55:18.956958Z",
     "iopub.status.idle": "2024-06-20T19:55:19.301266Z",
     "shell.execute_reply": "2024-06-20T19:55:19.299988Z"
    },
    "papermill": {
     "duration": 0.36872,
     "end_time": "2024-06-20T19:55:19.303627",
     "exception": false,
     "start_time": "2024-06-20T19:55:18.934907",
     "status": "completed"
    },
    "tags": []
   },
   "outputs": [
    {
     "data": {
      "image/png": "[encoded data removed]",
      "text/plain": [
       "<Figure size 1200x600 with 1 Axes>"
      ]
     },
     "metadata": {},
     "output_type": "display_data"
    }
   ],
   "source": [
    "# Calculate the count of restaurants per location, excluding 'others'\n",
    "location_counts = df[df['location'] != 'others']['location'].value_counts()\n",
    "\n",
    "# Identify the top 10 locations\n",
    "top_10_locations = location_counts.nlargest(10).index\n",
    "\n",
    "# Filter the DataFrame to include only the top 10 locations\n",
    "top_10_df = df[df['location'].isin(top_10_locations)]\n",
    "\n",
    "# Plot the data\n",
    "fig = plt.figure(figsize=(12, 6))\n",
    "sns.countplot(y=top_10_df[\"location\"], order=top_10_locations)\n",
    "plt.title('Number of Restaurants per Location ')\n",
    "plt.xlabel('Number of Restaurants')\n",
    "plt.ylabel('Location')\n",
    "plt.show()"
   ]
  },
  {
   "cell_type": "markdown",
   "id": "036ebd91",
   "metadata": {
    "papermill": {
     "duration": 0.021217,
     "end_time": "2024-06-20T19:55:19.346419",
     "exception": false,
     "start_time": "2024-06-20T19:55:19.325202",
     "status": "completed"
    },
    "tags": []
   },
   "source": [
    " ## Number of Restaurants per zone"
   ]
  },
  {
   "cell_type": "code",
   "execution_count": 43,
   "id": "d71fb1c6",
   "metadata": {
    "execution": {
     "iopub.execute_input": "2024-06-20T19:55:19.393175Z",
     "iopub.status.busy": "2024-06-20T19:55:19.392156Z",
     "iopub.status.idle": "2024-06-20T19:55:19.661292Z",
     "shell.execute_reply": "2024-06-20T19:55:19.660094Z"
    },
    "papermill": {
     "duration": 0.29477,
     "end_time": "2024-06-20T19:55:19.663827",
     "exception": false,
     "start_time": "2024-06-20T19:55:19.369057",
     "status": "completed"
    },
    "tags": []
   },
   "outputs": [
    {
     "data": {
      "image/png": "[encoded data removed]",
      "text/plain": [
       "<Figure size 1200x600 with 1 Axes>"
      ]
     },
     "metadata": {},
     "output_type": "display_data"
    }
   ],
   "source": [
    "filtered_df = df[df['zone'] != 'others']\n",
    "\n",
    "# Plot the data\n",
    "fig = plt.figure(figsize=(12, 6))\n",
    "sns.countplot(x=filtered_df[\"zone\"])\n",
    "plt.title('Number of Restaurants per Zone')\n",
    "plt.xlabel('Zone')\n",
    "plt.ylabel('Number of Restaurants')\n",
    "plt.xticks(rotation=45)\n",
    "plt.show()"
   ]
  },
  {
   "cell_type": "markdown",
   "id": "261396dd",
   "metadata": {
    "papermill": {
     "duration": 0.022193,
     "end_time": "2024-06-20T19:55:19.708479",
     "exception": false,
     "start_time": "2024-06-20T19:55:19.686286",
     "status": "completed"
    },
    "tags": []
   },
   "source": [
    "## Box plot for price per zone "
   ]
  },
  {
   "cell_type": "code",
   "execution_count": 44,
   "id": "c0df2f1e",
   "metadata": {
    "execution": {
     "iopub.execute_input": "2024-06-20T19:55:19.753991Z",
     "iopub.status.busy": "2024-06-20T19:55:19.753583Z",
     "iopub.status.idle": "2024-06-20T19:55:20.068908Z",
     "shell.execute_reply": "2024-06-20T19:55:20.067823Z"
    },
    "papermill": {
     "duration": 0.340661,
     "end_time": "2024-06-20T19:55:20.071165",
     "exception": false,
     "start_time": "2024-06-20T19:55:19.730504",
     "status": "completed"
    },
    "tags": []
   },
   "outputs": [
    {
     "data": {
      "text/plain": [
       "(array([0, 1, 2, 3, 4, 5]),\n",
       " [Text(0, 0, 'others'),\n",
       "  Text(1, 0, 'Central'),\n",
       "  Text(2, 0, 'North'),\n",
       "  Text(3, 0, 'East'),\n",
       "  Text(4, 0, 'West'),\n",
       "  Text(5, 0, 'South')])"
      ]
     },
     "execution_count": 44,
     "metadata": {},
     "output_type": "execute_result"
    },
    {
     "data": {
      "image/png": "[encoded data removed]",
      "text/plain": [
       "<Figure size 900x600 with 1 Axes>"
      ]
     },
     "metadata": {},
     "output_type": "display_data"
    }
   ],
   "source": [
    "plt.figure(figsize = (9, 6))\n",
    "sns.boxplot(x = 'zone', y = 'cost2plates', data = df, palette = 'inferno')\n",
    "plt.xlabel('zone')\n",
    "plt.ylabel('price')\n",
    "plt.xticks(rotation=45)"
   ]
  },
  {
   "cell_type": "markdown",
   "id": "f32373c1",
   "metadata": {
    "papermill": {
     "duration": 0.022239,
     "end_time": "2024-06-20T19:55:20.115815",
     "exception": false,
     "start_time": "2024-06-20T19:55:20.093576",
     "status": "completed"
    },
    "tags": []
   },
   "source": [
    "## Box plot for price per location "
   ]
  },
  {
   "cell_type": "code",
   "execution_count": 45,
   "id": "1521359b",
   "metadata": {
    "execution": {
     "iopub.execute_input": "2024-06-20T19:55:20.162755Z",
     "iopub.status.busy": "2024-06-20T19:55:20.162315Z",
     "iopub.status.idle": "2024-06-20T19:55:20.578706Z",
     "shell.execute_reply": "2024-06-20T19:55:20.577593Z"
    },
    "papermill": {
     "duration": 0.443021,
     "end_time": "2024-06-20T19:55:20.580916",
     "exception": false,
     "start_time": "2024-06-20T19:55:20.137895",
     "status": "completed"
    },
    "tags": []
   },
   "outputs": [
    {
     "data": {
      "image/png": "[encoded data removed]",
      "text/plain": [
       "<Figure size 1200x800 with 1 Axes>"
      ]
     },
     "metadata": {},
     "output_type": "display_data"
    }
   ],
   "source": [
    "filtered_df = df[df['location'] != 'others']\n",
    "\n",
    "# Calculate the count of restaurants per location from the filtered data\n",
    "location_counts = filtered_df['location'].value_counts()\n",
    "\n",
    "# Identify the top 10 locations\n",
    "top_10_locations = location_counts.nlargest(10).index\n",
    "\n",
    "# Filter the DataFrame to include only the top 10 locations\n",
    "top_10_df = filtered_df[filtered_df['location'].isin(top_10_locations)]\n",
    "\n",
    "# Plot the data\n",
    "plt.figure(figsize=(12, 8))\n",
    "sns.boxplot(y='location', x='cost2plates', data=top_10_df, palette='inferno')\n",
    "plt.xlabel('Cost for Two Plates')\n",
    "plt.ylabel('Location')\n",
    "plt.title('Cost for Two Plates per Location')\n",
    "plt.xticks(rotation=90)\n",
    "plt.show()"
   ]
  },
  {
   "cell_type": "markdown",
   "id": "9e84425f",
   "metadata": {
    "papermill": {
     "duration": 0.024123,
     "end_time": "2024-06-20T19:55:20.628503",
     "exception": false,
     "start_time": "2024-06-20T19:55:20.604380",
     "status": "completed"
    },
    "tags": []
   },
   "source": [
    "## Plot for location wise ratings"
   ]
  },
  {
   "cell_type": "code",
   "execution_count": 46,
   "id": "21fa3725",
   "metadata": {
    "execution": {
     "iopub.execute_input": "2024-06-20T19:55:20.676619Z",
     "iopub.status.busy": "2024-06-20T19:55:20.676198Z",
     "iopub.status.idle": "2024-06-20T19:55:21.039176Z",
     "shell.execute_reply": "2024-06-20T19:55:21.038085Z"
    },
    "papermill": {
     "duration": 0.389737,
     "end_time": "2024-06-20T19:55:21.041396",
     "exception": false,
     "start_time": "2024-06-20T19:55:20.651659",
     "status": "completed"
    },
    "tags": []
   },
   "outputs": [
    {
     "name": "stderr",
     "output_type": "stream",
     "text": [
      "/tmp/ipykernel_20/1654612932.py:3: SettingWithCopyWarning: \n",
      "A value is trying to be set on a copy of a slice from a DataFrame\n",
      "\n",
      "See the caveats in the documentation: https://pandas.pydata.org/pandas-docs/stable/user_guide/indexing.html#returning-a-view-versus-a-copy\n",
      "  df4.drop_duplicates(inplace=True)  # Drop duplicates based on both columns\n"
     ]
    },
    {
     "data": {
      "image/png": "[encoded data removed]",
      "text/plain": [
       "<Figure size 1500x800 with 1 Axes>"
      ]
     },
     "metadata": {},
     "output_type": "display_data"
    }
   ],
   "source": [
    "\n",
    "# Step 1: Prepare data\n",
    "df4 = df[['location', 'rating']]\n",
    "df4.drop_duplicates(inplace=True)  # Drop duplicates based on both columns\n",
    "\n",
    "# Step 2: Grouping and aggregation\n",
    "df5 = df4.groupby('location')['rating'].sum().reset_index()  # Summing up ratings per location\n",
    "\n",
    "# Step 3: Sorting and filtering\n",
    "df5 = df5.sort_values(by='rating', ascending=False)\n",
    "df5 = df5.iloc[1:, :]  # Exclude the first row if it's not a specific location\n",
    "\n",
    "# Step 4: Select top 12 locations\n",
    "top_12_df = df5.head(12)\n",
    "\n",
    "# Step 5: Plotting\n",
    "plt.figure(figsize=(15, 8))\n",
    "plt.barh(top_12_df['location'], top_12_df['rating'], color='skyblue')\n",
    "plt.xlabel('Rating')\n",
    "plt.ylabel('Location')\n",
    "plt.title('Top 12 Locations by Rating')\n",
    "plt.gca().invert_yaxis()  # Invert y-axis to have highest rating at the top\n",
    "plt.show()\n"
   ]
  },
  {
   "cell_type": "markdown",
   "id": "3606077a",
   "metadata": {
    "papermill": {
     "duration": 0.024427,
     "end_time": "2024-06-20T19:55:21.094374",
     "exception": false,
     "start_time": "2024-06-20T19:55:21.069947",
     "status": "completed"
    },
    "tags": []
   },
   "source": [
    "## Plot for zone wise ratings"
   ]
  },
  {
   "cell_type": "code",
   "execution_count": 47,
   "id": "6db0dac4",
   "metadata": {
    "execution": {
     "iopub.execute_input": "2024-06-20T19:55:21.144690Z",
     "iopub.status.busy": "2024-06-20T19:55:21.144249Z",
     "iopub.status.idle": "2024-06-20T19:55:21.160221Z",
     "shell.execute_reply": "2024-06-20T19:55:21.159139Z"
    },
    "papermill": {
     "duration": 0.044261,
     "end_time": "2024-06-20T19:55:21.162592",
     "exception": false,
     "start_time": "2024-06-20T19:55:21.118331",
     "status": "completed"
    },
    "tags": []
   },
   "outputs": [
    {
     "data": {
      "text/html": [
       "<div>\n",
       "<style scoped>\n",
       "    .dataframe tbody tr th:only-of-type {\n",
       "        vertical-align: middle;\n",
       "    }\n",
       "\n",
       "    .dataframe tbody tr th {\n",
       "        vertical-align: top;\n",
       "    }\n",
       "\n",
       "    .dataframe thead th {\n",
       "        text-align: right;\n",
       "    }\n",
       "</style>\n",
       "<table border=\"1\" class=\"dataframe\">\n",
       "  <thead>\n",
       "    <tr style=\"text-align: right;\">\n",
       "      <th></th>\n",
       "      <th>rating</th>\n",
       "    </tr>\n",
       "    <tr>\n",
       "      <th>zone</th>\n",
       "      <th></th>\n",
       "    </tr>\n",
       "  </thead>\n",
       "  <tbody>\n",
       "    <tr>\n",
       "      <th>East</th>\n",
       "      <td>244</td>\n",
       "    </tr>\n",
       "    <tr>\n",
       "      <th>others</th>\n",
       "      <td>228</td>\n",
       "    </tr>\n",
       "    <tr>\n",
       "      <th>South</th>\n",
       "      <td>75</td>\n",
       "    </tr>\n",
       "    <tr>\n",
       "      <th>Central</th>\n",
       "      <td>73</td>\n",
       "    </tr>\n",
       "    <tr>\n",
       "      <th>North</th>\n",
       "      <td>53</td>\n",
       "    </tr>\n",
       "  </tbody>\n",
       "</table>\n",
       "</div>"
      ],
      "text/plain": [
       "         rating\n",
       "zone           \n",
       "East        244\n",
       "others      228\n",
       "South        75\n",
       "Central      73\n",
       "North        53"
      ]
     },
     "execution_count": 47,
     "metadata": {},
     "output_type": "execute_result"
    }
   ],
   "source": [
    "df1 = df[['zone', 'rating']]\n",
    "df1.drop_duplicates()\n",
    "df2 = df1.groupby(['zone'])['rating'].count()\n",
    "df2 = df2.to_frame()\n",
    "df2 = df2.sort_values('rating', ascending=False)\n",
    "df2.head()"
   ]
  },
  {
   "cell_type": "code",
   "execution_count": 48,
   "id": "4c34199a",
   "metadata": {
    "execution": {
     "iopub.execute_input": "2024-06-20T19:55:21.213019Z",
     "iopub.status.busy": "2024-06-20T19:55:21.212016Z",
     "iopub.status.idle": "2024-06-20T19:55:21.519114Z",
     "shell.execute_reply": "2024-06-20T19:55:21.517975Z"
    },
    "papermill": {
     "duration": 0.334835,
     "end_time": "2024-06-20T19:55:21.521481",
     "exception": false,
     "start_time": "2024-06-20T19:55:21.186646",
     "status": "completed"
    },
    "tags": []
   },
   "outputs": [
    {
     "name": "stderr",
     "output_type": "stream",
     "text": [
      "/tmp/ipykernel_20/1815132422.py:2: SettingWithCopyWarning: \n",
      "A value is trying to be set on a copy of a slice from a DataFrame\n",
      "\n",
      "See the caveats in the documentation: https://pandas.pydata.org/pandas-docs/stable/user_guide/indexing.html#returning-a-view-versus-a-copy\n",
      "  df1.drop_duplicates(inplace=True)  # Drop duplicates based on both columns\n"
     ]
    },
    {
     "data": {
      "image/png": "[encoded data removed]",
      "text/plain": [
       "<Figure size 1500x800 with 1 Axes>"
      ]
     },
     "metadata": {},
     "output_type": "display_data"
    }
   ],
   "source": [
    "df1 = df[['zone', 'rating']]\n",
    "df1.drop_duplicates(inplace=True)  # Drop duplicates based on both columns\n",
    "\n",
    "df2 = df1.groupby('zone')['rating'].count().reset_index()  # Count ratings per zone\n",
    "\n",
    "df2 = df2.sort_values(by='rating', ascending=False)\n",
    "df2 = df2[df2['zone'] != 'others']  # Exclude 'others' if present\n",
    "\n",
    "plt.figure(figsize=(15, 8))\n",
    "plt.bar(df2['zone'], df2['rating'], color='skyblue')\n",
    "plt.xlabel('Zone')\n",
    "plt.ylabel('Number of Ratings')\n",
    "plt.title('Number of Ratings by Zone')\n",
    "plt.xticks(rotation=45)\n",
    "plt.show()"
   ]
  },
  {
   "cell_type": "markdown",
   "id": "fbcfa6e6",
   "metadata": {
    "papermill": {
     "duration": 0.024964,
     "end_time": "2024-06-20T19:55:21.572147",
     "exception": false,
     "start_time": "2024-06-20T19:55:21.547183",
     "status": "completed"
    },
    "tags": []
   },
   "source": [
    "## Visualizing number of ratings on the basis of zone"
   ]
  },
  {
   "cell_type": "code",
   "execution_count": 49,
   "id": "e502c4b3",
   "metadata": {
    "execution": {
     "iopub.execute_input": "2024-06-20T19:55:21.624537Z",
     "iopub.status.busy": "2024-06-20T19:55:21.624115Z",
     "iopub.status.idle": "2024-06-20T19:55:21.940377Z",
     "shell.execute_reply": "2024-06-20T19:55:21.938982Z"
    },
    "papermill": {
     "duration": 0.346358,
     "end_time": "2024-06-20T19:55:21.944119",
     "exception": false,
     "start_time": "2024-06-20T19:55:21.597761",
     "status": "completed"
    },
    "tags": []
   },
   "outputs": [
    {
     "name": "stderr",
     "output_type": "stream",
     "text": [
      "/tmp/ipykernel_20/3548582024.py:5: SettingWithCopyWarning: \n",
      "A value is trying to be set on a copy of a slice from a DataFrame\n",
      "\n",
      "See the caveats in the documentation: https://pandas.pydata.org/pandas-docs/stable/user_guide/indexing.html#returning-a-view-versus-a-copy\n",
      "  df7.drop_duplicates(inplace=True)  # Drop duplicates based on both columns\n"
     ]
    },
    {
     "data": {
      "image/png": "[encoded data removed]",
      "text/plain": [
       "<Figure size 1500x800 with 1 Axes>"
      ]
     },
     "metadata": {},
     "output_type": "display_data"
    }
   ],
   "source": [
    "import matplotlib.pyplot as plt\n",
    "\n",
    "# Step 1: Prepare data\n",
    "df7 = df[['zone', 'num_of_rating']]\n",
    "df7.drop_duplicates(inplace=True)  # Drop duplicates based on both columns\n",
    "\n",
    "# Filter out 'others'\n",
    "df7 = df7[df7['zone'] != 'others']\n",
    "\n",
    "# Step 2: Grouping and aggregation\n",
    "df8 = df7.groupby('zone')['num_of_rating'].sum().reset_index()  # Sum of num_of_rating per zone\n",
    "\n",
    "# Step 3: Sorting\n",
    "df8 = df8.sort_values(by='num_of_rating', ascending=False)\n",
    "\n",
    "# Step 4: Plotting\n",
    "plt.figure(figsize=(15, 8))\n",
    "plt.bar(df8['zone'], df8['num_of_rating'], color='lightcoral')\n",
    "plt.xlabel('Zone')\n",
    "plt.ylabel('Number of Reviews')\n",
    "plt.title('Total Number of Reviews by Zone')\n",
    "plt.xticks(rotation=90)\n",
    "plt.show()\n"
   ]
  },
  {
   "cell_type": "markdown",
   "id": "2fc95df1",
   "metadata": {
    "papermill": {
     "duration": 0.024761,
     "end_time": "2024-06-20T19:55:21.995064",
     "exception": false,
     "start_time": "2024-06-20T19:55:21.970303",
     "status": "completed"
    },
    "tags": []
   },
   "source": [
    "## Visualizing types of restaurants zone wise"
   ]
  },
  {
   "cell_type": "code",
   "execution_count": 50,
   "id": "dc9e9df7",
   "metadata": {
    "execution": {
     "iopub.execute_input": "2024-06-20T19:55:22.048277Z",
     "iopub.status.busy": "2024-06-20T19:55:22.047493Z",
     "iopub.status.idle": "2024-06-20T19:55:22.111645Z",
     "shell.execute_reply": "2024-06-20T19:55:22.110433Z"
    },
    "papermill": {
     "duration": 0.092673,
     "end_time": "2024-06-20T19:55:22.113985",
     "exception": false,
     "start_time": "2024-06-20T19:55:22.021312",
     "status": "completed"
    },
    "tags": []
   },
   "outputs": [
    {
     "data": {
      "text/html": [
       "<div>\n",
       "<style scoped>\n",
       "    .dataframe tbody tr th:only-of-type {\n",
       "        vertical-align: middle;\n",
       "    }\n",
       "\n",
       "    .dataframe tbody tr th {\n",
       "        vertical-align: top;\n",
       "    }\n",
       "\n",
       "    .dataframe thead tr th {\n",
       "        text-align: left;\n",
       "    }\n",
       "\n",
       "    .dataframe thead tr:last-of-type th {\n",
       "        text-align: right;\n",
       "    }\n",
       "</style>\n",
       "<table border=\"1\" class=\"dataframe\">\n",
       "  <thead>\n",
       "    <tr>\n",
       "      <th></th>\n",
       "      <th colspan=\"21\" halign=\"left\">name</th>\n",
       "    </tr>\n",
       "    <tr>\n",
       "      <th>cuisine</th>\n",
       "      <th>, Desserts</th>\n",
       "      <th>Bakery</th>\n",
       "      <th>Bakery, Desserts</th>\n",
       "      <th>Beverages</th>\n",
       "      <th>Biryani</th>\n",
       "      <th>Biryani, Mughlai</th>\n",
       "      <th>Biryani, North Indian</th>\n",
       "      <th>Chinese</th>\n",
       "      <th>Chinese, Asian</th>\n",
       "      <th>Chinese, Fast Food</th>\n",
       "      <th>...</th>\n",
       "      <th>North Indian, Snacks</th>\n",
       "      <th>North Indian, South Indian</th>\n",
       "      <th>Pizzas</th>\n",
       "      <th>Pizzas, Fast Food</th>\n",
       "      <th>Pizzas, Italian</th>\n",
       "      <th>Snacks</th>\n",
       "      <th>Snacks, Fast Food</th>\n",
       "      <th>South Indian</th>\n",
       "      <th>South Indian, North Indian</th>\n",
       "      <th>others</th>\n",
       "    </tr>\n",
       "    <tr>\n",
       "      <th>zone</th>\n",
       "      <th></th>\n",
       "      <th></th>\n",
       "      <th></th>\n",
       "      <th></th>\n",
       "      <th></th>\n",
       "      <th></th>\n",
       "      <th></th>\n",
       "      <th></th>\n",
       "      <th></th>\n",
       "      <th></th>\n",
       "      <th></th>\n",
       "      <th></th>\n",
       "      <th></th>\n",
       "      <th></th>\n",
       "      <th></th>\n",
       "      <th></th>\n",
       "      <th></th>\n",
       "      <th></th>\n",
       "      <th></th>\n",
       "      <th></th>\n",
       "      <th></th>\n",
       "    </tr>\n",
       "  </thead>\n",
       "  <tbody>\n",
       "    <tr>\n",
       "      <th>Central</th>\n",
       "      <td>0</td>\n",
       "      <td>0</td>\n",
       "      <td>1</td>\n",
       "      <td>1</td>\n",
       "      <td>1</td>\n",
       "      <td>1</td>\n",
       "      <td>0</td>\n",
       "      <td>2</td>\n",
       "      <td>0</td>\n",
       "      <td>0</td>\n",
       "      <td>...</td>\n",
       "      <td>3</td>\n",
       "      <td>2</td>\n",
       "      <td>0</td>\n",
       "      <td>0</td>\n",
       "      <td>0</td>\n",
       "      <td>0</td>\n",
       "      <td>0</td>\n",
       "      <td>1</td>\n",
       "      <td>0</td>\n",
       "      <td>29</td>\n",
       "    </tr>\n",
       "    <tr>\n",
       "      <th>East</th>\n",
       "      <td>2</td>\n",
       "      <td>10</td>\n",
       "      <td>6</td>\n",
       "      <td>2</td>\n",
       "      <td>5</td>\n",
       "      <td>0</td>\n",
       "      <td>1</td>\n",
       "      <td>1</td>\n",
       "      <td>1</td>\n",
       "      <td>5</td>\n",
       "      <td>...</td>\n",
       "      <td>4</td>\n",
       "      <td>1</td>\n",
       "      <td>5</td>\n",
       "      <td>3</td>\n",
       "      <td>4</td>\n",
       "      <td>3</td>\n",
       "      <td>2</td>\n",
       "      <td>0</td>\n",
       "      <td>2</td>\n",
       "      <td>102</td>\n",
       "    </tr>\n",
       "    <tr>\n",
       "      <th>North</th>\n",
       "      <td>1</td>\n",
       "      <td>0</td>\n",
       "      <td>1</td>\n",
       "      <td>1</td>\n",
       "      <td>0</td>\n",
       "      <td>1</td>\n",
       "      <td>0</td>\n",
       "      <td>2</td>\n",
       "      <td>0</td>\n",
       "      <td>1</td>\n",
       "      <td>...</td>\n",
       "      <td>0</td>\n",
       "      <td>0</td>\n",
       "      <td>0</td>\n",
       "      <td>1</td>\n",
       "      <td>1</td>\n",
       "      <td>0</td>\n",
       "      <td>0</td>\n",
       "      <td>0</td>\n",
       "      <td>1</td>\n",
       "      <td>31</td>\n",
       "    </tr>\n",
       "    <tr>\n",
       "      <th>South</th>\n",
       "      <td>0</td>\n",
       "      <td>3</td>\n",
       "      <td>4</td>\n",
       "      <td>2</td>\n",
       "      <td>0</td>\n",
       "      <td>0</td>\n",
       "      <td>3</td>\n",
       "      <td>2</td>\n",
       "      <td>3</td>\n",
       "      <td>3</td>\n",
       "      <td>...</td>\n",
       "      <td>1</td>\n",
       "      <td>1</td>\n",
       "      <td>0</td>\n",
       "      <td>0</td>\n",
       "      <td>1</td>\n",
       "      <td>0</td>\n",
       "      <td>0</td>\n",
       "      <td>0</td>\n",
       "      <td>0</td>\n",
       "      <td>26</td>\n",
       "    </tr>\n",
       "    <tr>\n",
       "      <th>West</th>\n",
       "      <td>1</td>\n",
       "      <td>0</td>\n",
       "      <td>1</td>\n",
       "      <td>1</td>\n",
       "      <td>0</td>\n",
       "      <td>1</td>\n",
       "      <td>0</td>\n",
       "      <td>2</td>\n",
       "      <td>0</td>\n",
       "      <td>1</td>\n",
       "      <td>...</td>\n",
       "      <td>0</td>\n",
       "      <td>0</td>\n",
       "      <td>0</td>\n",
       "      <td>0</td>\n",
       "      <td>0</td>\n",
       "      <td>0</td>\n",
       "      <td>0</td>\n",
       "      <td>0</td>\n",
       "      <td>0</td>\n",
       "      <td>9</td>\n",
       "    </tr>\n",
       "    <tr>\n",
       "      <th>others</th>\n",
       "      <td>4</td>\n",
       "      <td>3</td>\n",
       "      <td>6</td>\n",
       "      <td>4</td>\n",
       "      <td>2</td>\n",
       "      <td>4</td>\n",
       "      <td>1</td>\n",
       "      <td>9</td>\n",
       "      <td>1</td>\n",
       "      <td>2</td>\n",
       "      <td>...</td>\n",
       "      <td>1</td>\n",
       "      <td>2</td>\n",
       "      <td>1</td>\n",
       "      <td>1</td>\n",
       "      <td>2</td>\n",
       "      <td>3</td>\n",
       "      <td>2</td>\n",
       "      <td>5</td>\n",
       "      <td>1</td>\n",
       "      <td>90</td>\n",
       "    </tr>\n",
       "  </tbody>\n",
       "</table>\n",
       "<p>6 rows × 37 columns</p>\n",
       "</div>"
      ],
      "text/plain": [
       "              name                                                             \\\n",
       "cuisine , Desserts Bakery Bakery, Desserts Beverages Biryani Biryani, Mughlai   \n",
       "zone                                                                            \n",
       "Central          0      0                1         1       1                1   \n",
       "East             2     10                6         2       5                0   \n",
       "North            1      0                1         1       0                1   \n",
       "South            0      3                4         2       0                0   \n",
       "West             1      0                1         1       0                1   \n",
       "others           4      3                6         4       2                4   \n",
       "\n",
       "                                                                         ...  \\\n",
       "cuisine Biryani, North Indian Chinese Chinese, Asian Chinese, Fast Food  ...   \n",
       "zone                                                                     ...   \n",
       "Central                     0       2              0                  0  ...   \n",
       "East                        1       1              1                  5  ...   \n",
       "North                       0       2              0                  1  ...   \n",
       "South                       3       2              3                  3  ...   \n",
       "West                        0       2              0                  1  ...   \n",
       "others                      1       9              1                  2  ...   \n",
       "\n",
       "                                                                \\\n",
       "cuisine North Indian, Snacks North Indian, South Indian Pizzas   \n",
       "zone                                                             \n",
       "Central                    3                          2      0   \n",
       "East                       4                          1      5   \n",
       "North                      0                          0      0   \n",
       "South                      1                          1      0   \n",
       "West                       0                          0      0   \n",
       "others                     1                          2      1   \n",
       "\n",
       "                                                                    \\\n",
       "cuisine Pizzas, Fast Food Pizzas, Italian Snacks Snacks, Fast Food   \n",
       "zone                                                                 \n",
       "Central                 0               0      0                 0   \n",
       "East                    3               4      3                 2   \n",
       "North                   1               1      0                 0   \n",
       "South                   0               1      0                 0   \n",
       "West                    0               0      0                 0   \n",
       "others                  1               2      3                 2   \n",
       "\n",
       "                                                        \n",
       "cuisine South Indian South Indian, North Indian others  \n",
       "zone                                                    \n",
       "Central            1                          0     29  \n",
       "East               0                          2    102  \n",
       "North              0                          1     31  \n",
       "South              0                          0     26  \n",
       "West               0                          0      9  \n",
       "others             5                          1     90  \n",
       "\n",
       "[6 rows x 37 columns]"
      ]
     },
     "execution_count": 50,
     "metadata": {},
     "output_type": "execute_result"
    }
   ],
   "source": [
    "df6 = df.groupby(['zone','cuisine'])['name'].count()\n",
    "df6.to_csv('zone_Type.csv')\n",
    "df6 = pd.read_csv('zone_Type.csv')\n",
    "df6 = pd.pivot_table(df6, values=None, index=['zone'], columns=['cuisine'], fill_value=0, aggfunc=np.sum)\n",
    "df6"
   ]
  },
  {
   "cell_type": "code",
   "execution_count": 51,
   "id": "8530219d",
   "metadata": {
    "execution": {
     "iopub.execute_input": "2024-06-20T19:55:22.166102Z",
     "iopub.status.busy": "2024-06-20T19:55:22.165711Z",
     "iopub.status.idle": "2024-06-20T19:55:23.391684Z",
     "shell.execute_reply": "2024-06-20T19:55:23.390515Z"
    },
    "papermill": {
     "duration": 1.254922,
     "end_time": "2024-06-20T19:55:23.394165",
     "exception": false,
     "start_time": "2024-06-20T19:55:22.139243",
     "status": "completed"
    },
    "tags": []
   },
   "outputs": [
    {
     "data": {
      "text/plain": [
       "<Figure size 1500x800 with 0 Axes>"
      ]
     },
     "metadata": {},
     "output_type": "display_data"
    },
    {
     "data": {
      "image/png": "[encoded data removed]",
      "text/plain": [
       "<Figure size 1500x800 with 1 Axes>"
      ]
     },
     "metadata": {},
     "output_type": "display_data"
    }
   ],
   "source": [
    "import pandas as pd\n",
    "import numpy as np\n",
    "import matplotlib.pyplot as plt\n",
    "\n",
    "# Step 1: Compute the count of restaurant names grouped by zone and cuisine\n",
    "df6 = df.groupby(['zone', 'cuisine'])['name'].count().reset_index()\n",
    "\n",
    "# Step 2: Save the resulting DataFrame to a CSV file\n",
    "df6.to_csv('zone_type.csv', index=False)\n",
    "\n",
    "# Step 3: Read the CSV file back into a DataFrame\n",
    "df6 = pd.read_csv('zone_type.csv')\n",
    "\n",
    "# Step 4: Exclude 'others' cuisine if present\n",
    "df6 = df6[df6['cuisine'] != 'others']\n",
    "\n",
    "# Step 5: Pivot the DataFrame to create the desired table\n",
    "df6_pivot = pd.pivot_table(df6, values='name', index='zone', columns='cuisine', fill_value=0, aggfunc=np.sum)\n",
    "\n",
    "# Step 6: Plot a bar chart for the refined DataFrame\n",
    "plt.figure(figsize=(15, 8))\n",
    "df6_pivot.plot(kind='bar', figsize=(15, 8))\n",
    "plt.xlabel('Zone')\n",
    "plt.ylabel('Number of Restaurants')\n",
    "plt.title('Number of Restaurants by Cuisine and Zone')\n",
    "plt.xticks(rotation=45)\n",
    "plt.legend(title='Cuisine', bbox_to_anchor=(1.05, 1), loc='upper left')\n",
    "plt.show()\n"
   ]
  },
  {
   "cell_type": "markdown",
   "id": "80ff23cb",
   "metadata": {
    "papermill": {
     "duration": 0.027094,
     "end_time": "2024-06-20T19:55:23.448590",
     "exception": false,
     "start_time": "2024-06-20T19:55:23.421496",
     "status": "completed"
    },
    "tags": []
   },
   "source": [
    "## Visualizing top restaurants based on Ratings"
   ]
  },
  {
   "cell_type": "code",
   "execution_count": 52,
   "id": "3c364fc1",
   "metadata": {
    "execution": {
     "iopub.execute_input": "2024-06-20T19:55:23.504849Z",
     "iopub.status.busy": "2024-06-20T19:55:23.504407Z",
     "iopub.status.idle": "2024-06-20T19:55:23.519704Z",
     "shell.execute_reply": "2024-06-20T19:55:23.518598Z"
    },
    "papermill": {
     "duration": 0.046091,
     "end_time": "2024-06-20T19:55:23.521876",
     "exception": false,
     "start_time": "2024-06-20T19:55:23.475785",
     "status": "completed"
    },
    "tags": []
   },
   "outputs": [
    {
     "data": {
      "text/html": [
       "<div>\n",
       "<style scoped>\n",
       "    .dataframe tbody tr th:only-of-type {\n",
       "        vertical-align: middle;\n",
       "    }\n",
       "\n",
       "    .dataframe tbody tr th {\n",
       "        vertical-align: top;\n",
       "    }\n",
       "\n",
       "    .dataframe thead th {\n",
       "        text-align: right;\n",
       "    }\n",
       "</style>\n",
       "<table border=\"1\" class=\"dataframe\">\n",
       "  <thead>\n",
       "    <tr style=\"text-align: right;\">\n",
       "      <th></th>\n",
       "      <th>rating</th>\n",
       "    </tr>\n",
       "    <tr>\n",
       "      <th>name</th>\n",
       "      <th></th>\n",
       "    </tr>\n",
       "  </thead>\n",
       "  <tbody>\n",
       "    <tr>\n",
       "      <th>Love At First Bite</th>\n",
       "      <td>8.005357</td>\n",
       "    </tr>\n",
       "    <tr>\n",
       "      <th>Jenny's Brownies</th>\n",
       "      <td>8.005357</td>\n",
       "    </tr>\n",
       "    <tr>\n",
       "      <th>Behrouz Biryani - Royal &amp; Safe</th>\n",
       "      <td>4.700000</td>\n",
       "    </tr>\n",
       "    <tr>\n",
       "      <th>Momo Maker</th>\n",
       "      <td>4.700000</td>\n",
       "    </tr>\n",
       "    <tr>\n",
       "      <th>Triveni Terrace Cafe</th>\n",
       "      <td>4.700000</td>\n",
       "    </tr>\n",
       "  </tbody>\n",
       "</table>\n",
       "</div>"
      ],
      "text/plain": [
       "                                  rating\n",
       "name                                    \n",
       "Love At First Bite              8.005357\n",
       "Jenny's Brownies                8.005357\n",
       "Behrouz Biryani - Royal & Safe  4.700000\n",
       "Momo Maker                      4.700000\n",
       "Triveni Terrace Cafe            4.700000"
      ]
     },
     "execution_count": 52,
     "metadata": {},
     "output_type": "execute_result"
    }
   ],
   "source": [
    "df9 = df[['name', 'rating']]\n",
    "df9.drop_duplicates()\n",
    "df10 = df9.groupby(['name'])['rating'].sum()\n",
    "df10 = df10.to_frame()\n",
    "df10 = df10.sort_values('rating', ascending=False)\n",
    "df10.head()"
   ]
  },
  {
   "cell_type": "code",
   "execution_count": 53,
   "id": "aeffaa5f",
   "metadata": {
    "_kg_hide-input": true,
    "execution": {
     "iopub.execute_input": "2024-06-20T19:55:23.578569Z",
     "iopub.status.busy": "2024-06-20T19:55:23.578156Z",
     "iopub.status.idle": "2024-06-20T19:55:23.967947Z",
     "shell.execute_reply": "2024-06-20T19:55:23.966765Z"
    },
    "papermill": {
     "duration": 0.421076,
     "end_time": "2024-06-20T19:55:23.970439",
     "exception": false,
     "start_time": "2024-06-20T19:55:23.549363",
     "status": "completed"
    },
    "tags": []
   },
   "outputs": [
    {
     "name": "stderr",
     "output_type": "stream",
     "text": [
      "/tmp/ipykernel_20/500597173.py:8: SettingWithCopyWarning: \n",
      "A value is trying to be set on a copy of a slice from a DataFrame\n",
      "\n",
      "See the caveats in the documentation: https://pandas.pydata.org/pandas-docs/stable/user_guide/indexing.html#returning-a-view-versus-a-copy\n",
      "  df9.drop_duplicates(inplace=True)\n"
     ]
    },
    {
     "data": {
      "image/png": "[encoded data removed]",
      "text/plain": [
       "<Figure size 1200x800 with 1 Axes>"
      ]
     },
     "metadata": {},
     "output_type": "display_data"
    }
   ],
   "source": [
    "import pandas as pd\n",
    "import matplotlib.pyplot as plt\n",
    "\n",
    "# Step 1: Selecting relevant columns\n",
    "df9 = df[['name', 'rating']]\n",
    "\n",
    "# Step 2: Dropping duplicates based on 'name'\n",
    "df9.drop_duplicates(inplace=True)\n",
    "\n",
    "# Step 3: Grouping by 'name' and summing the 'rating' (assuming 'rating' column contains numeric values)\n",
    "df10 = df9.groupby('name')['rating'].sum().reset_index()\n",
    "\n",
    "# Step 4: Sorting by 'rating' in descending order\n",
    "df10 = df10.sort_values(by='rating', ascending=False)\n",
    "\n",
    "# Step 5: Selecting top 10 restaurants based on ratings\n",
    "top_10_restaurants = df10.head(15)\n",
    "\n",
    "# Step 6: Plotting the top 10 restaurants as horizontal bars\n",
    "plt.figure(figsize=(12, 8))\n",
    "plt.barh(top_10_restaurants['name'], top_10_restaurants['rating'], color='skyblue')\n",
    "plt.ylabel('Restaurant Name')\n",
    "plt.xlabel('Total Rating')\n",
    "plt.title('Top 15 Restaurants by Total Rating')\n",
    "plt.gca().invert_yaxis()  # Invert y-axis to show the highest rating at the top\n",
    "plt.show()\n"
   ]
  },
  {
   "cell_type": "markdown",
   "id": "d1346651",
   "metadata": {
    "papermill": {
     "duration": 0.028325,
     "end_time": "2024-06-20T19:55:24.028238",
     "exception": false,
     "start_time": "2024-06-20T19:55:23.999913",
     "status": "completed"
    },
    "tags": []
   },
   "source": [
    "## Visualizing top restaurants based on number of ratings"
   ]
  },
  {
   "cell_type": "code",
   "execution_count": 54,
   "id": "5c1c7e72",
   "metadata": {
    "execution": {
     "iopub.execute_input": "2024-06-20T19:55:24.087139Z",
     "iopub.status.busy": "2024-06-20T19:55:24.085983Z",
     "iopub.status.idle": "2024-06-20T19:55:24.101924Z",
     "shell.execute_reply": "2024-06-20T19:55:24.100815Z"
    },
    "papermill": {
     "duration": 0.047765,
     "end_time": "2024-06-20T19:55:24.104280",
     "exception": false,
     "start_time": "2024-06-20T19:55:24.056515",
     "status": "completed"
    },
    "tags": []
   },
   "outputs": [
    {
     "data": {
      "text/html": [
       "<div>\n",
       "<style scoped>\n",
       "    .dataframe tbody tr th:only-of-type {\n",
       "        vertical-align: middle;\n",
       "    }\n",
       "\n",
       "    .dataframe tbody tr th {\n",
       "        vertical-align: top;\n",
       "    }\n",
       "\n",
       "    .dataframe thead th {\n",
       "        text-align: right;\n",
       "    }\n",
       "</style>\n",
       "<table border=\"1\" class=\"dataframe\">\n",
       "  <thead>\n",
       "    <tr style=\"text-align: right;\">\n",
       "      <th></th>\n",
       "      <th>num_of_rating</th>\n",
       "    </tr>\n",
       "    <tr>\n",
       "      <th>name</th>\n",
       "      <th></th>\n",
       "    </tr>\n",
       "  </thead>\n",
       "  <tbody>\n",
       "    <tr>\n",
       "      <th>Sita Ram Diwan Chand</th>\n",
       "      <td>1000</td>\n",
       "    </tr>\n",
       "    <tr>\n",
       "      <th>Burger King</th>\n",
       "      <td>1000</td>\n",
       "    </tr>\n",
       "    <tr>\n",
       "      <th>Shagun</th>\n",
       "      <td>1000</td>\n",
       "    </tr>\n",
       "    <tr>\n",
       "      <th>Jhakkas Bombay Pav Bhaji</th>\n",
       "      <td>1000</td>\n",
       "    </tr>\n",
       "    <tr>\n",
       "      <th>Bangla Foods</th>\n",
       "      <td>1000</td>\n",
       "    </tr>\n",
       "  </tbody>\n",
       "</table>\n",
       "</div>"
      ],
      "text/plain": [
       "                          num_of_rating\n",
       "name                                   \n",
       "Sita Ram Diwan Chand               1000\n",
       "Burger King                        1000\n",
       "Shagun                             1000\n",
       "Jhakkas Bombay Pav Bhaji           1000\n",
       "Bangla Foods                       1000"
      ]
     },
     "execution_count": 54,
     "metadata": {},
     "output_type": "execute_result"
    }
   ],
   "source": [
    "df11 = df[['name', 'num_of_rating']]\n",
    "df11.drop_duplicates()\n",
    "df12 = df11.groupby(['name'])['num_of_rating'].sum()\n",
    "df12 = df12.to_frame()\n",
    "df12 = df12.sort_values('num_of_rating', ascending=False)\n",
    "df12.head()"
   ]
  },
  {
   "cell_type": "code",
   "execution_count": 55,
   "id": "7b0e95a4",
   "metadata": {
    "_kg_hide-input": true,
    "execution": {
     "iopub.execute_input": "2024-06-20T19:55:24.164164Z",
     "iopub.status.busy": "2024-06-20T19:55:24.163355Z",
     "iopub.status.idle": "2024-06-20T19:55:24.495745Z",
     "shell.execute_reply": "2024-06-20T19:55:24.494776Z"
    },
    "papermill": {
     "duration": 0.365035,
     "end_time": "2024-06-20T19:55:24.498177",
     "exception": false,
     "start_time": "2024-06-20T19:55:24.133142",
     "status": "completed"
    },
    "tags": []
   },
   "outputs": [
    {
     "name": "stderr",
     "output_type": "stream",
     "text": [
      "/tmp/ipykernel_20/3375500174.py:8: SettingWithCopyWarning: \n",
      "A value is trying to be set on a copy of a slice from a DataFrame\n",
      "\n",
      "See the caveats in the documentation: https://pandas.pydata.org/pandas-docs/stable/user_guide/indexing.html#returning-a-view-versus-a-copy\n",
      "  df11.drop_duplicates(inplace=True)\n"
     ]
    },
    {
     "data": {
      "image/png": "[encoded data removed]",
      "text/plain": [
       "<Figure size 1200x800 with 1 Axes>"
      ]
     },
     "metadata": {},
     "output_type": "display_data"
    }
   ],
   "source": [
    "import pandas as pd\n",
    "import matplotlib.pyplot as plt\n",
    "\n",
    "# Step 1: Selecting relevant columns\n",
    "df11 = df[['name', 'num_of_rating']]\n",
    "\n",
    "# Step 2: Dropping duplicates based on 'name'\n",
    "df11.drop_duplicates(inplace=True)\n",
    "\n",
    "# Step 3: Grouping by 'name' and summing the 'num_of_rating'\n",
    "df12 = df11.groupby('name')['num_of_rating'].sum().reset_index()\n",
    "\n",
    "# Step 4: Sorting by 'num_of_rating' in descending order\n",
    "df12 = df12.sort_values(by='num_of_rating', ascending=False)\n",
    "\n",
    "# Step 5: Selecting top 15 restaurants based on number of ratings\n",
    "top_15_restaurants = df12.head(15)\n",
    "\n",
    "# Step 6: Plotting the top 15 restaurants as horizontal bars\n",
    "plt.figure(figsize=(12, 8))\n",
    "plt.barh(top_15_restaurants['name'], top_15_restaurants['num_of_rating'], color='lightgreen')\n",
    "plt.xlabel('Total Number of Ratings')\n",
    "plt.ylabel('Restaurant Name')\n",
    "plt.title('Top 15 Restaurants by Total Number of Ratings')\n",
    "plt.gca().invert_yaxis()  # Invert y-axis to show the highest ratings at the top\n",
    "plt.xticks(rotation=0)  # Ensure x-axis labels are not rotated\n",
    "plt.show()\n"
   ]
  },
  {
   "cell_type": "code",
   "execution_count": null,
   "id": "e0fa8434",
   "metadata": {
    "papermill": {
     "duration": 0.029607,
     "end_time": "2024-06-20T19:55:24.558020",
     "exception": false,
     "start_time": "2024-06-20T19:55:24.528413",
     "status": "completed"
    },
    "tags": []
   },
   "outputs": [],
   "source": []
  }
 ],
 "metadata": {
  "kaggle": {
   "accelerator": "none",
   "dataSources": [
    {
     "datasetId": 2378281,
     "sourceId": 4035845,
     "sourceType": "datasetVersion"
    }
   ],
   "dockerImageVersionId": 30513,
   "isGpuEnabled": false,
   "isInternetEnabled": false,
   "language": "python",
   "sourceType": "notebook"
  },
  "kernelspec": {
   "display_name": "Python 3",
   "language": "python",
   "name": "python3"
  },
  "language_info": {
   "codemirror_mode": {
    "name": "ipython",
    "version": 3
   },
   "file_extension": ".py",
   "mimetype": "text/x-python",
   "name": "python",
   "nbconvert_exporter": "python",
   "pygments_lexer": "ipython3",
   "version": "3.10.10"
  },
  "papermill": {
   "default_parameters": {},
   "duration": 21.99211,
   "end_time": "2024-06-20T19:55:25.611185",
   "environment_variables": {},
   "exception": null,
   "input_path": "__notebook__.ipynb",
   "output_path": "__notebook__.ipynb",
   "parameters": {},
   "start_time": "2024-06-20T19:55:03.619075",
   "version": "2.4.0"
  }
 },
 "nbformat": 4,
 "nbformat_minor": 5
}
