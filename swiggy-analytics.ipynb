{
 "cells": [
  {
   "cell_type": "markdown",
   "id": "4f655956",
   "metadata": {
    "papermill": {
     "duration": 0.01275,
     "end_time": "2023-06-27T14:46:01.125363",
     "exception": false,
     "start_time": "2023-06-27T14:46:01.112613",
     "status": "completed"
    },
    "tags": []
   },
   "source": [
    "# Importing Libraries"
   ]
  },
  {
   "cell_type": "code",
   "execution_count": 1,
   "id": "3c8b1059",
   "metadata": {
    "execution": {
     "iopub.execute_input": "2023-06-27T14:46:01.147569Z",
     "iopub.status.busy": "2023-06-27T14:46:01.146788Z",
     "iopub.status.idle": "2023-06-27T14:46:02.760127Z",
     "shell.execute_reply": "2023-06-27T14:46:02.758786Z"
    },
    "papermill": {
     "duration": 1.627888,
     "end_time": "2023-06-27T14:46:02.763247",
     "exception": false,
     "start_time": "2023-06-27T14:46:01.135359",
     "status": "completed"
    },
    "tags": []
   },
   "outputs": [],
   "source": [
    "import numpy as np # linear algebra\n",
    "import pandas as pd # data processing, CSV file I/O (e.g. pd.read_csv)\n",
    "import matplotlib.pyplot as plt\n",
    "import seaborn as sns\n",
    "plt.style.use('dark_background')"
   ]
  },
  {
   "cell_type": "markdown",
   "id": "d71bb72b",
   "metadata": {
    "papermill": {
     "duration": 0.009164,
     "end_time": "2023-06-27T14:46:02.782281",
     "exception": false,
     "start_time": "2023-06-27T14:46:02.773117",
     "status": "completed"
    },
    "tags": []
   },
   "source": [
    "#  Reading CSV"
   ]
  },
  {
   "cell_type": "code",
   "execution_count": 2,
   "id": "789cb5a9",
   "metadata": {
    "execution": {
     "iopub.execute_input": "2023-06-27T14:46:02.803774Z",
     "iopub.status.busy": "2023-06-27T14:46:02.803342Z",
     "iopub.status.idle": "2023-06-27T14:46:02.858843Z",
     "shell.execute_reply": "2023-06-27T14:46:02.858006Z"
    },
    "papermill": {
     "duration": 0.069368,
     "end_time": "2023-06-27T14:46:02.861862",
     "exception": false,
     "start_time": "2023-06-27T14:46:02.792494",
     "status": "completed"
    },
    "tags": []
   },
   "outputs": [
    {
     "data": {
      "text/html": [
       "<div>\n",
       "<style scoped>\n",
       "    .dataframe tbody tr th:only-of-type {\n",
       "        vertical-align: middle;\n",
       "    }\n",
       "\n",
       "    .dataframe tbody tr th {\n",
       "        vertical-align: top;\n",
       "    }\n",
       "\n",
       "    .dataframe thead th {\n",
       "        text-align: right;\n",
       "    }\n",
       "</style>\n",
       "<table border=\"1\" class=\"dataframe\">\n",
       "  <thead>\n",
       "    <tr style=\"text-align: right;\">\n",
       "      <th></th>\n",
       "      <th>name</th>\n",
       "      <th>cuisine</th>\n",
       "      <th>location</th>\n",
       "      <th>rating</th>\n",
       "      <th>num_of_rating</th>\n",
       "      <th>price_for_two</th>\n",
       "    </tr>\n",
       "  </thead>\n",
       "  <tbody>\n",
       "    <tr>\n",
       "      <th>0</th>\n",
       "      <td>Momo Maker</td>\n",
       "      <td>Snacks, Tandoor</td>\n",
       "      <td>CentraL Market, Lajpat Nagar</td>\n",
       "      <td>4.7</td>\n",
       "      <td>20+ ratings</td>\n",
       "      <td>₹ 200</td>\n",
       "    </tr>\n",
       "    <tr>\n",
       "      <th>1</th>\n",
       "      <td>Moets Kulfi</td>\n",
       "      <td>Desserts, Beverages</td>\n",
       "      <td>Defence colony market, Defence Colony</td>\n",
       "      <td>4.7</td>\n",
       "      <td>50+ ratings</td>\n",
       "      <td>₹ 200</td>\n",
       "    </tr>\n",
       "    <tr>\n",
       "      <th>2</th>\n",
       "      <td>Behrouz Biryani - Royal &amp; Safe</td>\n",
       "      <td>Biryani, Mughlai</td>\n",
       "      <td>Near Metro Station, Shakarpur Khas</td>\n",
       "      <td>4.7</td>\n",
       "      <td>1K+ ratings</td>\n",
       "      <td>₹ 500</td>\n",
       "    </tr>\n",
       "    <tr>\n",
       "      <th>3</th>\n",
       "      <td>Triveni Terrace Cafe</td>\n",
       "      <td>Indian</td>\n",
       "      <td>Opposite FICCI Auditorium, Mandi House</td>\n",
       "      <td>4.7</td>\n",
       "      <td>50+ ratings</td>\n",
       "      <td>₹ 400</td>\n",
       "    </tr>\n",
       "    <tr>\n",
       "      <th>4</th>\n",
       "      <td>Momo Guy</td>\n",
       "      <td>Chinese, Tibetan</td>\n",
       "      <td>GTB Nagar, GTB Nagar</td>\n",
       "      <td>4.6</td>\n",
       "      <td>20+ ratings</td>\n",
       "      <td>₹ 200</td>\n",
       "    </tr>\n",
       "  </tbody>\n",
       "</table>\n",
       "</div>"
      ],
      "text/plain": [
       "                             name              cuisine  \\\n",
       "0                      Momo Maker      Snacks, Tandoor   \n",
       "1                     Moets Kulfi  Desserts, Beverages   \n",
       "2  Behrouz Biryani - Royal & Safe     Biryani, Mughlai   \n",
       "3            Triveni Terrace Cafe               Indian   \n",
       "4                        Momo Guy     Chinese, Tibetan   \n",
       "\n",
       "                                 location rating num_of_rating price_for_two  \n",
       "0            CentraL Market, Lajpat Nagar    4.7   20+ ratings         ₹ 200  \n",
       "1   Defence colony market, Defence Colony    4.7   50+ ratings         ₹ 200  \n",
       "2      Near Metro Station, Shakarpur Khas    4.7   1K+ ratings         ₹ 500  \n",
       "3  Opposite FICCI Auditorium, Mandi House    4.7   50+ ratings         ₹ 400  \n",
       "4                    GTB Nagar, GTB Nagar    4.6   20+ ratings         ₹ 200  "
      ]
     },
     "execution_count": 2,
     "metadata": {},
     "output_type": "execute_result"
    }
   ],
   "source": [
    "df = pd.read_csv('../input/swiggys-top-rated-restaurants-in-delhi/rest_delhi1.csv')\n",
    "df.head()"
   ]
  },
  {
   "cell_type": "code",
   "execution_count": 3,
   "id": "1fca4fa1",
   "metadata": {
    "execution": {
     "iopub.execute_input": "2023-06-27T14:46:02.884292Z",
     "iopub.status.busy": "2023-06-27T14:46:02.883022Z",
     "iopub.status.idle": "2023-06-27T14:46:02.891072Z",
     "shell.execute_reply": "2023-06-27T14:46:02.890080Z"
    },
    "papermill": {
     "duration": 0.02148,
     "end_time": "2023-06-27T14:46:02.893424",
     "exception": false,
     "start_time": "2023-06-27T14:46:02.871944",
     "status": "completed"
    },
    "tags": []
   },
   "outputs": [
    {
     "data": {
      "text/plain": [
       "(912, 6)"
      ]
     },
     "execution_count": 3,
     "metadata": {},
     "output_type": "execute_result"
    }
   ],
   "source": [
    "df.shape"
   ]
  },
  {
   "cell_type": "code",
   "execution_count": 4,
   "id": "fd11457b",
   "metadata": {
    "execution": {
     "iopub.execute_input": "2023-06-27T14:46:02.915784Z",
     "iopub.status.busy": "2023-06-27T14:46:02.914948Z",
     "iopub.status.idle": "2023-06-27T14:46:02.922252Z",
     "shell.execute_reply": "2023-06-27T14:46:02.921275Z"
    },
    "papermill": {
     "duration": 0.020899,
     "end_time": "2023-06-27T14:46:02.924596",
     "exception": false,
     "start_time": "2023-06-27T14:46:02.903697",
     "status": "completed"
    },
    "tags": []
   },
   "outputs": [
    {
     "data": {
      "text/plain": [
       "Index(['name', 'cuisine', 'location', 'rating', 'num_of_rating',\n",
       "       'price_for_two'],\n",
       "      dtype='object')"
      ]
     },
     "execution_count": 4,
     "metadata": {},
     "output_type": "execute_result"
    }
   ],
   "source": [
    "df.columns"
   ]
  },
  {
   "cell_type": "code",
   "execution_count": 5,
   "id": "fe28475e",
   "metadata": {
    "execution": {
     "iopub.execute_input": "2023-06-27T14:46:02.946796Z",
     "iopub.status.busy": "2023-06-27T14:46:02.946014Z",
     "iopub.status.idle": "2023-06-27T14:46:02.973377Z",
     "shell.execute_reply": "2023-06-27T14:46:02.972413Z"
    },
    "papermill": {
     "duration": 0.041438,
     "end_time": "2023-06-27T14:46:02.976075",
     "exception": false,
     "start_time": "2023-06-27T14:46:02.934637",
     "status": "completed"
    },
    "tags": []
   },
   "outputs": [
    {
     "name": "stdout",
     "output_type": "stream",
     "text": [
      "<class 'pandas.core.frame.DataFrame'>\n",
      "RangeIndex: 912 entries, 0 to 911\n",
      "Data columns (total 6 columns):\n",
      " #   Column         Non-Null Count  Dtype \n",
      "---  ------         --------------  ----- \n",
      " 0   name           912 non-null    object\n",
      " 1   cuisine        912 non-null    object\n",
      " 2   location       912 non-null    object\n",
      " 3   rating         912 non-null    object\n",
      " 4   num_of_rating  912 non-null    object\n",
      " 5   price_for_two  912 non-null    object\n",
      "dtypes: object(6)\n",
      "memory usage: 42.9+ KB\n"
     ]
    }
   ],
   "source": [
    "df.info()"
   ]
  },
  {
   "cell_type": "markdown",
   "id": "b64a306e",
   "metadata": {
    "papermill": {
     "duration": 0.009701,
     "end_time": "2023-06-27T14:46:02.996356",
     "exception": false,
     "start_time": "2023-06-27T14:46:02.986655",
     "status": "completed"
    },
    "tags": []
   },
   "source": [
    "# Dropping Duplicates"
   ]
  },
  {
   "cell_type": "code",
   "execution_count": 6,
   "id": "130761d5",
   "metadata": {
    "execution": {
     "iopub.execute_input": "2023-06-27T14:46:03.019275Z",
     "iopub.status.busy": "2023-06-27T14:46:03.018506Z",
     "iopub.status.idle": "2023-06-27T14:46:03.029797Z",
     "shell.execute_reply": "2023-06-27T14:46:03.028450Z"
    },
    "papermill": {
     "duration": 0.025365,
     "end_time": "2023-06-27T14:46:03.032214",
     "exception": false,
     "start_time": "2023-06-27T14:46:03.006849",
     "status": "completed"
    },
    "tags": []
   },
   "outputs": [
    {
     "data": {
      "text/plain": [
       "(764, 6)"
      ]
     },
     "execution_count": 6,
     "metadata": {},
     "output_type": "execute_result"
    }
   ],
   "source": [
    "df.drop_duplicates(inplace = True)\n",
    "df.shape"
   ]
  },
  {
   "cell_type": "markdown",
   "id": "00640dc3",
   "metadata": {
    "papermill": {
     "duration": 0.010075,
     "end_time": "2023-06-27T14:46:03.052960",
     "exception": false,
     "start_time": "2023-06-27T14:46:03.042885",
     "status": "completed"
    },
    "tags": []
   },
   "source": [
    "# Cleaning rating column"
   ]
  },
  {
   "cell_type": "code",
   "execution_count": 7,
   "id": "acede577",
   "metadata": {
    "execution": {
     "iopub.execute_input": "2023-06-27T14:46:03.075862Z",
     "iopub.status.busy": "2023-06-27T14:46:03.075084Z",
     "iopub.status.idle": "2023-06-27T14:46:03.082702Z",
     "shell.execute_reply": "2023-06-27T14:46:03.081485Z"
    },
    "papermill": {
     "duration": 0.022181,
     "end_time": "2023-06-27T14:46:03.085393",
     "exception": false,
     "start_time": "2023-06-27T14:46:03.063212",
     "status": "completed"
    },
    "tags": []
   },
   "outputs": [
    {
     "data": {
      "text/plain": [
       "array(['4.7', '4.6', '4.5', '4.4', '4.3', '4.2', '4.1', '4.0', '3.9',\n",
       "       '3.8', '3.7', '3.6', '3.5', '3.4', '3.3', '3.2', '3.1', '3.0',\n",
       "       '2.9', '2.8', '2.7', '2.3', '2.2', '--'], dtype=object)"
      ]
     },
     "execution_count": 7,
     "metadata": {},
     "output_type": "execute_result"
    }
   ],
   "source": [
    "df['rating'].unique()"
   ]
  },
  {
   "cell_type": "markdown",
   "id": "15971fd0",
   "metadata": {
    "papermill": {
     "duration": 0.010419,
     "end_time": "2023-06-27T14:46:03.106565",
     "exception": false,
     "start_time": "2023-06-27T14:46:03.096146",
     "status": "completed"
    },
    "tags": []
   },
   "source": [
    "# Removing '--' from rating column"
   ]
  },
  {
   "cell_type": "code",
   "execution_count": 8,
   "id": "5f3dc0a5",
   "metadata": {
    "execution": {
     "iopub.execute_input": "2023-06-27T14:46:03.129630Z",
     "iopub.status.busy": "2023-06-27T14:46:03.129193Z",
     "iopub.status.idle": "2023-06-27T14:46:03.138434Z",
     "shell.execute_reply": "2023-06-27T14:46:03.137276Z"
    },
    "papermill": {
     "duration": 0.0237,
     "end_time": "2023-06-27T14:46:03.140682",
     "exception": false,
     "start_time": "2023-06-27T14:46:03.116982",
     "status": "completed"
    },
    "tags": []
   },
   "outputs": [
    {
     "data": {
      "text/plain": [
       "0    4.7\n",
       "1    4.7\n",
       "2    4.7\n",
       "3    4.7\n",
       "4    4.6\n",
       "Name: rating, dtype: object"
      ]
     },
     "execution_count": 8,
     "metadata": {},
     "output_type": "execute_result"
    }
   ],
   "source": [
    "'''def handlerating(value):\n",
    "    if value=='--':\n",
    "        return np.nan\n",
    "    else:\n",
    "        return float(value)\n",
    "    \n",
    "df['rating'] = df['rating'].apply(handlerating)'''\n",
    "df['rating'].head()"
   ]
  },
  {
   "cell_type": "code",
   "execution_count": 9,
   "id": "09337a09",
   "metadata": {
    "execution": {
     "iopub.execute_input": "2023-06-27T14:46:03.163617Z",
     "iopub.status.busy": "2023-06-27T14:46:03.163163Z",
     "iopub.status.idle": "2023-06-27T14:46:03.171197Z",
     "shell.execute_reply": "2023-06-27T14:46:03.170075Z"
    },
    "papermill": {
     "duration": 0.02262,
     "end_time": "2023-06-27T14:46:03.173852",
     "exception": false,
     "start_time": "2023-06-27T14:46:03.151232",
     "status": "completed"
    },
    "tags": []
   },
   "outputs": [
    {
     "data": {
      "text/plain": [
       "0"
      ]
     },
     "execution_count": 9,
     "metadata": {},
     "output_type": "execute_result"
    }
   ],
   "source": [
    "df.rating.isnull().sum()"
   ]
  },
  {
   "cell_type": "markdown",
   "id": "4ddc782b",
   "metadata": {
    "papermill": {
     "duration": 0.010545,
     "end_time": "2023-06-27T14:46:03.195608",
     "exception": false,
     "start_time": "2023-06-27T14:46:03.185063",
     "status": "completed"
    },
    "tags": []
   },
   "source": [
    "# Filling Null values in Rating column with Mean"
   ]
  },
  {
   "cell_type": "code",
   "execution_count": 10,
   "id": "362bedd5",
   "metadata": {
    "execution": {
     "iopub.execute_input": "2023-06-27T14:46:03.219330Z",
     "iopub.status.busy": "2023-06-27T14:46:03.218943Z",
     "iopub.status.idle": "2023-06-27T14:46:03.225388Z",
     "shell.execute_reply": "2023-06-27T14:46:03.224245Z"
    },
    "papermill": {
     "duration": 0.021306,
     "end_time": "2023-06-27T14:46:03.227503",
     "exception": false,
     "start_time": "2023-06-27T14:46:03.206197",
     "status": "completed"
    },
    "tags": []
   },
   "outputs": [
    {
     "data": {
      "text/plain": [
       "\"df['rating'].fillna(df['rating'].mean(), inplace = True)\\ndf['rating'].isnull().sum()\""
      ]
     },
     "execution_count": 10,
     "metadata": {},
     "output_type": "execute_result"
    }
   ],
   "source": [
    "'''df['rating'].fillna(df['rating'].mean(), inplace = True)\n",
    "df['rating'].isnull().sum()'''"
   ]
  },
  {
   "cell_type": "code",
   "execution_count": 11,
   "id": "156be105",
   "metadata": {
    "execution": {
     "iopub.execute_input": "2023-06-27T14:46:03.251046Z",
     "iopub.status.busy": "2023-06-27T14:46:03.250651Z",
     "iopub.status.idle": "2023-06-27T14:46:03.264652Z",
     "shell.execute_reply": "2023-06-27T14:46:03.263000Z"
    },
    "papermill": {
     "duration": 0.028971,
     "end_time": "2023-06-27T14:46:03.267429",
     "exception": false,
     "start_time": "2023-06-27T14:46:03.238458",
     "status": "completed"
    },
    "tags": []
   },
   "outputs": [
    {
     "name": "stdout",
     "output_type": "stream",
     "text": [
      "<class 'pandas.core.frame.DataFrame'>\n",
      "Int64Index: 764 entries, 0 to 911\n",
      "Data columns (total 6 columns):\n",
      " #   Column         Non-Null Count  Dtype \n",
      "---  ------         --------------  ----- \n",
      " 0   name           764 non-null    object\n",
      " 1   cuisine        764 non-null    object\n",
      " 2   location       764 non-null    object\n",
      " 3   rating         764 non-null    object\n",
      " 4   num_of_rating  764 non-null    object\n",
      " 5   price_for_two  764 non-null    object\n",
      "dtypes: object(6)\n",
      "memory usage: 41.8+ KB\n"
     ]
    }
   ],
   "source": [
    "df.info()"
   ]
  },
  {
   "cell_type": "code",
   "execution_count": 12,
   "id": "52ad20f2",
   "metadata": {
    "execution": {
     "iopub.execute_input": "2023-06-27T14:46:03.295393Z",
     "iopub.status.busy": "2023-06-27T14:46:03.295010Z",
     "iopub.status.idle": "2023-06-27T14:46:03.310338Z",
     "shell.execute_reply": "2023-06-27T14:46:03.308698Z"
    },
    "papermill": {
     "duration": 0.031794,
     "end_time": "2023-06-27T14:46:03.313047",
     "exception": false,
     "start_time": "2023-06-27T14:46:03.281253",
     "status": "completed"
    },
    "tags": []
   },
   "outputs": [
    {
     "data": {
      "text/html": [
       "<div>\n",
       "<style scoped>\n",
       "    .dataframe tbody tr th:only-of-type {\n",
       "        vertical-align: middle;\n",
       "    }\n",
       "\n",
       "    .dataframe tbody tr th {\n",
       "        vertical-align: top;\n",
       "    }\n",
       "\n",
       "    .dataframe thead th {\n",
       "        text-align: right;\n",
       "    }\n",
       "</style>\n",
       "<table border=\"1\" class=\"dataframe\">\n",
       "  <thead>\n",
       "    <tr style=\"text-align: right;\">\n",
       "      <th></th>\n",
       "      <th>name</th>\n",
       "      <th>cuisine</th>\n",
       "      <th>location</th>\n",
       "      <th>rating</th>\n",
       "      <th>num_of_rating</th>\n",
       "      <th>price_for_two</th>\n",
       "    </tr>\n",
       "  </thead>\n",
       "  <tbody>\n",
       "    <tr>\n",
       "      <th>0</th>\n",
       "      <td>Momo Maker</td>\n",
       "      <td>Snacks, Tandoor</td>\n",
       "      <td>CentraL Market, Lajpat Nagar</td>\n",
       "      <td>4.7</td>\n",
       "      <td>20+ ratings</td>\n",
       "      <td>₹ 200</td>\n",
       "    </tr>\n",
       "    <tr>\n",
       "      <th>1</th>\n",
       "      <td>Moets Kulfi</td>\n",
       "      <td>Desserts, Beverages</td>\n",
       "      <td>Defence colony market, Defence Colony</td>\n",
       "      <td>4.7</td>\n",
       "      <td>50+ ratings</td>\n",
       "      <td>₹ 200</td>\n",
       "    </tr>\n",
       "    <tr>\n",
       "      <th>2</th>\n",
       "      <td>Behrouz Biryani - Royal &amp; Safe</td>\n",
       "      <td>Biryani, Mughlai</td>\n",
       "      <td>Near Metro Station, Shakarpur Khas</td>\n",
       "      <td>4.7</td>\n",
       "      <td>1K+ ratings</td>\n",
       "      <td>₹ 500</td>\n",
       "    </tr>\n",
       "    <tr>\n",
       "      <th>3</th>\n",
       "      <td>Triveni Terrace Cafe</td>\n",
       "      <td>Indian</td>\n",
       "      <td>Opposite FICCI Auditorium, Mandi House</td>\n",
       "      <td>4.7</td>\n",
       "      <td>50+ ratings</td>\n",
       "      <td>₹ 400</td>\n",
       "    </tr>\n",
       "    <tr>\n",
       "      <th>4</th>\n",
       "      <td>Momo Guy</td>\n",
       "      <td>Chinese, Tibetan</td>\n",
       "      <td>GTB Nagar, GTB Nagar</td>\n",
       "      <td>4.6</td>\n",
       "      <td>20+ ratings</td>\n",
       "      <td>₹ 200</td>\n",
       "    </tr>\n",
       "  </tbody>\n",
       "</table>\n",
       "</div>"
      ],
      "text/plain": [
       "                             name              cuisine  \\\n",
       "0                      Momo Maker      Snacks, Tandoor   \n",
       "1                     Moets Kulfi  Desserts, Beverages   \n",
       "2  Behrouz Biryani - Royal & Safe     Biryani, Mughlai   \n",
       "3            Triveni Terrace Cafe               Indian   \n",
       "4                        Momo Guy     Chinese, Tibetan   \n",
       "\n",
       "                                 location rating num_of_rating price_for_two  \n",
       "0            CentraL Market, Lajpat Nagar    4.7   20+ ratings         ₹ 200  \n",
       "1   Defence colony market, Defence Colony    4.7   50+ ratings         ₹ 200  \n",
       "2      Near Metro Station, Shakarpur Khas    4.7   1K+ ratings         ₹ 500  \n",
       "3  Opposite FICCI Auditorium, Mandi House    4.7   50+ ratings         ₹ 400  \n",
       "4                    GTB Nagar, GTB Nagar    4.6   20+ ratings         ₹ 200  "
      ]
     },
     "execution_count": 12,
     "metadata": {},
     "output_type": "execute_result"
    }
   ],
   "source": [
    "df.head()"
   ]
  },
  {
   "cell_type": "code",
   "execution_count": 13,
   "id": "4ef9e514",
   "metadata": {
    "execution": {
     "iopub.execute_input": "2023-06-27T14:46:03.339768Z",
     "iopub.status.busy": "2023-06-27T14:46:03.339106Z",
     "iopub.status.idle": "2023-06-27T14:46:03.355490Z",
     "shell.execute_reply": "2023-06-27T14:46:03.354047Z"
    },
    "papermill": {
     "duration": 0.03232,
     "end_time": "2023-06-27T14:46:03.358113",
     "exception": false,
     "start_time": "2023-06-27T14:46:03.325793",
     "status": "completed"
    },
    "tags": []
   },
   "outputs": [
    {
     "data": {
      "text/html": [
       "<div>\n",
       "<style scoped>\n",
       "    .dataframe tbody tr th:only-of-type {\n",
       "        vertical-align: middle;\n",
       "    }\n",
       "\n",
       "    .dataframe tbody tr th {\n",
       "        vertical-align: top;\n",
       "    }\n",
       "\n",
       "    .dataframe thead th {\n",
       "        text-align: right;\n",
       "    }\n",
       "</style>\n",
       "<table border=\"1\" class=\"dataframe\">\n",
       "  <thead>\n",
       "    <tr style=\"text-align: right;\">\n",
       "      <th></th>\n",
       "      <th>name</th>\n",
       "      <th>cuisine</th>\n",
       "      <th>location</th>\n",
       "      <th>rating</th>\n",
       "      <th>num_of_rating</th>\n",
       "      <th>cost2plates</th>\n",
       "    </tr>\n",
       "  </thead>\n",
       "  <tbody>\n",
       "    <tr>\n",
       "      <th>0</th>\n",
       "      <td>Momo Maker</td>\n",
       "      <td>Snacks, Tandoor</td>\n",
       "      <td>CentraL Market, Lajpat Nagar</td>\n",
       "      <td>4.7</td>\n",
       "      <td>20+ ratings</td>\n",
       "      <td>₹ 200</td>\n",
       "    </tr>\n",
       "    <tr>\n",
       "      <th>1</th>\n",
       "      <td>Moets Kulfi</td>\n",
       "      <td>Desserts, Beverages</td>\n",
       "      <td>Defence colony market, Defence Colony</td>\n",
       "      <td>4.7</td>\n",
       "      <td>50+ ratings</td>\n",
       "      <td>₹ 200</td>\n",
       "    </tr>\n",
       "    <tr>\n",
       "      <th>2</th>\n",
       "      <td>Behrouz Biryani - Royal &amp; Safe</td>\n",
       "      <td>Biryani, Mughlai</td>\n",
       "      <td>Near Metro Station, Shakarpur Khas</td>\n",
       "      <td>4.7</td>\n",
       "      <td>1K+ ratings</td>\n",
       "      <td>₹ 500</td>\n",
       "    </tr>\n",
       "    <tr>\n",
       "      <th>3</th>\n",
       "      <td>Triveni Terrace Cafe</td>\n",
       "      <td>Indian</td>\n",
       "      <td>Opposite FICCI Auditorium, Mandi House</td>\n",
       "      <td>4.7</td>\n",
       "      <td>50+ ratings</td>\n",
       "      <td>₹ 400</td>\n",
       "    </tr>\n",
       "    <tr>\n",
       "      <th>4</th>\n",
       "      <td>Momo Guy</td>\n",
       "      <td>Chinese, Tibetan</td>\n",
       "      <td>GTB Nagar, GTB Nagar</td>\n",
       "      <td>4.6</td>\n",
       "      <td>20+ ratings</td>\n",
       "      <td>₹ 200</td>\n",
       "    </tr>\n",
       "  </tbody>\n",
       "</table>\n",
       "</div>"
      ],
      "text/plain": [
       "                             name              cuisine  \\\n",
       "0                      Momo Maker      Snacks, Tandoor   \n",
       "1                     Moets Kulfi  Desserts, Beverages   \n",
       "2  Behrouz Biryani - Royal & Safe     Biryani, Mughlai   \n",
       "3            Triveni Terrace Cafe               Indian   \n",
       "4                        Momo Guy     Chinese, Tibetan   \n",
       "\n",
       "                                 location rating num_of_rating cost2plates  \n",
       "0            CentraL Market, Lajpat Nagar    4.7   20+ ratings       ₹ 200  \n",
       "1   Defence colony market, Defence Colony    4.7   50+ ratings       ₹ 200  \n",
       "2      Near Metro Station, Shakarpur Khas    4.7   1K+ ratings       ₹ 500  \n",
       "3  Opposite FICCI Auditorium, Mandi House    4.7   50+ ratings       ₹ 400  \n",
       "4                    GTB Nagar, GTB Nagar    4.6   20+ ratings       ₹ 200  "
      ]
     },
     "execution_count": 13,
     "metadata": {},
     "output_type": "execute_result"
    }
   ],
   "source": [
    "df.rename(columns = {'price_for_two':'cost2plates'},inplace=True)\n",
    "df.head()"
   ]
  },
  {
   "cell_type": "code",
   "execution_count": 14,
   "id": "2803e2a2",
   "metadata": {
    "execution": {
     "iopub.execute_input": "2023-06-27T14:46:03.384485Z",
     "iopub.status.busy": "2023-06-27T14:46:03.384059Z",
     "iopub.status.idle": "2023-06-27T14:46:03.393210Z",
     "shell.execute_reply": "2023-06-27T14:46:03.392002Z"
    },
    "papermill": {
     "duration": 0.025676,
     "end_time": "2023-06-27T14:46:03.395799",
     "exception": false,
     "start_time": "2023-06-27T14:46:03.370123",
     "status": "completed"
    },
    "tags": []
   },
   "outputs": [
    {
     "data": {
      "text/plain": [
       "array(['₹ 200', '₹ 500', '₹ 400', '₹ 150', '₹ 350', '₹ 600', '₹ 300',\n",
       "       '₹ 1500', '₹ 1400', '₹ 800', '₹ 250', '₹ 120', '₹ 100', '₹ 550',\n",
       "       '₹ 450', '₹ 1200', '₹ 220', '₹ 1100', '₹ 900', '₹ 180', '₹ 1000',\n",
       "       '₹ 1800', '₹ 225', '₹ 850', '₹ 700', '₹ 229', '₹ 160', '₹ 270',\n",
       "       '₹ 1050', '₹ 149', '₹ 299', '₹ 499', '₹ 80', '₹ 75', '₹ 430',\n",
       "       '₹ 1300', '₹ 99', '₹ 280', '₹ 240', '₹ 750', '₹ 399'], dtype=object)"
      ]
     },
     "execution_count": 14,
     "metadata": {},
     "output_type": "execute_result"
    }
   ],
   "source": [
    "df['cost2plates'].unique()"
   ]
  },
  {
   "cell_type": "code",
   "execution_count": 15,
   "id": "3928018d",
   "metadata": {
    "execution": {
     "iopub.execute_input": "2023-06-27T14:46:03.424369Z",
     "iopub.status.busy": "2023-06-27T14:46:03.423941Z",
     "iopub.status.idle": "2023-06-27T14:46:03.436142Z",
     "shell.execute_reply": "2023-06-27T14:46:03.435000Z"
    },
    "papermill": {
     "duration": 0.029196,
     "end_time": "2023-06-27T14:46:03.438477",
     "exception": false,
     "start_time": "2023-06-27T14:46:03.409281",
     "status": "completed"
    },
    "tags": []
   },
   "outputs": [
    {
     "data": {
      "text/plain": [
       "array([ 200.,  500.,  400.,  150.,  350.,  600.,  300., 1500., 1400.,\n",
       "        800.,  250.,  120.,  100.,  550.,  450., 1200.,  220., 1100.,\n",
       "        900.,  180., 1000., 1800.,  225.,  850.,  700.,  229.,  160.,\n",
       "        270., 1050.,  149.,  299.,  499.,   80.,   75.,  430., 1300.,\n",
       "         99.,  280.,  240.,  750.,  399.])"
      ]
     },
     "execution_count": 15,
     "metadata": {},
     "output_type": "execute_result"
    }
   ],
   "source": [
    "def handle_rupeesign(value):\n",
    "    value = str(value)\n",
    "    if '₹' in value:\n",
    "        value = value.replace('₹', '')\n",
    "        return float(value)\n",
    "    else:\n",
    "        return float(value)\n",
    "    \n",
    "df['cost2plates'] = df['cost2plates'].apply(handle_rupeesign)\n",
    "df['cost2plates'].unique()\n",
    "        "
   ]
  },
  {
   "cell_type": "code",
   "execution_count": 16,
   "id": "1d3685a2",
   "metadata": {
    "execution": {
     "iopub.execute_input": "2023-06-27T14:46:03.465838Z",
     "iopub.status.busy": "2023-06-27T14:46:03.465366Z",
     "iopub.status.idle": "2023-06-27T14:46:03.481145Z",
     "shell.execute_reply": "2023-06-27T14:46:03.479873Z"
    },
    "papermill": {
     "duration": 0.033875,
     "end_time": "2023-06-27T14:46:03.484946",
     "exception": false,
     "start_time": "2023-06-27T14:46:03.451071",
     "status": "completed"
    },
    "tags": []
   },
   "outputs": [
    {
     "data": {
      "text/html": [
       "<div>\n",
       "<style scoped>\n",
       "    .dataframe tbody tr th:only-of-type {\n",
       "        vertical-align: middle;\n",
       "    }\n",
       "\n",
       "    .dataframe tbody tr th {\n",
       "        vertical-align: top;\n",
       "    }\n",
       "\n",
       "    .dataframe thead th {\n",
       "        text-align: right;\n",
       "    }\n",
       "</style>\n",
       "<table border=\"1\" class=\"dataframe\">\n",
       "  <thead>\n",
       "    <tr style=\"text-align: right;\">\n",
       "      <th></th>\n",
       "      <th>name</th>\n",
       "      <th>cuisine</th>\n",
       "      <th>location</th>\n",
       "      <th>rating</th>\n",
       "      <th>num_of_rating</th>\n",
       "      <th>cost2plates</th>\n",
       "    </tr>\n",
       "  </thead>\n",
       "  <tbody>\n",
       "    <tr>\n",
       "      <th>0</th>\n",
       "      <td>Momo Maker</td>\n",
       "      <td>Snacks, Tandoor</td>\n",
       "      <td>CentraL Market, Lajpat Nagar</td>\n",
       "      <td>4.7</td>\n",
       "      <td>20+ ratings</td>\n",
       "      <td>200.0</td>\n",
       "    </tr>\n",
       "    <tr>\n",
       "      <th>1</th>\n",
       "      <td>Moets Kulfi</td>\n",
       "      <td>Desserts, Beverages</td>\n",
       "      <td>Defence colony market, Defence Colony</td>\n",
       "      <td>4.7</td>\n",
       "      <td>50+ ratings</td>\n",
       "      <td>200.0</td>\n",
       "    </tr>\n",
       "    <tr>\n",
       "      <th>2</th>\n",
       "      <td>Behrouz Biryani - Royal &amp; Safe</td>\n",
       "      <td>Biryani, Mughlai</td>\n",
       "      <td>Near Metro Station, Shakarpur Khas</td>\n",
       "      <td>4.7</td>\n",
       "      <td>1K+ ratings</td>\n",
       "      <td>500.0</td>\n",
       "    </tr>\n",
       "    <tr>\n",
       "      <th>3</th>\n",
       "      <td>Triveni Terrace Cafe</td>\n",
       "      <td>Indian</td>\n",
       "      <td>Opposite FICCI Auditorium, Mandi House</td>\n",
       "      <td>4.7</td>\n",
       "      <td>50+ ratings</td>\n",
       "      <td>400.0</td>\n",
       "    </tr>\n",
       "    <tr>\n",
       "      <th>4</th>\n",
       "      <td>Momo Guy</td>\n",
       "      <td>Chinese, Tibetan</td>\n",
       "      <td>GTB Nagar, GTB Nagar</td>\n",
       "      <td>4.6</td>\n",
       "      <td>20+ ratings</td>\n",
       "      <td>200.0</td>\n",
       "    </tr>\n",
       "  </tbody>\n",
       "</table>\n",
       "</div>"
      ],
      "text/plain": [
       "                             name              cuisine  \\\n",
       "0                      Momo Maker      Snacks, Tandoor   \n",
       "1                     Moets Kulfi  Desserts, Beverages   \n",
       "2  Behrouz Biryani - Royal & Safe     Biryani, Mughlai   \n",
       "3            Triveni Terrace Cafe               Indian   \n",
       "4                        Momo Guy     Chinese, Tibetan   \n",
       "\n",
       "                                 location rating num_of_rating  cost2plates  \n",
       "0            CentraL Market, Lajpat Nagar    4.7   20+ ratings        200.0  \n",
       "1   Defence colony market, Defence Colony    4.7   50+ ratings        200.0  \n",
       "2      Near Metro Station, Shakarpur Khas    4.7   1K+ ratings        500.0  \n",
       "3  Opposite FICCI Auditorium, Mandi House    4.7   50+ ratings        400.0  \n",
       "4                    GTB Nagar, GTB Nagar    4.6   20+ ratings        200.0  "
      ]
     },
     "execution_count": 16,
     "metadata": {},
     "output_type": "execute_result"
    }
   ],
   "source": [
    "df.head()"
   ]
  },
  {
   "cell_type": "code",
   "execution_count": 17,
   "id": "40869447",
   "metadata": {
    "execution": {
     "iopub.execute_input": "2023-06-27T14:46:03.512068Z",
     "iopub.status.busy": "2023-06-27T14:46:03.511666Z",
     "iopub.status.idle": "2023-06-27T14:46:03.522534Z",
     "shell.execute_reply": "2023-06-27T14:46:03.521218Z"
    },
    "papermill": {
     "duration": 0.027589,
     "end_time": "2023-06-27T14:46:03.524923",
     "exception": false,
     "start_time": "2023-06-27T14:46:03.497334",
     "status": "completed"
    },
    "tags": []
   },
   "outputs": [
    {
     "data": {
      "text/plain": [
       "Laxmi Nagar, Laxmi Nagar                          114\n",
       "Lajpat Nagar, Lajpat Nagar                         59\n",
       "Connaught Place, Connaught Place                   33\n",
       "GTB Nagar, GTB Nagar                               32\n",
       "South Extension, South Extension                   31\n",
       "                                                 ... \n",
       "Opp Rajiv Chowk Metro Station, Connaught Place      1\n",
       "Connaught Circle, Connaught Place                   1\n",
       "Hanuman Road Area, Connaught Place                  1\n",
       "Chuna Mandi, Paharganj, Paharganj                   1\n",
       "South Extension, Hauz Khas                          1\n",
       "Name: location, Length: 301, dtype: int64"
      ]
     },
     "execution_count": 17,
     "metadata": {},
     "output_type": "execute_result"
    }
   ],
   "source": [
    "df['location'].value_counts()"
   ]
  },
  {
   "cell_type": "code",
   "execution_count": 18,
   "id": "56cc9287",
   "metadata": {
    "execution": {
     "iopub.execute_input": "2023-06-27T14:46:03.552853Z",
     "iopub.status.busy": "2023-06-27T14:46:03.551627Z",
     "iopub.status.idle": "2023-06-27T14:46:03.569368Z",
     "shell.execute_reply": "2023-06-27T14:46:03.568253Z"
    },
    "papermill": {
     "duration": 0.034664,
     "end_time": "2023-06-27T14:46:03.572042",
     "exception": false,
     "start_time": "2023-06-27T14:46:03.537378",
     "status": "completed"
    },
    "tags": []
   },
   "outputs": [
    {
     "data": {
      "text/plain": [
       "others                                    304\n",
       "Laxmi Nagar, Laxmi Nagar                  114\n",
       "Lajpat Nagar, Lajpat Nagar                 59\n",
       "Connaught Place, Connaught Place           33\n",
       "GTB Nagar, GTB Nagar                       32\n",
       "South Extension, South Extension           31\n",
       "Ashok Vihar, Ashok Vihar                   23\n",
       "Mayur Vihar, Mayur Vihar                   19\n",
       "South Campus, South Campus                 12\n",
       "Laxmi Nagar, Shakarpur Khas                12\n",
       "Laxmi Nagar, Krishna Nagar                 10\n",
       "Kirti Nagar, Kirti Nagar                    9\n",
       "Laxmi Nagar, Geeta Colony                   8\n",
       "South Campus, Chanakyapuri                  8\n",
       "Karol Bagh, Karol Bagh                      7\n",
       "GTB Nagar, Vijay Nagar                      6\n",
       "South Extension, South Extension I          6\n",
       "Defence Colony, Defence Colony              6\n",
       "Daryaganj, Daryaganj                        6\n",
       "GTB Nagar, Mukherjee Nagar                  5\n",
       "Gole Market, Gole Market                    5\n",
       "R.K Puram, Rama Krishna Puram               4\n",
       "South Extension, Defence Colony             4\n",
       "Karol Bagh, Paharganj                       4\n",
       "Nagar, Laxmi                                4\n",
       "Laxmi Nagar, Shahdara                       3\n",
       "Krishna Nagar, Krishna Nagar                3\n",
       "Shahdara, Shahdara                          3\n",
       "Near Metro Station, Shakarpur Khas          3\n",
       "GTB Nagar, Gtb Nagar                        3\n",
       "Safdarjung Enclave, Safdarjung Enclave      3\n",
       "Lajpat Nagar, Defence Colony                3\n",
       "Old Delhi, Old Delhi                        3\n",
       "Mayur Vihar, Patparganj                     3\n",
       "Greater Kailash 2, Lajpat Nagar             3\n",
       "Janakpuri, Janakpuri                        3\n",
       "Name: location, dtype: int64"
      ]
     },
     "execution_count": 18,
     "metadata": {},
     "output_type": "execute_result"
    }
   ],
   "source": [
    "location = df['location'].value_counts(ascending  = False)\n",
    "\n",
    "location_lessthan3 = location[location<3]\n",
    "\n",
    "def handle_location(value):\n",
    "    if(value in location_lessthan3):\n",
    "        return 'others'\n",
    "    else:\n",
    "        return value\n",
    "        \n",
    "df['location'] = df['location'].apply(handle_location)\n",
    "df['location'].value_counts()"
   ]
  },
  {
   "cell_type": "code",
   "execution_count": 19,
   "id": "7c3facfb",
   "metadata": {
    "execution": {
     "iopub.execute_input": "2023-06-27T14:46:03.600060Z",
     "iopub.status.busy": "2023-06-27T14:46:03.599535Z",
     "iopub.status.idle": "2023-06-27T14:46:03.614933Z",
     "shell.execute_reply": "2023-06-27T14:46:03.613734Z"
    },
    "papermill": {
     "duration": 0.032124,
     "end_time": "2023-06-27T14:46:03.617576",
     "exception": false,
     "start_time": "2023-06-27T14:46:03.585452",
     "status": "completed"
    },
    "tags": []
   },
   "outputs": [
    {
     "data": {
      "text/html": [
       "<div>\n",
       "<style scoped>\n",
       "    .dataframe tbody tr th:only-of-type {\n",
       "        vertical-align: middle;\n",
       "    }\n",
       "\n",
       "    .dataframe tbody tr th {\n",
       "        vertical-align: top;\n",
       "    }\n",
       "\n",
       "    .dataframe thead th {\n",
       "        text-align: right;\n",
       "    }\n",
       "</style>\n",
       "<table border=\"1\" class=\"dataframe\">\n",
       "  <thead>\n",
       "    <tr style=\"text-align: right;\">\n",
       "      <th></th>\n",
       "      <th>name</th>\n",
       "      <th>cuisine</th>\n",
       "      <th>location</th>\n",
       "      <th>rating</th>\n",
       "      <th>num_of_rating</th>\n",
       "      <th>cost2plates</th>\n",
       "    </tr>\n",
       "  </thead>\n",
       "  <tbody>\n",
       "    <tr>\n",
       "      <th>0</th>\n",
       "      <td>Momo Maker</td>\n",
       "      <td>Snacks, Tandoor</td>\n",
       "      <td>others</td>\n",
       "      <td>4.7</td>\n",
       "      <td>20+ ratings</td>\n",
       "      <td>200.0</td>\n",
       "    </tr>\n",
       "    <tr>\n",
       "      <th>1</th>\n",
       "      <td>Moets Kulfi</td>\n",
       "      <td>Desserts, Beverages</td>\n",
       "      <td>others</td>\n",
       "      <td>4.7</td>\n",
       "      <td>50+ ratings</td>\n",
       "      <td>200.0</td>\n",
       "    </tr>\n",
       "    <tr>\n",
       "      <th>2</th>\n",
       "      <td>Behrouz Biryani - Royal &amp; Safe</td>\n",
       "      <td>Biryani, Mughlai</td>\n",
       "      <td>Near Metro Station, Shakarpur Khas</td>\n",
       "      <td>4.7</td>\n",
       "      <td>1K+ ratings</td>\n",
       "      <td>500.0</td>\n",
       "    </tr>\n",
       "    <tr>\n",
       "      <th>3</th>\n",
       "      <td>Triveni Terrace Cafe</td>\n",
       "      <td>Indian</td>\n",
       "      <td>others</td>\n",
       "      <td>4.7</td>\n",
       "      <td>50+ ratings</td>\n",
       "      <td>400.0</td>\n",
       "    </tr>\n",
       "    <tr>\n",
       "      <th>4</th>\n",
       "      <td>Momo Guy</td>\n",
       "      <td>Chinese, Tibetan</td>\n",
       "      <td>GTB Nagar, GTB Nagar</td>\n",
       "      <td>4.6</td>\n",
       "      <td>20+ ratings</td>\n",
       "      <td>200.0</td>\n",
       "    </tr>\n",
       "  </tbody>\n",
       "</table>\n",
       "</div>"
      ],
      "text/plain": [
       "                             name              cuisine  \\\n",
       "0                      Momo Maker      Snacks, Tandoor   \n",
       "1                     Moets Kulfi  Desserts, Beverages   \n",
       "2  Behrouz Biryani - Royal & Safe     Biryani, Mughlai   \n",
       "3            Triveni Terrace Cafe               Indian   \n",
       "4                        Momo Guy     Chinese, Tibetan   \n",
       "\n",
       "                             location rating num_of_rating  cost2plates  \n",
       "0                              others    4.7   20+ ratings        200.0  \n",
       "1                              others    4.7   50+ ratings        200.0  \n",
       "2  Near Metro Station, Shakarpur Khas    4.7   1K+ ratings        500.0  \n",
       "3                              others    4.7   50+ ratings        400.0  \n",
       "4                GTB Nagar, GTB Nagar    4.6   20+ ratings        200.0  "
      ]
     },
     "execution_count": 19,
     "metadata": {},
     "output_type": "execute_result"
    }
   ],
   "source": [
    "df.head()"
   ]
  },
  {
   "cell_type": "code",
   "execution_count": 20,
   "id": "25c02c8e",
   "metadata": {
    "execution": {
     "iopub.execute_input": "2023-06-27T14:46:03.647153Z",
     "iopub.status.busy": "2023-06-27T14:46:03.646733Z",
     "iopub.status.idle": "2023-06-27T14:46:03.657726Z",
     "shell.execute_reply": "2023-06-27T14:46:03.656569Z"
    },
    "papermill": {
     "duration": 0.029565,
     "end_time": "2023-06-27T14:46:03.660127",
     "exception": false,
     "start_time": "2023-06-27T14:46:03.630562",
     "status": "completed"
    },
    "tags": []
   },
   "outputs": [
    {
     "data": {
      "text/plain": [
       "0                others\n",
       "1                others\n",
       "2    Near Metro Station\n",
       "3                others\n",
       "4             GTB Nagar\n",
       "Name: location, dtype: object"
      ]
     },
     "execution_count": 20,
     "metadata": {},
     "output_type": "execute_result"
    }
   ],
   "source": [
    "def handle_location(value):\n",
    "    words = value.split(',')\n",
    "    return words[0].strip()\n",
    "df['location'] = df['location'].apply(handle_location)\n",
    "df['location'].head()"
   ]
  },
  {
   "cell_type": "code",
   "execution_count": 21,
   "id": "652c065c",
   "metadata": {
    "execution": {
     "iopub.execute_input": "2023-06-27T14:46:03.688729Z",
     "iopub.status.busy": "2023-06-27T14:46:03.688326Z",
     "iopub.status.idle": "2023-06-27T14:46:03.695236Z",
     "shell.execute_reply": "2023-06-27T14:46:03.694337Z"
    },
    "papermill": {
     "duration": 0.024148,
     "end_time": "2023-06-27T14:46:03.697751",
     "exception": false,
     "start_time": "2023-06-27T14:46:03.673603",
     "status": "completed"
    },
    "tags": []
   },
   "outputs": [
    {
     "data": {
      "text/plain": [
       "array(['others', 'Near Metro Station', 'GTB Nagar', 'Laxmi Nagar',\n",
       "       'Ashok Vihar', 'Lajpat Nagar', 'South Extension', 'Daryaganj',\n",
       "       'Gole Market', 'Connaught Place', 'Kirti Nagar', 'South Campus',\n",
       "       'Old Delhi', 'Safdarjung Enclave', 'Mayur Vihar', 'Defence Colony',\n",
       "       'Greater Kailash 2', 'Karol Bagh', 'Nagar', 'Shahdara',\n",
       "       'Krishna Nagar', 'R.K Puram', 'Janakpuri'], dtype=object)"
      ]
     },
     "execution_count": 21,
     "metadata": {},
     "output_type": "execute_result"
    }
   ],
   "source": [
    "df['location'].unique()"
   ]
  },
  {
   "cell_type": "code",
   "execution_count": 22,
   "id": "d53c28c5",
   "metadata": {
    "execution": {
     "iopub.execute_input": "2023-06-27T14:46:03.728014Z",
     "iopub.status.busy": "2023-06-27T14:46:03.727615Z",
     "iopub.status.idle": "2023-06-27T14:46:03.749862Z",
     "shell.execute_reply": "2023-06-27T14:46:03.748614Z"
    },
    "papermill": {
     "duration": 0.040756,
     "end_time": "2023-06-27T14:46:03.752488",
     "exception": false,
     "start_time": "2023-06-27T14:46:03.711732",
     "status": "completed"
    },
    "tags": []
   },
   "outputs": [
    {
     "data": {
      "text/html": [
       "<div>\n",
       "<style scoped>\n",
       "    .dataframe tbody tr th:only-of-type {\n",
       "        vertical-align: middle;\n",
       "    }\n",
       "\n",
       "    .dataframe tbody tr th {\n",
       "        vertical-align: top;\n",
       "    }\n",
       "\n",
       "    .dataframe thead th {\n",
       "        text-align: right;\n",
       "    }\n",
       "</style>\n",
       "<table border=\"1\" class=\"dataframe\">\n",
       "  <thead>\n",
       "    <tr style=\"text-align: right;\">\n",
       "      <th></th>\n",
       "      <th>name</th>\n",
       "      <th>cuisine</th>\n",
       "      <th>location</th>\n",
       "      <th>rating</th>\n",
       "      <th>num_of_rating</th>\n",
       "      <th>cost2plates</th>\n",
       "      <th>zone</th>\n",
       "    </tr>\n",
       "  </thead>\n",
       "  <tbody>\n",
       "    <tr>\n",
       "      <th>0</th>\n",
       "      <td>Momo Maker</td>\n",
       "      <td>Snacks, Tandoor</td>\n",
       "      <td>others</td>\n",
       "      <td>4.7</td>\n",
       "      <td>20+ ratings</td>\n",
       "      <td>200.0</td>\n",
       "      <td>Central Delhi</td>\n",
       "    </tr>\n",
       "    <tr>\n",
       "      <th>1</th>\n",
       "      <td>Moets Kulfi</td>\n",
       "      <td>Desserts, Beverages</td>\n",
       "      <td>others</td>\n",
       "      <td>4.7</td>\n",
       "      <td>50+ ratings</td>\n",
       "      <td>200.0</td>\n",
       "      <td>Central Delhi</td>\n",
       "    </tr>\n",
       "    <tr>\n",
       "      <th>2</th>\n",
       "      <td>Behrouz Biryani - Royal &amp; Safe</td>\n",
       "      <td>Biryani, Mughlai</td>\n",
       "      <td>Near Metro Station</td>\n",
       "      <td>4.7</td>\n",
       "      <td>1K+ ratings</td>\n",
       "      <td>500.0</td>\n",
       "      <td>Central Delhi</td>\n",
       "    </tr>\n",
       "    <tr>\n",
       "      <th>3</th>\n",
       "      <td>Triveni Terrace Cafe</td>\n",
       "      <td>Indian</td>\n",
       "      <td>others</td>\n",
       "      <td>4.7</td>\n",
       "      <td>50+ ratings</td>\n",
       "      <td>400.0</td>\n",
       "      <td>Central Delhi</td>\n",
       "    </tr>\n",
       "    <tr>\n",
       "      <th>4</th>\n",
       "      <td>Momo Guy</td>\n",
       "      <td>Chinese, Tibetan</td>\n",
       "      <td>GTB Nagar</td>\n",
       "      <td>4.6</td>\n",
       "      <td>20+ ratings</td>\n",
       "      <td>200.0</td>\n",
       "      <td>North Delhi</td>\n",
       "    </tr>\n",
       "  </tbody>\n",
       "</table>\n",
       "</div>"
      ],
      "text/plain": [
       "                             name              cuisine            location  \\\n",
       "0                      Momo Maker      Snacks, Tandoor              others   \n",
       "1                     Moets Kulfi  Desserts, Beverages              others   \n",
       "2  Behrouz Biryani - Royal & Safe     Biryani, Mughlai  Near Metro Station   \n",
       "3            Triveni Terrace Cafe               Indian              others   \n",
       "4                        Momo Guy     Chinese, Tibetan           GTB Nagar   \n",
       "\n",
       "  rating num_of_rating  cost2plates           zone  \n",
       "0    4.7   20+ ratings        200.0  Central Delhi  \n",
       "1    4.7   50+ ratings        200.0  Central Delhi  \n",
       "2    4.7   1K+ ratings        500.0  Central Delhi  \n",
       "3    4.7   50+ ratings        400.0  Central Delhi  \n",
       "4    4.6   20+ ratings        200.0    North Delhi  "
      ]
     },
     "execution_count": 22,
     "metadata": {},
     "output_type": "execute_result"
    }
   ],
   "source": [
    "zoneDict = {'others':'Central Delhi', 'GTB Nagar':'North Delhi', 'South Extension':'South Delhi', 'Connaught Place':'Central Delhi',\n",
    "       'Laxmi Nagar':'East Delhi','Near Metro Station':'Central Delhi', 'Lajpat Nagar':'East Delhi','Ashok Vihar':'West Delhi','Daryaganj':'Central Delhi',\n",
    "       'Gole Market':'Central Delhi', 'Kirti Nagar':'West Delhi', 'South Campus':'South',\n",
    "       'Old Delhi':'Central Delhi', 'Safdarjung Enclave':'South Delhi', 'Mayur Vihar':'East Delhi', 'Defence Colony':'East Delhi',\n",
    "       'Greater Kailash 2':'South Delhi', 'Karol Bagh':'Central Delhi', 'Nagar':'Central Delhi', 'Shahdara':'North Delhi',\n",
    "       'Krishna Nagar':'East Delhi', 'R.K Puram':'South Delhi', 'Janakpuri':'West Delhi' }\n",
    "df[\"zone\"] = df[\"location\"].map(zoneDict)\n",
    "df.head()"
   ]
  },
  {
   "cell_type": "code",
   "execution_count": 23,
   "id": "6ad1fa47",
   "metadata": {
    "execution": {
     "iopub.execute_input": "2023-06-27T14:46:03.782069Z",
     "iopub.status.busy": "2023-06-27T14:46:03.781663Z",
     "iopub.status.idle": "2023-06-27T14:46:03.789388Z",
     "shell.execute_reply": "2023-06-27T14:46:03.788198Z"
    },
    "papermill": {
     "duration": 0.025632,
     "end_time": "2023-06-27T14:46:03.792060",
     "exception": false,
     "start_time": "2023-06-27T14:46:03.766428",
     "status": "completed"
    },
    "tags": []
   },
   "outputs": [
    {
     "data": {
      "text/plain": [
       "array([ 200.,  500.,  400.,  150.,  350.,  600.,  300., 1500., 1400.,\n",
       "        800.,  250.,  120.,  100.,  550.,  450., 1200.,  220., 1100.,\n",
       "        900.,  180., 1000., 1800.,  225.,  850.,  700.,  229.,  160.,\n",
       "        270., 1050.,  149.,  299.,  499.,   80.,   75.,  430., 1300.,\n",
       "         99.,  280.,  240.,  750.,  399.])"
      ]
     },
     "execution_count": 23,
     "metadata": {},
     "output_type": "execute_result"
    }
   ],
   "source": [
    "df['cost2plates'].unique()"
   ]
  },
  {
   "cell_type": "code",
   "execution_count": 24,
   "id": "822eeb9b",
   "metadata": {
    "execution": {
     "iopub.execute_input": "2023-06-27T14:46:03.821919Z",
     "iopub.status.busy": "2023-06-27T14:46:03.821488Z",
     "iopub.status.idle": "2023-06-27T14:46:03.841938Z",
     "shell.execute_reply": "2023-06-27T14:46:03.840771Z"
    },
    "papermill": {
     "duration": 0.038234,
     "end_time": "2023-06-27T14:46:03.844711",
     "exception": false,
     "start_time": "2023-06-27T14:46:03.806477",
     "status": "completed"
    },
    "tags": []
   },
   "outputs": [
    {
     "data": {
      "text/html": [
       "<div>\n",
       "<style scoped>\n",
       "    .dataframe tbody tr th:only-of-type {\n",
       "        vertical-align: middle;\n",
       "    }\n",
       "\n",
       "    .dataframe tbody tr th {\n",
       "        vertical-align: top;\n",
       "    }\n",
       "\n",
       "    .dataframe thead th {\n",
       "        text-align: right;\n",
       "    }\n",
       "</style>\n",
       "<table border=\"1\" class=\"dataframe\">\n",
       "  <thead>\n",
       "    <tr style=\"text-align: right;\">\n",
       "      <th></th>\n",
       "      <th>name</th>\n",
       "      <th>cuisine</th>\n",
       "      <th>location</th>\n",
       "      <th>rating</th>\n",
       "      <th>num_of_rating</th>\n",
       "      <th>cost2plates</th>\n",
       "      <th>zone</th>\n",
       "      <th>price_range</th>\n",
       "    </tr>\n",
       "  </thead>\n",
       "  <tbody>\n",
       "    <tr>\n",
       "      <th>0</th>\n",
       "      <td>Momo Maker</td>\n",
       "      <td>Snacks, Tandoor</td>\n",
       "      <td>others</td>\n",
       "      <td>4.7</td>\n",
       "      <td>20+ ratings</td>\n",
       "      <td>200.0</td>\n",
       "      <td>Central Delhi</td>\n",
       "      <td>₹</td>\n",
       "    </tr>\n",
       "    <tr>\n",
       "      <th>1</th>\n",
       "      <td>Moets Kulfi</td>\n",
       "      <td>Desserts, Beverages</td>\n",
       "      <td>others</td>\n",
       "      <td>4.7</td>\n",
       "      <td>50+ ratings</td>\n",
       "      <td>200.0</td>\n",
       "      <td>Central Delhi</td>\n",
       "      <td>₹</td>\n",
       "    </tr>\n",
       "    <tr>\n",
       "      <th>2</th>\n",
       "      <td>Behrouz Biryani - Royal &amp; Safe</td>\n",
       "      <td>Biryani, Mughlai</td>\n",
       "      <td>Near Metro Station</td>\n",
       "      <td>4.7</td>\n",
       "      <td>1K+ ratings</td>\n",
       "      <td>500.0</td>\n",
       "      <td>Central Delhi</td>\n",
       "      <td>₹₹</td>\n",
       "    </tr>\n",
       "    <tr>\n",
       "      <th>3</th>\n",
       "      <td>Triveni Terrace Cafe</td>\n",
       "      <td>Indian</td>\n",
       "      <td>others</td>\n",
       "      <td>4.7</td>\n",
       "      <td>50+ ratings</td>\n",
       "      <td>400.0</td>\n",
       "      <td>Central Delhi</td>\n",
       "      <td>₹</td>\n",
       "    </tr>\n",
       "    <tr>\n",
       "      <th>4</th>\n",
       "      <td>Momo Guy</td>\n",
       "      <td>Chinese, Tibetan</td>\n",
       "      <td>GTB Nagar</td>\n",
       "      <td>4.6</td>\n",
       "      <td>20+ ratings</td>\n",
       "      <td>200.0</td>\n",
       "      <td>North Delhi</td>\n",
       "      <td>₹</td>\n",
       "    </tr>\n",
       "  </tbody>\n",
       "</table>\n",
       "</div>"
      ],
      "text/plain": [
       "                             name              cuisine            location  \\\n",
       "0                      Momo Maker      Snacks, Tandoor              others   \n",
       "1                     Moets Kulfi  Desserts, Beverages              others   \n",
       "2  Behrouz Biryani - Royal & Safe     Biryani, Mughlai  Near Metro Station   \n",
       "3            Triveni Terrace Cafe               Indian              others   \n",
       "4                        Momo Guy     Chinese, Tibetan           GTB Nagar   \n",
       "\n",
       "  rating num_of_rating  cost2plates           zone price_range  \n",
       "0    4.7   20+ ratings        200.0  Central Delhi           ₹  \n",
       "1    4.7   50+ ratings        200.0  Central Delhi           ₹  \n",
       "2    4.7   1K+ ratings        500.0  Central Delhi          ₹₹  \n",
       "3    4.7   50+ ratings        400.0  Central Delhi           ₹  \n",
       "4    4.6   20+ ratings        200.0    North Delhi           ₹  "
      ]
     },
     "execution_count": 24,
     "metadata": {},
     "output_type": "execute_result"
    }
   ],
   "source": [
    "df.loc[df[\"cost2plates\"] <= 400, \"price_range\"] = \"₹\"\n",
    "df.loc[df[\"cost2plates\"] >400, \"price_range\"] = \"₹₹\"\n",
    "df.loc[df[\"cost2plates\"] >=1000, \"price_range\"] = \"₹₹₹\"\n",
    "df.head()"
   ]
  },
  {
   "cell_type": "code",
   "execution_count": null,
   "id": "a4249300",
   "metadata": {
    "papermill": {
     "duration": 0.013729,
     "end_time": "2023-06-27T14:46:03.872731",
     "exception": false,
     "start_time": "2023-06-27T14:46:03.859002",
     "status": "completed"
    },
    "tags": []
   },
   "outputs": [],
   "source": []
  }
 ],
 "metadata": {
  "kernelspec": {
   "display_name": "Python 3",
   "language": "python",
   "name": "python3"
  },
  "language_info": {
   "codemirror_mode": {
    "name": "ipython",
    "version": 3
   },
   "file_extension": ".py",
   "mimetype": "text/x-python",
   "name": "python",
   "nbconvert_exporter": "python",
   "pygments_lexer": "ipython3",
   "version": "3.10.10"
  },
  "papermill": {
   "default_parameters": {},
   "duration": 17.155611,
   "end_time": "2023-06-27T14:46:04.910111",
   "environment_variables": {},
   "exception": null,
   "input_path": "__notebook__.ipynb",
   "output_path": "__notebook__.ipynb",
   "parameters": {},
   "start_time": "2023-06-27T14:45:47.754500",
   "version": "2.4.0"
  }
 },
 "nbformat": 4,
 "nbformat_minor": 5
}
